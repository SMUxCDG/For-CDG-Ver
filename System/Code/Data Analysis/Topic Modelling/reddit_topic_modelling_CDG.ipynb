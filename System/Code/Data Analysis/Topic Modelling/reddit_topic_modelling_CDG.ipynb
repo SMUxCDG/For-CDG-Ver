{
 "cells": [
  {
   "cell_type": "markdown",
   "metadata": {},
   "source": [
    "# Import Libraries"
   ]
  },
  {
   "cell_type": "code",
   "execution_count": 1,
   "metadata": {},
   "outputs": [
    {
     "name": "stdout",
     "output_type": "stream",
     "text": [
      "✔ Download and installation successful\n",
      "You can now load the package via spacy.load('en_core_web_sm')\n"
     ]
    },
    {
     "name": "stderr",
     "output_type": "stream",
     "text": [
      "C:\\Users\\ivyha\\AppData\\Roaming\\Python\\Python37\\site-packages\\ipykernel\\pylab\\config.py:70: DeprecationWarning: InlineBackend._figure_formats_changed is deprecated in traitlets 4.1: use @observe and @unobserve instead.\n",
      "  def _figure_formats_changed(self, name, old, new):\n",
      "[nltk_data] Downloading package stopwords to\n",
      "[nltk_data]     C:\\Users\\ivyha\\AppData\\Roaming\\nltk_data...\n",
      "[nltk_data]   Package stopwords is already up-to-date!\n",
      "[nltk_data] Downloading package words to\n",
      "[nltk_data]     C:\\Users\\ivyha\\AppData\\Roaming\\nltk_data...\n",
      "[nltk_data]   Package words is already up-to-date!\n"
     ]
    }
   ],
   "source": [
    "# Run in python console\n",
    "import re\n",
    "import numpy as np\n",
    "import pandas as pd\n",
    "from pprint import pprint\n",
    "\n",
    "# Gensim (Topic Modeling Pacakge)\n",
    "import gensim\n",
    "import gensim.corpora as corpora\n",
    "from gensim.utils import simple_preprocess\n",
    "from gensim.models import CoherenceModel\n",
    "\n",
    "# spacy for lemmatization\n",
    "import spacy\n",
    "from spacy.lang.en.examples import sentences \n",
    "spacy.cli.download(\"en_core_web_sm\")\n",
    "\n",
    "# Plotting tools\n",
    "import pyLDAvis\n",
    "from gensim.models.ldamodel import LdaModel\n",
    "import pyLDAvis.gensim # don't skip this\n",
    "from gensim.models import CoherenceModel\n",
    "import matplotlib.pyplot as plt\n",
    "%matplotlib inline\n",
    "\n",
    "# Enable logging for gensim - optional\n",
    "import logging\n",
    "logging.basicConfig(format='%(asctime)s : %(levelname)s : %(message)s', level=logging.ERROR)\n",
    "\n",
    "import warnings\n",
    "warnings.filterwarnings(\"ignore\",category=DeprecationWarning)\n",
    "\n",
    "# NLTK Stop words\n",
    "import nltk\n",
    "nltk.download('stopwords')\n",
    "from nltk.corpus import stopwords\n",
    "stop_words = stopwords.words('english')\n",
    "nltk.download('words')\n",
    "words = set(nltk.corpus.words.words())"
   ]
  },
  {
   "cell_type": "code",
   "execution_count": 2,
   "metadata": {},
   "outputs": [],
   "source": [
    "# Stopwords will be loaded here\n",
    "# Do edit the stopwords you wish to use in the code below\n",
    "\n",
    "stop_new = ['mrt', 'station', 'see', 'bus', 'buses', 'line', 'account', 'one', 'full',\n",
    "                     'get', 'min', 'class', 'year', 'pm', '', 'take', 'taxi', 'allow', 'last', 'almost',\n",
    "                     'post', 'start', 'cross', 'car_rental', 'comfortdelgro', 'singapore', 'grab',\n",
    "                     'night', 'find', 'need', 'build', 'photo', 'video', 'leave', 'car', 'train', \n",
    "                     'think', 'food', 'make', 'set', 'fresh', 'sbs', 'driver', 'delgro', 'comfort',  \n",
    "                     'move',  'ever', 'blue', 'uber', 'go', 'look', 'use', 'also', 'give', \n",
    "                     'many', 'come', 'lot', 'seem', 'guess', 'definitely', 'sure', 'keep', 'much', 'already', \n",
    "                     'do', 'lol', 'people', 'well', 'back', 'week', 'u', 'want', 'day', 'will', 'know', \n",
    "                     'even', 'really', 'said', 'say', 'cab', 'public transport', 'taxis', 'public', \n",
    "                     'transport', 'thing', 'still', 'got', 'now', 's', 'stop', 'around', 'another', \n",
    "                     'smrt', 'next', 'us', 'may', 'person', 'years', 'going', 'trains', 'way', \n",
    "                     'seat', 'guy', 'https', 'always', 'riders', 'cabbie', 'sg', 'drivers', 'auntie', 'man', \n",
    "                     'uncle', 'stops', 'someone', 'something', 'andy', 'cabs', 'cabbies', 'order', 'delivery', \n",
    "                     'gojek', 'quite','fucking', 'every', 'getting', 'trying', 'told', 'something', 'singaporean', \n",
    "                     'feel', 'lta', 'fuck', 'without', 'let', 'made', 'getting', 'passenger', 'restaurant', 'grabfood', \n",
    "                     'merchant', 'don', 't', 'customer', 'cars', 'actually', 'senior', 'entrepreneur', 'rental', 'cars', 'current']\n",
    "\n",
    "stop_words.extend(stop_new)"
   ]
  },
  {
   "cell_type": "markdown",
   "metadata": {},
   "source": [
    "# Import DataFrame"
   ]
  },
  {
   "cell_type": "code",
   "execution_count": 3,
   "metadata": {},
   "outputs": [],
   "source": [
    "# The code will import the sentiment dataframe \n",
    "# Do edit the path file to specify where you have saved the file\n",
    "\n",
    "df_clean_cat_bcovid = pd.read_csv(r'df_clean_cat_bcovid_sent.csv')\n",
    "df_clean_cat_acovid = pd.read_csv(r'df_clean_cat_acovid_sent.csv')\n",
    "df_clean_cat_all = pd.read_csv(r'df_clean_cat_all_sent.csv')"
   ]
  },
  {
   "cell_type": "markdown",
   "metadata": {},
   "source": [
    "# Prepare DataFrame for Topic Modelling"
   ]
  },
  {
   "cell_type": "code",
   "execution_count": 4,
   "metadata": {},
   "outputs": [],
   "source": [
    "# These data will get the text column and convert it to list\n",
    "# If you wish to get the text from a specific sentiment you can use the code below\n",
    "# df.loc[df['sentiment'] == ' Negative, 'text'].values.tolist()\n",
    "\n",
    "df_bcovid_data = df_clean_cat_bcovid.text.values.tolist()\n",
    "df_acovid_data = df_clean_cat_acovid.text.values.tolist()\n",
    "df_all_data = df_clean_cat_all.text.values.tolist()"
   ]
  },
  {
   "cell_type": "markdown",
   "metadata": {},
   "source": [
    "# Tokenize Each Sentence"
   ]
  },
  {
   "cell_type": "markdown",
   "metadata": {},
   "source": [
    "Let’s tokenize each sentence into a list of words, removing punctuations and unnecessary characters altogether.\n",
    "\n",
    "Gensim’s simple_preprocess() is great for this.\n",
    "Additionally I have set deacc=True to remove the punctuations."
   ]
  },
  {
   "cell_type": "markdown",
   "metadata": {},
   "source": [
    "### Create Function"
   ]
  },
  {
   "cell_type": "code",
   "execution_count": 5,
   "metadata": {},
   "outputs": [],
   "source": [
    "def sent_to_words(sentences):\n",
    "    for sentence in sentences:\n",
    "        yield(gensim.utils.simple_preprocess(str(sentence), deacc=True))  # deacc=True removes punctuations"
   ]
  },
  {
   "cell_type": "markdown",
   "metadata": {},
   "source": [
    "### Execute Function"
   ]
  },
  {
   "cell_type": "code",
   "execution_count": 6,
   "metadata": {},
   "outputs": [],
   "source": [
    "df_bcovid_data_words = list(sent_to_words(df_bcovid_data))\n",
    "df_acovid_data_words = list(sent_to_words(df_acovid_data))\n",
    "df_all_data_words = list(sent_to_words(df_all_data))"
   ]
  },
  {
   "cell_type": "markdown",
   "metadata": {},
   "source": [
    "# Build Bigram and Trigram Models\n",
    "\n",
    "Bigrams are two words frequently occurring together in the document.\n",
    "Trigrams are 3 words frequently occurring.\n",
    "\n",
    "Some examples in our example are: ‘front_bumper’, ‘oil_leak’, ‘maryland_college_park’ etc.\n",
    "\n",
    "Gensim’s Phrases model can build and implement the bigrams, trigrams, \n",
    "quadgrams and more.\n",
    "\n",
    "The two important arguments to Phrases are min_count and threshold.\n",
    "The higher the values of these param, the harder it is for words to be combined to bigrams."
   ]
  },
  {
   "cell_type": "markdown",
   "metadata": {},
   "source": [
    "## Before Covid"
   ]
  },
  {
   "cell_type": "code",
   "execution_count": 7,
   "metadata": {},
   "outputs": [
    {
     "name": "stdout",
     "output_type": "stream",
     "text": [
      "['so', 'on', 'my', 'way', 'back', 'home', 'my', 'taxi', 'broke', 'down', 'walked', 'the', 'highway', 'and', 'random', 'uncle', 'offered', 'to', 'send', 'me', 'back']\n"
     ]
    }
   ],
   "source": [
    "# Build the bigram and trigram models\n",
    "df_bcovid_data_bigram = gensim.models.Phrases(df_bcovid_data_words, min_count=5, threshold=100) # higher threshold fewer phrases.\n",
    "df_bcovid_data_trigram = gensim.models.Phrases(df_bcovid_data_bigram[df_bcovid_data_words], threshold=100)  \n",
    "\n",
    "# Faster way to get a sentence clubbed as a trigram/bigram\n",
    "df_bcovid_data_bigram_mod = gensim.models.phrases.Phraser(df_bcovid_data_bigram)\n",
    "df_bcovid_data_trigram_mod = gensim.models.phrases.Phraser(df_bcovid_data_trigram)\n",
    "\n",
    "# See trigram example\n",
    "#print(overall_acovid_title_data_trigram_mod[overall_acovid_title_data_bigram_mod])\n",
    "print(df_bcovid_data_trigram_mod[df_bcovid_data_bigram_mod[df_bcovid_data_words[1]]])"
   ]
  },
  {
   "cell_type": "markdown",
   "metadata": {},
   "source": [
    "## After Covid"
   ]
  },
  {
   "cell_type": "code",
   "execution_count": 8,
   "metadata": {},
   "outputs": [
    {
     "name": "stdout",
     "output_type": "stream",
     "text": [
      "['new', 'cabinet', 'announcement']\n"
     ]
    }
   ],
   "source": [
    "# Build the bigram and trigram models\n",
    "df_acovid_data_bigram = gensim.models.Phrases(df_acovid_data_words, min_count=5, threshold=100) # higher threshold fewer phrases.\n",
    "df_acovid_data_trigram = gensim.models.Phrases(df_acovid_data_bigram[df_acovid_data_words], threshold=100)  \n",
    "\n",
    "# Faster way to get a sentence clubbed as a trigram/bigram\n",
    "df_acovid_data_bigram_mod = gensim.models.phrases.Phraser(df_acovid_data_bigram)\n",
    "df_acovid_data_trigram_mod = gensim.models.phrases.Phraser(df_acovid_data_trigram)\n",
    "\n",
    "# See trigram example\n",
    "#print(overall_acovid_title_data_trigram_mod[overall_acovid_title_data_bigram_mod])\n",
    "print(df_acovid_data_trigram_mod[df_acovid_data_bigram_mod[df_acovid_data_words[1]]])"
   ]
  },
  {
   "cell_type": "markdown",
   "metadata": {},
   "source": [
    "## All"
   ]
  },
  {
   "cell_type": "code",
   "execution_count": null,
   "metadata": {},
   "outputs": [
    {
     "name": "stdout",
     "output_type": "stream",
     "text": [
      "['new', 'cabinet', 'announcement']\n"
     ]
    }
   ],
   "source": [
    "# Build the bigram and trigram models\n",
    "df_all_data_bigram = gensim.models.Phrases(df_all_data_words, min_count=5, threshold=100) # higher threshold fewer phrases.\n",
    "df_all_data_trigram = gensim.models.Phrases(df_all_data_bigram[df_all_data_words], threshold=100)  \n",
    "\n",
    "# Faster way to get a sentence clubbed as a trigram/bigram\n",
    "df_all_data_bigram_mod = gensim.models.phrases.Phraser(df_all_data_bigram)\n",
    "df_all_data_trigram_mod = gensim.models.phrases.Phraser(df_all_data_trigram)\n",
    "\n",
    "# See trigram example\n",
    "#print(overall_acovid_title_data_trigram_mod[overall_acovid_title_data_bigram_mod])\n",
    "print(df_all_data_trigram_mod[df_all_data_bigram_mod[df_all_data_words[1]]])"
   ]
  },
  {
   "cell_type": "markdown",
   "metadata": {},
   "source": [
    "# Define Functions"
   ]
  },
  {
   "cell_type": "markdown",
   "metadata": {},
   "source": [
    "The bigrams model is ready. Let’s define the functions to remove the stopwords, \n",
    "make bigrams and lemmatization and call them sequentially."
   ]
  },
  {
   "cell_type": "code",
   "execution_count": 19,
   "metadata": {},
   "outputs": [],
   "source": [
    "# Define functions for stopwords, bigrams, trigrams and lemmatization\n",
    "def remove_stopwords(texts):\n",
    "\n",
    "    return [[word for word in simple_preprocess(str(doc)) if word not in stop_words] for doc in texts]\n",
    "\n",
    "def make_bigrams(texts, bigram_mod):\n",
    "    return [bigram_mod[doc] for doc in texts]\n",
    "\n",
    "def make_trigrams(texts, trigram_mod, bigram_mod):\n",
    "    return [trigram_mod[bigram_mod[doc]] for doc in texts]\n",
    "\n",
    "def lemmatization(texts, allowed_postags=['NOUN', 'ADJ', 'VERB', 'ADV']):\n",
    "    \"\"\"https://spacy.io/api/annotation\"\"\"\n",
    "    texts_out = []\n",
    "    for sent in texts:\n",
    "        doc = nlp(\" \".join(sent)) \n",
    "        texts_out.append([token.lemma_ for token in doc if token.pos_ in allowed_postags])\n",
    "    return texts_out"
   ]
  },
  {
   "cell_type": "markdown",
   "metadata": {},
   "source": [
    "# Call the Functions"
   ]
  },
  {
   "cell_type": "markdown",
   "metadata": {},
   "source": [
    "## Before Covid"
   ]
  },
  {
   "cell_type": "code",
   "execution_count": 20,
   "metadata": {},
   "outputs": [
    {
     "name": "stdout",
     "output_type": "stream",
     "text": [
      "[['understand', 'find', 'picture', 'take', 'ago']]\n"
     ]
    }
   ],
   "source": [
    "# Remove Stop Words\n",
    "df_bcovid_data_words_nostops = remove_stopwords(df_bcovid_data_words)\n",
    "\n",
    "# Form Bigrams\n",
    "df_bcovid_data_words_bigrams = make_bigrams(df_bcovid_data_words_nostops, df_bcovid_data_bigram_mod)\n",
    "\n",
    "# Initialize spacy 'en' model, keeping only tagger component (for efficiency)\n",
    "# python3 -m spacy download en\n",
    "nlp = spacy.load(\"en_core_web_sm\", disable=['parser', 'ner'])\n",
    "\n",
    "# Do lemmatization keeping only noun, adj, vb, adv\n",
    "df_bcovid_data_lemmatized = lemmatization(df_bcovid_data_words_bigrams, allowed_postags=['NOUN', 'ADJ', 'VERB', 'ADV'])\n",
    "\n",
    "print(df_bcovid_data_lemmatized[:1])"
   ]
  },
  {
   "cell_type": "markdown",
   "metadata": {},
   "source": [
    "## After Covid"
   ]
  },
  {
   "cell_type": "code",
   "execution_count": 21,
   "metadata": {},
   "outputs": [
    {
     "name": "stdout",
     "output_type": "stream",
     "text": [
      "[['old', 'crown', 'stack', 'scrap']]\n"
     ]
    }
   ],
   "source": [
    "# Remove Stop Words\n",
    "df_acovid_data_words_nostops = remove_stopwords(df_acovid_data_words)\n",
    "\n",
    "# Form Bigrams\n",
    "df_acovid_data_words_bigrams = make_bigrams(df_acovid_data_words_nostops, df_acovid_data_bigram_mod)\n",
    "\n",
    "# Initialize spacy 'en' model, keeping only tagger component (for efficiency)\n",
    "# python3 -m spacy download en\n",
    "nlp = spacy.load(\"en_core_web_sm\", disable=['parser', 'ner'])\n",
    "\n",
    "# Do lemmatization keeping only noun, adj, vb, adv\n",
    "df_acovid_data_lemmatized = lemmatization(df_acovid_data_words_bigrams, allowed_postags=['NOUN', 'ADJ', 'VERB', 'ADV'])\n",
    "\n",
    "print(df_acovid_data_lemmatized[:1])"
   ]
  },
  {
   "cell_type": "markdown",
   "metadata": {},
   "source": [
    "## All"
   ]
  },
  {
   "cell_type": "code",
   "execution_count": null,
   "metadata": {},
   "outputs": [
    {
     "name": "stdout",
     "output_type": "stream",
     "text": [
      "[['old', 'crown', 'stack', 'scrap']]\n"
     ]
    }
   ],
   "source": [
    "# Remove Stop Words\n",
    "df_all_data_words_nostops = remove_stopwords(df_all_data_words)\n",
    "\n",
    "# Form Bigrams\n",
    "df_all_data_words_bigrams = make_bigrams(df_all_data_words_nostops, df_all_data_bigram_mod)\n",
    "\n",
    "# Initialize spacy 'en' model, keeping only tagger component (for efficiency)\n",
    "# python3 -m spacy download en\n",
    "nlp = spacy.load(\"en_core_web_sm\", disable=['parser', 'ner'])\n",
    "\n",
    "# Do lemmatization keeping only noun, adj, vb, adv\n",
    "df_all_data_lemmatized = lemmatization(df_all_data_words_bigrams, allowed_postags=['NOUN', 'ADJ', 'VERB', 'ADV'])\n",
    "\n",
    "print(df_all_data_lemmatized[:1])"
   ]
  },
  {
   "cell_type": "markdown",
   "metadata": {},
   "source": [
    "# The two main inputs to the LDA topic model are the dictionary(id2word) and the corpus.\n",
    "# Let’s create them."
   ]
  },
  {
   "cell_type": "markdown",
   "metadata": {},
   "source": [
    "## Before Covid"
   ]
  },
  {
   "cell_type": "code",
   "execution_count": 32,
   "metadata": {},
   "outputs": [
    {
     "name": "stdout",
     "output_type": "stream",
     "text": [
      "[[(0, 1), (1, 1), (2, 1), (3, 1), (4, 1)]]\n"
     ]
    }
   ],
   "source": [
    "# Create Dictionary\n",
    "df_bcovid_data_id2word = corpora.Dictionary(df_bcovid_data_lemmatized)\n",
    "\n",
    "# Create Corpus\n",
    "df_bcovid_data_texts = df_bcovid_data_lemmatized\n",
    "\n",
    "# Term Document Frequency\n",
    "df_bcovid_data_corpus = [df_bcovid_data_id2word.doc2bow(text) for text in df_bcovid_data_texts]\n",
    "\n",
    "# View\n",
    "print(df_bcovid_data_corpus[:1])"
   ]
  },
  {
   "cell_type": "markdown",
   "metadata": {},
   "source": [
    "## After Covid"
   ]
  },
  {
   "cell_type": "code",
   "execution_count": 33,
   "metadata": {},
   "outputs": [
    {
     "name": "stdout",
     "output_type": "stream",
     "text": [
      "[[(0, 1), (1, 1), (2, 1), (3, 1)]]\n"
     ]
    }
   ],
   "source": [
    "# Create Dictionary\n",
    "df_acovid_data_id2word = corpora.Dictionary(df_acovid_data_lemmatized)\n",
    "\n",
    "# Create Corpus\n",
    "df_acovid_data_texts = df_acovid_data_lemmatized\n",
    "\n",
    "# Term Document Frequency\n",
    "df_acovid_data_corpus = [df_acovid_data_id2word.doc2bow(text) for text in df_acovid_data_texts]\n",
    "\n",
    "# View\n",
    "print(df_acovid_data_corpus[:1])"
   ]
  },
  {
   "cell_type": "markdown",
   "metadata": {},
   "source": [
    "## All"
   ]
  },
  {
   "cell_type": "code",
   "execution_count": null,
   "metadata": {},
   "outputs": [
    {
     "name": "stdout",
     "output_type": "stream",
     "text": [
      "[[(0, 1), (1, 1), (2, 1), (3, 1)]]\n"
     ]
    }
   ],
   "source": [
    "# Create Dictionary\n",
    "df_all_data_id2word = corpora.Dictionary(df_all_data_lemmatized)\n",
    "\n",
    "# Create Corpus\n",
    "df_all_data_texts = df_all_data_lemmatized\n",
    "\n",
    "# Term Document Frequency\n",
    "df_all_data_corpus = [df_all_data_id2word.doc2bow(text) for text in df_all_data_texts]\n",
    "\n",
    "# View\n",
    "print(df_all_data_corpus[:1])"
   ]
  },
  {
   "cell_type": "markdown",
   "metadata": {},
   "source": [
    "# Build the Topic Model"
   ]
  },
  {
   "cell_type": "markdown",
   "metadata": {},
   "source": [
    "Gensim creates a unique id for each word in the document.\n",
    "The produced corpus shown above is a mapping of (word_id, word_frequency).\n",
    "\n",
    "For example, (0, 1) above implies, word id 0 occurs once in the first document.\n",
    "\n",
    "Likewise, word id 1 occurs twice and so on.\n",
    "\n",
    "This is used as the input by the LDA model.\n",
    "\n",
    "If you want to see what word a given id corresponds to, pass the id as a key to the dictionary.\n",
    "\n",
    "id2word[0]\n",
    "'addition'\n",
    "\n",
    "Or, you can see a human-readable form of the corpus itself.\n",
    "\n",
    "# Human readable format of corpus (term-frequency)\n",
    "[[(id2word[id], freq) for id, freq in cp] for cp in corpus[:1]]\n",
    "\n",
    "[[('addition', 1),\n",
    "  ('anyone', 2),\n",
    "  ('body', 1),\n",
    "  ('bricklin', 1),\n",
    "  ('bring', 1),\n",
    "  ('call', 1),\n",
    "  ('car', 5),\n",
    "  ('could', 1),\n",
    "  ('day', 1),\n",
    "  ('door', 2),\n",
    "  ('early', 1),\n",
    "  ('engine', 1),\n",
    "  ('enlighten', 1),\n",
    "  ('front_bumper', 1),\n",
    "  ('maryland_college', 1),\n",
    "  (..truncated..)]]\n",
    "\n",
    "\n",
    "Alright, without digressing further let’s jump back on track with the next step:\n",
    "\n",
    "Building the topic model."
   ]
  },
  {
   "cell_type": "markdown",
   "metadata": {},
   "source": [
    "We have everything required to train the LDA model.\n",
    "In addition to the corpus and dictionary, you need to provide the number of topics as well.\n",
    "\n",
    "Apart from that, alpha and eta are hyperparameters that affect sparsity of the topics.\n",
    "According to the Gensim docs, both defaults to 1.0/num_topics prior.\n",
    "\n",
    "chunksize is the number of documents to be used in each training chunk.\n",
    "\n",
    "update_every determines how often the model parameters should be updated and \n",
    "passes is the total number of training passes."
   ]
  },
  {
   "cell_type": "code",
   "execution_count": 44,
   "metadata": {},
   "outputs": [],
   "source": [
    "# Build LDA model\n",
    "def lda_model(corpus, id2word, n_topics):\n",
    "\n",
    "    model = gensim.models.ldamodel.LdaModel(corpus=corpus,\n",
    "                                           id2word=id2word,\n",
    "                                           num_topics=n_topics, \n",
    "                                           random_state=100,\n",
    "                                           update_every=1,\n",
    "                                           chunksize=100,\n",
    "                                           passes=10,\n",
    "                                           alpha='auto',\n",
    "                                           per_word_topics=True)\n",
    "    return model"
   ]
  },
  {
   "cell_type": "markdown",
   "metadata": {},
   "source": [
    "The above LDA model is built with 20 different topics where each topic is a \n",
    "combination of keywords and each keyword contributes a certain weightage to the topic.\n",
    "\n",
    "You can see the keywords for each topic and the weightage(importance) of \n",
    "each keyword using lda_model.print_topics() as shown next."
   ]
  },
  {
   "cell_type": "markdown",
   "metadata": {},
   "source": [
    "The output will look like this...\n",
    "\n",
    "\n",
    "[(0,\n",
    "  '0.016*\"car\" + 0.014*\"power\" + 0.010*\"light\" + 0.009*\"drive\" + 0.007*\"mount\" '\n",
    "  '+ 0.007*\"controller\" + 0.007*\"cool\" + 0.007*\"engine\" + 0.007*\"back\" + '\n",
    "  '0.006*\"turn\"'),\n",
    " (1,\n",
    "  '0.072*\"line\" + 0.066*\"organization\" + 0.037*\"write\" + 0.032*\"article\" + '\n",
    "  '0.028*\"university\" + 0.027*\"nntp_post\" + 0.026*\"host\" + 0.016*\"reply\" + '\n",
    "  '0.014*\"get\" + 0.013*\"thank\"'),\n",
    " (2,\n",
    "  '0.017*\"patient\" + 0.011*\"study\" + 0.010*\"slave\" + 0.009*\"wing\" + '\n",
    "  '0.009*\"disease\" + 0.008*\"food\" + 0.008*\"eat\" + 0.008*\"pain\" + '\n",
    "  '0.007*\"treatment\" + 0.007*\"syndrome\"'),\n",
    " (3,\n",
    "  '0.013*\"key\" + 0.009*\"use\" + 0.009*\"may\" + 0.007*\"public\" + 0.007*\"system\" + '\n",
    "  '0.007*\"order\" + 0.007*\"government\" + 0.006*\"state\" + 0.006*\"provide\" + '\n",
    "  '0.006*\"law\"'),\n",
    "  \n",
    "  so on...\n",
    "\n",
    "\n",
    "\n",
    "How to interpret this?\n",
    "\n",
    "Topic 0 is a represented as _\n",
    "\n",
    "0.016“car” + 0.014“power” + 0.010“light” + 0.009“drive” \n",
    "+ 0.007“mount” + 0.007“controller” + 0.007“cool” + 0.007“engine” \n",
    "+ 0.007“back” + ‘0.006“turn”.\n",
    "\n",
    "It means the top 10 keywords that contribute to this topic are:\n",
    "‘car’, ‘power’, ‘light’.. and so on\n",
    "and the weight of ‘car’ on topic 0 is 0.016.\n",
    "\n",
    "--> The weights reflect how important a keyword is to that topic.\n",
    "\n",
    "Looking at these keywords, can you guess what this topic could be?\n",
    "You may summarise it either are ‘cars’ or ‘automobiles’.\n",
    "\n",
    "Likewise, can you go through the remaining topic keywords and judge what the topic is?\n",
    "https://www.machinelearningplus.com/wp-content/uploads/2018/03/Inferring-Topic-from-Keywords.png"
   ]
  },
  {
   "cell_type": "markdown",
   "metadata": {},
   "source": [
    "# Calculate Model Perplexity and Topic Coherence\n",
    "\n",
    "Model perplexity and topic coherence provide a convenient measure to judge how good a given topic model is. In my experience, topic coherence score, in particular, has been more helpful.\n",
    "\n",
    "This can help determine the ideal number of topics to use. We can determine this by looking at the chart and picking a number of topic that have a spike."
   ]
  },
  {
   "cell_type": "code",
   "execution_count": 46,
   "metadata": {},
   "outputs": [],
   "source": [
    "def compute_coherence_values(dictionary, corpus, texts, limit, start=2, step=3):\n",
    "    \"\"\"\n",
    "    Compute c_v coherence for various number of topics\n",
    "\n",
    "    Parameters:\n",
    "    ----------\n",
    "    dictionary : Gensim dictionary\n",
    "    corpus : Gensim corpus\n",
    "    texts : List of input texts\n",
    "    limit : Max num of topics\n",
    "\n",
    "    Returns:\n",
    "    -------\n",
    "    model_list : List of LDA topic models\n",
    "    coherence_values : Coherence values corresponding to the LDA model with respective number of topics\n",
    "    \"\"\"\n",
    "    coherence_values = []\n",
    "    model_list = []\n",
    "    for num_topics in range(start, limit, step):\n",
    "        model=LdaModel(corpus=corpus, id2word=dictionary, num_topics=num_topics)\n",
    "        model_list.append(model)\n",
    "        coherencemodel = CoherenceModel(model=model, texts=texts, dictionary=dictionary, coherence='c_v')\n",
    "        coherence_values.append(coherencemodel.get_coherence())\n",
    "\n",
    "    return model_list, coherence_values"
   ]
  },
  {
   "cell_type": "markdown",
   "metadata": {},
   "source": [
    "## Before Covid"
   ]
  },
  {
   "cell_type": "code",
   "execution_count": null,
   "metadata": {},
   "outputs": [],
   "source": [
    "model_list, coherence_values = compute_coherence_values(dictionary=df_bcovid_data_id2word, corpus=df_bcovid_data_corpus, texts=df_bcovid_data_lemmatized, start=2, limit=40, step=6)\n",
    "# Show graph\n",
    "import matplotlib.pyplot as plt\n",
    "limit=40; start=2; step=6;\n",
    "x = range(start, limit, step)\n",
    "plt.plot(x, coherence_values)\n",
    "plt.xlabel(\"Num Topics\")\n",
    "plt.ylabel(\"Coherence score\")\n",
    "plt.legend((\"coherence_values\"), loc='best')\n",
    "plt.show()\n"
   ]
  },
  {
   "cell_type": "markdown",
   "metadata": {},
   "source": [
    "## After Covid"
   ]
  },
  {
   "cell_type": "code",
   "execution_count": null,
   "metadata": {},
   "outputs": [],
   "source": [
    "model_list, coherence_values = compute_coherence_values(dictionary=df_acovid_data_id2word, corpus=df_acovid_data_corpus, texts=df_acovid_data_lemmatized, start=2, limit=40, step=6)\n",
    "# Show graph\n",
    "import matplotlib.pyplot as plt\n",
    "limit=40; start=2; step=6;\n",
    "x = range(start, limit, step)\n",
    "plt.plot(x, coherence_values)\n",
    "plt.xlabel(\"Num Topics\")\n",
    "plt.ylabel(\"Coherence score\")\n",
    "plt.legend((\"coherence_values\"), loc='best')\n",
    "plt.show()\n"
   ]
  },
  {
   "cell_type": "markdown",
   "metadata": {},
   "source": [
    "## All"
   ]
  },
  {
   "cell_type": "code",
   "execution_count": null,
   "metadata": {},
   "outputs": [],
   "source": [
    "model_list, coherence_values = compute_coherence_values(dictionary=df_all_data_id2word, corpus=df_all_data_corpus, texts=df_all_data_lemmatized, start=2, limit=40, step=6)\n",
    "# Show graph\n",
    "import matplotlib.pyplot as plt\n",
    "limit=40; start=2; step=6;\n",
    "x = range(start, limit, step)\n",
    "plt.plot(x, coherence_values)\n",
    "plt.xlabel(\"Num Topics\")\n",
    "plt.ylabel(\"Coherence score\")\n",
    "plt.legend((\"coherence_values\"), loc='best')\n",
    "plt.show()\n"
   ]
  },
  {
   "cell_type": "markdown",
   "metadata": {},
   "source": [
    "# Visualize the topics\n",
    "\n",
    "Now that the LDA model is built, the next step is to examine the produced \n",
    "topics and the associated keywords. There is no better tool than pyLDAvis package’s \n",
    "interactive chart and is designed to work well with jupyter notebooks."
   ]
  },
  {
   "cell_type": "code",
   "execution_count": 59,
   "metadata": {},
   "outputs": [],
   "source": [
    "# lda_model takes in 3 elements, the corpus, id2word, and the number of topics\n",
    "# Do edit the number of topics base on the chart that was visualized ealier to get the ideal number of topics.\n",
    "\n",
    "df_bcovid_data_ldamodel = lda_model(df_bcovid_data_corpus, df_bcovid_data_id2word, 15)\n",
    "df_acovid_data_ldamodel = lda_model(df_acovid_data_corpus, df_acovid_data_id2word, 20)\n",
    "df_all_data_ldamodel = lda_model(df_all_data_corpus, df_all_data_id2word, 20)"
   ]
  },
  {
   "cell_type": "code",
   "execution_count": 60,
   "metadata": {},
   "outputs": [],
   "source": [
    "df_bcovid_data_doc_lda = df_bcovid_data_ldamodel[df_bcovid_data_corpus]\n",
    "df_acovid_data_doc_lda = df_acovid_data_ldamodel[df_acovid_data_corpus]\n",
    "df_all_data_doc_lda = df_all_data_ldamodel[df_all_data_corpus]"
   ]
  },
  {
   "cell_type": "markdown",
   "metadata": {},
   "source": [
    "## Before Covid"
   ]
  },
  {
   "cell_type": "code",
   "execution_count": 73,
   "metadata": {},
   "outputs": [
    {
     "data": {
      "text/html": [
       "\n",
       "<link rel=\"stylesheet\" type=\"text/css\" href=\"https://cdn.jsdelivr.net/gh/bmabey/pyLDAvis@3.2.2/pyLDAvis/js/ldavis.v1.0.0.css\">\n",
       "\n",
       "\n",
       "<div id=\"ldavis_el2108417264518766326450658318\"></div>\n",
       "<script type=\"text/javascript\">\n",
       "\n",
       "var ldavis_el2108417264518766326450658318_data = {\"mdsDat\": {\"x\": [0.34453955901006567, 0.16958900191852916, 0.1878742619671592, 0.033431631573388604, 0.02997826343566689, -0.016559098969615493, -0.047455455978733165, -0.07203175136632037, -0.05158925935818239, -0.08826164197362604, -0.08539086489013416, -0.09448763988004541, -0.09833702686666147, -0.10658907456630266, -0.10471090405518789], \"y\": [0.16820572862984032, -0.3848533257307371, 0.14752866545678048, -0.04015690447186895, -0.07627477156882902, -0.0037516928659141364, 0.01020069819696941, 0.01857554435742602, 0.011754920588260309, 0.023002058973095898, 0.02227693712476039, 0.024491925406997902, 0.025347061709072125, 0.027001217555635205, 0.026651936638511075], \"topics\": [1, 2, 3, 4, 5, 6, 7, 8, 9, 10, 11, 12, 13, 14, 15], \"cluster\": [1, 1, 1, 1, 1, 1, 1, 1, 1, 1, 1, 1, 1, 1, 1], \"Freq\": [18.703194551258893, 12.754989109085619, 12.229524771159896, 9.626474351653082, 7.970941863068755, 5.574802231264297, 5.317314366208398, 4.568822034326401, 4.55464200177005, 3.7370978235660637, 3.7321459853608867, 3.390475658076439, 3.1126440966999436, 2.630693260116758, 2.0962378963845216]}, \"tinfo\": {\"Term\": [\"time\", \"end\", \"pay\", \"need\", \"service\", \"place\", \"home\", \"ask\", \"fare\", \"cost\", \"talk\", \"mean\", \"give\", \"work\", \"business\", \"pretty\", \"point\", \"old\", \"high\", \"want\", \"system\", \"right\", \"yet\", \"good\", \"sit\", \"never\", \"route\", \"hold\", \"run\", \"com\", \"business\", \"good\", \"use\", \"new\", \"company\", \"maybe\", \"number\", \"card\", \"money\", \"bad\", \"go\", \"area\", \"government\", \"keep\", \"large\", \"reason\", \"consider\", \"problem\", \"month\", \"usually\", \"small\", \"add\", \"issue\", \"city\", \"include\", \"spend\", \"power\", \"however\", \"early\", \"lose\", \"help\", \"take\", \"mean\", \"work\", \"hold\", \"reach\", \"ride\", \"travel\", \"drive\", \"long\", \"tell\", \"experience\", \"make\", \"wrong\", \"second\", \"minute\", \"general\", \"chance\", \"put\", \"market\", \"instead\", \"operator\", \"phone\", \"face\", \"decide\", \"believe\", \"remember\", \"group\", \"cut\", \"comment\", \"matter\", \"shift\", \"time\", \"want\", \"come\", \"stand\", \"mind\", \"lady\", \"alight\", \"couple\", \"see\", \"part\", \"country\", \"door\", \"friend\", \"understand\", \"cause\", \"pass\", \"side\", \"bring\", \"call\", \"board\", \"thank\", \"life\", \"child\", \"young\", \"leave\", \"move\", \"crowd\", \"show\", \"entire\", \"police\", \"hear\", \"take\", \"high\", \"com\", \"price\", \"increase\", \"road\", \"happen\", \"walk\", \"situation\", \"away\", \"close\", \"big\", \"least\", \"correctly\", \"able\", \"www\", \"app\", \"passenger\", \"start\", \"offer\", \"often\", \"short\", \"traffic\", \"book\", \"pick\", \"seem\", \"hand\", \"form\", \"break\", \"firm\", \"choose\", \"place\", \"ask\", \"especially\", \"first\", \"try\", \"change\", \"destination\", \"turn\", \"far\", \"due\", \"read\", \"note\", \"day\", \"rule\", \"expect\", \"plan\", \"sometimes\", \"allow\", \"nice\", \"course\", \"cash\", \"play\", \"head\", \"location\", \"income\", \"available\", \"force\", \"apply\", \"state\", \"let\", \"agree\", \"end\", \"need\", \"well\", \"hour\", \"do\", \"different\", \"wait\", \"information\", \"job\", \"fast\", \"min\", \"choice\", \"transit\", \"safe\", \"amount\", \"airport\", \"personal\", \"hate\", \"queue\", \"junction\", \"hence\", \"design\", \"stupid\", \"age\", \"blame\", \"tend\", \"jam\", \"incentive\", \"pap\", \"tampine\", \"yet\", \"route\", \"question\", \"imagine\", \"totally\", \"look\", \"check\", \"case\", \"say\", \"probably\", \"student\", \"base\", \"article\", \"dollar\", \"accident\", \"news\", \"push\", \"normal\", \"today\", \"block\", \"future\", \"access\", \"follow\", \"fair\", \"argument\", \"arrest\", \"involve\", \"word\", \"judge\", \"sorry\", \"home\", \"buy\", \"enough\", \"rather\", \"hard\", \"fact\", \"get\", \"shit\", \"know\", \"miss\", \"save\", \"common\", \"sound\", \"worth\", \"result\", \"generally\", \"learn\", \"gon\", \"accept\", \"earn\", \"human\", \"decision\", \"contract\", \"premium\", \"conversation\", \"energy\", \"bother\", \"member\", \"simple\", \"complete\", \"talk\", \"pretty\", \"never\", \"late\", \"mention\", \"compare\", \"live\", \"charge\", \"depend\", \"stay\", \"front\", \"bit\", \"great\", \"little\", \"share\", \"type\", \"journey\", \"literally\", \"complain\", \"guy\", \"extra\", \"girl\", \"expressway\", \"wise\", \"count\", \"gahman\", \"smoke\", \"wedding\", \"photo\", \"moment\", \"cost\", \"point\", \"run\", \"cheap\", \"trip\", \"expensive\", \"other\", \"whole\", \"non\", \"world\", \"model\", \"efficient\", \"recently\", \"afford\", \"relatively\", \"seriously\", \"rental\", \"deck\", \"pic\", \"admit\", \"injure\", \"monopoly\", \"self_drive\", \"crown\", \"void\", \"memorable\", \"efficiency\", \"enthusiast\", \"revenue\", \"improvement\", \"loss\", \"economic\", \"distance\", \"abuse\", \"factor\", \"pay\", \"fare\", \"easy\", \"tap\", \"ticket\", \"deal\", \"kind\", \"claim\", \"later\", \"fix\", \"worker\", \"ptc\", \"willing\", \"refuse\", \"fail\", \"rate\", \"map\", \"update\", \"beat\", \"meter\", \"response\", \"fund\", \"meh\", \"puke\", \"pedestrian\", \"heat\", \"drunk\", \"cabby\", \"network\", \"per_cent\", \"old\", \"sit\", \"kid\", \"school\", \"seat\", \"parent\", \"open\", \"fine\", \"avoid\", \"carry\", \"jail\", \"likely\", \"entitle\", \"reserve\", \"wear\", \"eye\", \"priority\", \"week\", \"teach\", \"aunty\", \"ceo\", \"wife\", \"pregnant\", \"sentence\", \"cabin\", \"seal\", \"punching\", \"navy\", \"autism\", \"uniform\", \"basically\", \"give\", \"rent\", \"low\", \"free\", \"less\", \"vehicle\", \"catch\", \"woman\", \"story\", \"clean\", \"park\", \"fee\", \"yellow\", \"encounter\", \"study\", \"wallet\", \"pull\", \"pocket\", \"phv\", \"sad\", \"tough\", \"buck\", \"witness\", \"stomp\", \"newer\", \"gross\", \"unit\", \"cng\", \"serangoon\", \"fleet\", \"room\", \"lane\", \"abuse\", \"system\", \"right\", \"solution\", \"top\", \"elderly\", \"speed\", \"real\", \"name\", \"direction\", \"hit\", \"user\", \"haha\", \"welcome\", \"focus\", \"test\", \"picture\", \"carriage\", \"flaw\", \"pain\", \"gear\", \"mad\", \"desire\", \"useless\", \"shake\", \"visible\", \"redundant\", \"sm\", \"autotldr_comment\", \"device\", \"reddit_com\", \"bank\", \"lane\", \"air\", \"peak_hour\", \"clearly\", \"moment\", \"abuse\", \"service\", \"provide\", \"demand\", \"commuter\", \"supply\", \"operate\", \"operation\", \"management\", \"trial\", \"huge\", \"order\", \"amazon\", \"fulfil\", \"technology\", \"authority\", \"per_cent\", \"network\", \"peak\", \"review\", \"beeline\", \"introduce\", \"grabshuttle\", \"tech\", \"create\", \"exist\", \"capacity\", \"announce\", \"epicentre\", \"source_code\", \"shuttle\", \"resource\", \"benefit\", \"fleet\", \"peak_hour\", \"factor\"], \"Freq\": [1415.0, 941.0, 759.0, 827.0, 582.0, 850.0, 665.0, 798.0, 596.0, 531.0, 555.0, 839.0, 489.0, 810.0, 1000.0, 491.0, 460.0, 436.0, 608.0, 671.0, 381.0, 376.0, 452.0, 791.0, 376.0, 388.0, 400.0, 576.0, 351.0, 489.0, 999.473747987413, 790.186333372841, 651.0639369257983, 650.9188696013335, 557.3888945642526, 500.27958641269925, 481.38389812826426, 476.3662137551535, 428.6995507563878, 428.6434482286595, 413.52183828602455, 410.82480432163646, 357.4988861347426, 329.3657575862855, 320.13200317297867, 293.4696260559604, 277.5279725268349, 271.92648819886404, 271.7463082965333, 271.05633644186094, 271.0505748752166, 263.93244057479546, 237.13659686345818, 236.2477248646647, 217.5848271517164, 209.068358686803, 204.97991607742446, 188.53138047810083, 185.41801997582303, 182.9851451124295, 552.2368900313941, 471.0349604822502, 838.1177036218625, 809.760207800624, 575.0652705124355, 505.1989457826534, 499.9123765913538, 468.0491815787637, 460.42144013929305, 431.23436572018267, 426.6256045517735, 403.90261778602684, 382.07861237585365, 338.18624987141493, 328.0643220214445, 309.76183846716947, 284.50738412980917, 266.2076788025866, 221.57780285293427, 204.6020020941365, 204.5439900673501, 191.01600876964383, 175.5934618372798, 163.70116833155026, 155.08497339576343, 150.22991578432524, 135.42762788590736, 128.57157208439594, 123.53055847557809, 115.1696826059146, 110.78547494643574, 110.68741676113565, 1378.8468924519439, 670.133206164149, 413.0205521759326, 376.6472128554907, 374.48255474709845, 372.9527118163344, 358.36023311205264, 347.07336994727245, 336.0500427320268, 328.5272177682891, 308.1575733886282, 300.3038317011971, 290.3268091804692, 273.4997800361657, 260.7623782704486, 241.68747982074927, 234.1828446217225, 229.68020557020375, 224.57601045059093, 219.0691543191364, 209.4650473442481, 209.42635921149488, 201.26996216423072, 194.36586826260285, 188.04900947763358, 181.8278435692184, 174.03038360146792, 164.97363125491816, 155.89096420174062, 152.38385325608027, 152.31210896793206, 349.19218578951063, 607.125016421639, 488.5469984254458, 486.13213556131194, 421.0049248037422, 419.7881876187091, 391.328439267408, 367.87286955834867, 362.74767618869333, 329.57570221739195, 293.296245777071, 283.58375552251425, 261.72418235542455, 245.39222645020723, 232.11571268733624, 221.86456710980096, 210.8921457996839, 198.7900939449591, 198.74853756744304, 178.80489113174386, 167.75131407043733, 164.91986899036763, 156.76149938943297, 154.76752215274618, 146.71929392624202, 140.44276324486705, 138.62167132213767, 128.059681644451, 120.96844826643424, 120.75339750743834, 117.1554060038551, 849.4419057654194, 797.2418445299802, 378.1014697389392, 360.31081205750394, 357.26593139667506, 303.1712402703934, 263.45137674010385, 250.16796787109288, 244.8907931400487, 232.8394013290118, 199.97988644476715, 195.99663635152035, 169.18167570473548, 167.80550525976898, 165.90573293908534, 162.40370514701317, 159.031924685675, 157.35182175547018, 149.08593624838872, 147.49165071649668, 137.24695489953407, 128.29329833770888, 125.94752357296163, 123.0050119897733, 115.06459599322928, 91.72262742533024, 91.58136768856996, 87.38646774977337, 83.35644800120332, 83.265446835189, 365.25240603734244, 939.9920921521397, 825.8556860845547, 320.90891538132195, 306.79869115020955, 267.5059498610406, 260.39224029588553, 240.09004542261528, 224.72657358680036, 204.02466246171744, 183.63878668351384, 157.94014486216605, 107.29475195966555, 102.04463094996856, 87.45083609423094, 84.16172898322188, 75.82832628346716, 75.43262870418965, 67.80647189478272, 66.72727039555934, 62.242194773564606, 59.10338601537012, 58.52211249890833, 54.580760379787954, 53.84615860488797, 51.22002259918835, 46.53782964377888, 45.32630973742157, 36.65841759957039, 33.192604542267574, 32.23696710454042, 451.71280785497544, 399.43059065821825, 340.94680407263337, 293.8037536770358, 260.51288171124713, 249.36367713108854, 247.6377086263459, 246.50235107050173, 239.75905740029222, 202.79030201314697, 188.96525833110238, 137.71203268503052, 116.19150835472637, 106.23318828986127, 98.54182197530744, 97.44710035879805, 85.17296745206811, 83.91538771223937, 81.70246078898072, 79.62171648760545, 76.15827478628353, 72.55521046821355, 69.50528688027975, 62.05803402213695, 61.35026383609285, 60.33185042488154, 58.125734764527124, 52.83101747028957, 46.85651407743797, 45.156453190098304, 664.8120155419278, 247.08115304208923, 204.6707943712765, 202.29341013647428, 171.4079437646887, 162.84213851817714, 154.62837265939277, 149.19242351795086, 142.31632961545637, 130.90015592015035, 125.61596358132229, 117.49796979913128, 107.1208733769807, 105.58315577787481, 100.69387042721252, 98.46587357205051, 94.60151530054524, 90.79601349570447, 77.35911058927604, 70.16138173465171, 67.71316596947636, 66.10240853778595, 49.033331855882324, 45.782327154171924, 45.72586854355672, 45.08134758396698, 43.438982049808594, 42.70380222840255, 39.52948864007901, 38.607098340105004, 554.4129944227544, 490.11392070139556, 387.2047676556945, 308.1776639311004, 280.93027081818593, 279.9079295143482, 270.9295347589301, 174.041333667277, 163.29571439009985, 162.81254842954706, 160.62226788194207, 139.69296556881497, 138.50828397919724, 122.58049293714721, 112.45267755978284, 84.07073541203755, 76.3614709410516, 62.359663809770126, 61.315993021870696, 50.21581772303248, 49.86731332243078, 44.92194843409423, 29.818158114799093, 20.169920715009674, 13.311237330471458, 13.007872070558502, 8.743029922073333, 6.6016961705621044, 0.08275345811334926, 0.08350089613045683, 530.7344363136626, 458.90571934000724, 349.85473109560195, 250.55480663858918, 228.36550095871758, 214.14415885046026, 159.17357188023195, 142.81059933646793, 138.94070873825257, 121.62053927158776, 95.95851862806552, 86.39314664038669, 86.15096353918625, 58.51865080238464, 51.492906632815874, 49.427427433003544, 48.743860978461306, 43.53055187918234, 42.69027962413864, 25.63481962059211, 23.698304472637016, 21.64600812697294, 19.48583603230184, 1.8752066150784303, 1.7292821391535549, 1.4585336031852416, 0.08884853141511496, 0.09044700486945041, 0.0891000887911843, 0.08838265666336403, 0.08840539887949839, 0.08878739088998146, 0.08945500817686829, 0.09077188393768396, 0.08937827969467066, 758.2092480796941, 595.0821462400215, 195.3471103779838, 163.91005715182527, 162.0671043749434, 135.82754897947862, 118.94326825612474, 116.71825991962547, 105.49820758162885, 94.9259727631059, 90.91695975361806, 87.44814952179708, 83.82569021329282, 80.17588592147477, 78.77310840685374, 60.71075594342563, 57.573101046761, 51.06360144588398, 43.56932243956004, 33.511803511651586, 32.18591053639731, 31.952587840438206, 31.35094401306063, 28.72657853102648, 21.750154823792037, 13.343093771117015, 4.209676760377215, 2.7139356413585416, 0.09240298494051252, 0.09063301518472767, 435.31057545426603, 375.4472281776944, 276.66150112875766, 263.6955050296442, 226.92444210118632, 183.08654711457754, 137.76551259383703, 125.01351159827115, 97.82708862740463, 94.01583625522002, 88.98362457223051, 83.75086545012459, 68.45051797825617, 57.10933663736936, 55.74484179533463, 55.065365493452134, 49.183675679623036, 44.62405234188669, 41.38774389051325, 32.47875412107497, 28.986980486968633, 26.007797076490096, 17.675806708997936, 11.926483550291612, 6.728317700939222, 2.942238378941446, 0.6758432741429653, 0.5539266701644859, 0.08796477618055201, 0.085917495980152, 0.08679941926089733, 488.5414339734107, 270.9753687681175, 256.52630311469585, 244.92930064583575, 221.50615126230176, 200.16991580642755, 109.22594102566701, 95.44874098936266, 94.15914487217333, 88.1796357970789, 82.04647054589596, 70.74101900021631, 55.64150545191486, 50.30837316109707, 49.50807546554597, 47.70756626733039, 42.07289091430213, 23.8312031593919, 21.497793331567244, 18.329889770515948, 17.842224958683584, 17.81417110016946, 13.156334684213524, 9.676222784284345, 8.456876731464433, 6.9658817073381885, 0.08541541041546256, 0.08404379915606953, 0.08315033682041072, 0.08464259352360239, 0.08490463620943, 0.08654367515485994, 0.08578208857374064, 380.1344795117955, 375.47762472114584, 219.39235389108845, 176.98306386998252, 97.34349284939753, 94.79800052345516, 91.47877780750841, 76.29221106654833, 68.62021328136528, 67.39060615390625, 61.01556259766932, 59.482104950503604, 45.04563626643147, 43.470024605374086, 36.216772881159315, 36.00152519264496, 25.364361299357434, 25.263889094067828, 19.544386976335655, 17.48515562124108, 17.295674024588916, 16.828971599380026, 13.243187298534247, 11.696768840572656, 8.541384416044464, 5.3518298370748605, 0.08042396270069088, 0.08026752699341208, 0.08028820993202178, 0.07992167266026251, 0.08095080473755698, 0.08434140506870863, 0.08145352644972649, 0.08178155966803173, 0.08225348346671878, 0.08227939975902976, 0.08323660253397559, 581.7930289533172, 254.5747933236459, 247.84167160235324, 146.84750706152136, 86.16035440507518, 79.96611550078447, 66.93204282322387, 66.06003924608466, 63.80535360932443, 51.48024206078427, 16.70232881661532, 14.285754169869453, 2.8158300271562604, 0.06837287610908836, 0.06788809117801003, 0.06877707375719229, 0.06882203226300722, 0.0666236984930795, 0.06524368426873053, 0.06427000372048446, 0.0647867781126286, 0.06416387752620649, 0.06433717182159664, 0.06481692455947663, 0.0645461883188301, 0.06417460437854318, 0.06370695013722186, 0.06342280745444273, 0.06366425505670205, 0.06422959329814244, 0.06362763682720907, 0.06472212823140384, 0.06416055670335324, 0.0642772993389779, 0.06437026539256252], \"Total\": [1415.0, 941.0, 759.0, 827.0, 582.0, 850.0, 665.0, 798.0, 596.0, 531.0, 555.0, 839.0, 489.0, 810.0, 1000.0, 491.0, 460.0, 436.0, 608.0, 671.0, 381.0, 376.0, 452.0, 791.0, 376.0, 388.0, 400.0, 576.0, 351.0, 489.0, 1000.6465904836431, 791.3591732196937, 652.2367766755705, 652.0917115621136, 558.561734223278, 501.4524271758255, 482.5567392410419, 477.5390535307408, 429.8723902466588, 429.81628783921803, 414.6946781177839, 411.99764432035977, 358.67172551735376, 330.5386056656605, 321.3048455704083, 294.6424658693236, 278.7008128124861, 273.09932778769985, 272.91914814358324, 272.22917645807826, 272.2234145892821, 265.10528026562633, 238.30943616451836, 237.42056431852512, 218.75766719576401, 210.24119867020752, 206.15275659545406, 189.70422065834322, 186.59085945597448, 184.15798481455158, 559.5549311935682, 821.2986019540782, 839.2949761367239, 810.9374788691181, 576.2425457897544, 506.3762231063924, 501.08964765974144, 469.22645305149086, 461.59871074830784, 432.4116366757858, 427.8028771806727, 405.0798902512557, 383.25588383209646, 339.3635233697473, 329.24159536208094, 310.9391090136282, 285.68465806480896, 267.3849563390723, 222.7550738230033, 205.7792742266544, 205.72126115906937, 192.19328067713124, 176.77073222590536, 164.87843883304527, 156.26224448626834, 151.40718711715934, 136.60489927100363, 129.74884331683697, 124.70782953166923, 116.34695383257126, 111.96274610726175, 111.8646886317778, 1415.0021865601077, 671.2996786901496, 414.1870198680083, 377.8136794194762, 375.64902500920584, 374.11918211565074, 359.5267043876761, 348.23984220298655, 337.216509771866, 329.69368586713387, 309.32404138253145, 301.47029814754626, 291.4932762916317, 274.6662480133284, 261.9288457957717, 242.85394795762608, 235.34931164089951, 230.84667375306094, 225.7424778179283, 220.2356213563278, 210.631514709508, 210.59282680321817, 202.43642944641002, 195.5323354014184, 189.21547640403398, 182.99431051231127, 175.19685104264437, 166.14009822877938, 157.0574318060193, 153.55032044911334, 153.47857599621875, 821.2986019540782, 608.2937274693312, 489.715707841831, 487.3008457204622, 422.17363509549057, 420.9568975830269, 392.49714924153375, 369.04157938499907, 363.9163926289558, 330.74441262026596, 294.46495557764763, 284.7524654697895, 262.8928924744411, 246.56097464199172, 233.28442298109488, 223.0332768387807, 212.1100009794639, 199.95880369570705, 199.9172472409667, 179.97360103498093, 168.92002401656447, 166.088579602026, 157.93026034250414, 155.9362318806299, 147.8880039828592, 141.6114733204315, 139.79038178796776, 129.22839288286136, 122.13715803006943, 121.92210858757318, 118.32411626258158, 850.6220951415183, 798.422033465233, 379.2816596006252, 361.4910000427516, 358.4461192816503, 304.35142853371275, 264.63156833784535, 251.34815562532438, 246.0709816028158, 234.01958968077426, 201.16007458576402, 197.17682496659697, 170.36186341536006, 168.9856937393291, 167.08592140506363, 163.58389333360367, 160.2121122673087, 158.5320096836463, 150.2661240161733, 148.67183916775622, 138.42714324419094, 129.47348645878554, 127.12771145086573, 124.18520044265807, 116.24478438577175, 92.90281535162605, 92.76155570908512, 88.5666565596561, 84.53663581623938, 84.44563781520861, 392.3488696235527, 941.1856974507381, 827.0492926015654, 322.10251833443743, 307.9922936543937, 268.6995530564635, 261.5858439968544, 241.2836479579854, 225.92017926452866, 205.2182660483747, 184.83238976350287, 159.1337471602593, 108.48835534476504, 103.23823384063414, 88.64443989588615, 85.3553324349983, 77.02192860584103, 76.62623202570337, 69.00007483362464, 67.92087258327356, 63.43580020326564, 60.29699194093177, 59.715715270630035, 55.774364296227176, 55.03976132626864, 52.413625689414125, 47.731432713117556, 46.519913057507395, 37.85201966535284, 34.38621053890551, 33.43057030395198, 452.89644070178633, 400.614215124539, 342.1304301689713, 294.9873811268746, 261.69651050300666, 250.54730081629785, 248.8213335893562, 247.68597496647155, 240.94268133477703, 203.9739257958235, 190.14888217814686, 138.8956570740786, 117.37513193540123, 107.41681331789164, 99.725445230061, 98.63072445798845, 86.35659080933512, 85.09901159698113, 82.88608469990164, 80.80534009035324, 77.34189853039669, 73.73883516423506, 70.68890982764066, 63.24165881703476, 62.53388828720296, 61.5154748001005, 59.30935826079163, 54.01464106714077, 48.04013784951862, 46.340076714062704, 665.9932894922499, 248.26242253505433, 205.85206358657763, 203.4746802395926, 172.58921318877438, 164.0234077830361, 155.80964253437787, 150.37369297919884, 143.49759970958283, 132.08142462657128, 126.79723398256532, 118.67924043740402, 108.30214272795916, 106.76442545214293, 101.87514016444123, 99.64714348238373, 95.78278537217689, 91.97728280440487, 78.54037980015835, 71.34265114319457, 68.8944358076867, 67.28367891468353, 50.21460116063719, 46.96359796230866, 46.90713816930954, 46.26262383170865, 44.62025180886872, 43.88507288264384, 40.71075736370407, 39.788368009643, 555.6050100249921, 491.3059343383879, 388.39678145962705, 309.36967982856453, 282.12228746410676, 281.0999445749611, 272.1215479616895, 175.2333482053196, 164.48772828182734, 164.0045613531021, 161.81428088089388, 140.8849794678742, 139.70029722169696, 123.77250643793138, 113.64469078989391, 85.2627488525658, 77.55348475693219, 63.551676607194146, 62.508005862094, 51.407829695700634, 51.0593264100163, 46.113960288773065, 31.01017274940926, 21.36193393727642, 14.50324995252437, 14.199884426911048, 9.93504353633827, 7.793709100830746, 1.3403181520852245, 1.355118078242276, 531.9168206836185, 460.08810414699724, 351.03711560949625, 251.73719131642218, 229.54788530999662, 215.32654340930338, 160.35595707696265, 143.99298446696127, 140.12309341443864, 122.80292329969848, 97.14090429804192, 87.57553207839271, 87.33334856370409, 59.70103641991327, 52.67529204535679, 50.60981101875284, 49.92624506149356, 44.71293742535251, 43.87266582002814, 26.817205289750255, 24.880689540545955, 22.828395939577476, 20.668222207600405, 3.0575896834522993, 2.9116655161442884, 2.6409278235814364, 1.2900588323031075, 1.3167050018037372, 1.300419174505734, 1.2914467505540563, 1.2918145203724198, 1.3044053754625407, 1.3315006559919993, 1.4291048562773663, 1.3353488835044867, 759.3946554055968, 596.2675525550153, 196.53251809387478, 165.09546394918192, 163.25251127903977, 137.01295763605097, 120.12867577240452, 117.90366721994836, 106.68361527360874, 96.11138120114008, 92.10236666699042, 88.63355650085924, 85.01109894799957, 81.36129315385358, 79.95851784829281, 61.89616316783818, 58.75850750905097, 52.249009342600594, 44.75473036469302, 34.69721159562887, 33.371317680572446, 33.13799352545939, 32.5363542968883, 29.91199560212484, 22.935563704115424, 14.52850182608126, 5.395081901161815, 3.899340721938463, 1.3309966990837703, 1.3297107277854918, 436.49484168611167, 376.6314938985748, 277.84576749308223, 264.879771850754, 228.10870762560768, 184.27081371175126, 138.94977965083805, 126.19777861846993, 99.0113561068598, 95.20010305607401, 90.16789295672841, 84.93513624253629, 69.6347835025624, 58.29360208142645, 56.92910811492695, 56.24963254403082, 50.367941155461004, 45.80832085873263, 42.5720111872115, 33.663019420270594, 30.171247995617414, 27.192064144302112, 18.860072975473226, 13.110750509470682, 7.912582296610518, 4.126505015713207, 1.8601079700609096, 1.7381912959880423, 1.292329537513364, 1.2802706332144025, 1.303206362631497, 489.72825198718596, 272.16218327598574, 257.71311871942424, 246.11611619617543, 222.69296625069722, 201.35673058591883, 110.41275631956002, 96.6355558053269, 95.34595989290577, 89.36645097847352, 83.23328517596312, 71.92783329462871, 56.82832580162861, 51.49518756269383, 50.694889988057334, 48.89438428010969, 43.25970572489293, 25.018017715857347, 22.68460756802421, 19.51670554276175, 19.029039802282472, 19.000986831225408, 14.343150873129673, 10.863036302620733, 9.643696426571768, 8.152701470591206, 1.2925980640697516, 1.2897119361730236, 1.2764020119625878, 1.299689385152685, 1.3039944448013785, 1.3455323936829227, 1.4291048562773663, 381.3232762222833, 376.6664212378294, 220.5811701585573, 178.17186139448006, 98.53228890726258, 95.98679805140851, 92.66757533209227, 77.48100802633995, 69.80901085625487, 68.5794027311835, 62.20435896122504, 60.670901915889516, 46.234435766500674, 44.65882340352224, 37.40557055716985, 37.19032352799638, 26.55315680937405, 26.45269059032451, 20.73318372985946, 18.673953803441844, 18.484472888568902, 18.017770067853373, 14.43198760410523, 12.88556494246969, 9.730181615308727, 6.540821201264582, 1.2773514269764157, 1.2767428639798593, 1.2781555666921784, 1.2742758383605888, 1.2908434270678204, 1.3455323936829227, 1.3046905693261417, 1.3202400954956484, 1.3487910369889233, 1.355118078242276, 1.4291048562773663, 582.9992928069593, 255.78106522172462, 249.04793556725437, 148.05377110873278, 87.36661948683883, 81.17237923691367, 68.13830726951831, 67.26630278763061, 65.01161831167573, 52.68650720530821, 17.90859495005272, 15.49202394818615, 4.022095477395906, 1.3063010043111574, 1.302651058159428, 1.3297107277854918, 1.3309966990837703, 1.314436945159577, 1.2926043383870287, 1.275735330545987, 1.2862114670039104, 1.2740894378109924, 1.2885295949485054, 1.301216874806196, 1.296990655656548, 1.2897631263306653, 1.2811410477314593, 1.2767006678348394, 1.2816781371751353, 1.2945308020701427, 1.2824755214101733, 1.3172229037903005, 1.299689385152685, 1.3202400954956484, 1.3353488835044867], \"Category\": [\"Default\", \"Default\", \"Default\", \"Default\", \"Default\", \"Default\", \"Default\", \"Default\", \"Default\", \"Default\", \"Default\", \"Default\", \"Default\", \"Default\", \"Default\", \"Default\", \"Default\", \"Default\", \"Default\", \"Default\", \"Default\", \"Default\", \"Default\", \"Default\", \"Default\", \"Default\", \"Default\", \"Default\", \"Default\", \"Default\", \"Topic1\", \"Topic1\", \"Topic1\", \"Topic1\", \"Topic1\", \"Topic1\", \"Topic1\", \"Topic1\", \"Topic1\", \"Topic1\", \"Topic1\", \"Topic1\", \"Topic1\", \"Topic1\", \"Topic1\", \"Topic1\", \"Topic1\", \"Topic1\", \"Topic1\", \"Topic1\", \"Topic1\", \"Topic1\", \"Topic1\", \"Topic1\", \"Topic1\", \"Topic1\", \"Topic1\", \"Topic1\", \"Topic1\", \"Topic1\", \"Topic1\", \"Topic1\", \"Topic2\", \"Topic2\", \"Topic2\", \"Topic2\", \"Topic2\", \"Topic2\", \"Topic2\", \"Topic2\", \"Topic2\", \"Topic2\", \"Topic2\", \"Topic2\", \"Topic2\", \"Topic2\", \"Topic2\", \"Topic2\", \"Topic2\", \"Topic2\", \"Topic2\", \"Topic2\", \"Topic2\", \"Topic2\", \"Topic2\", \"Topic2\", \"Topic2\", \"Topic2\", \"Topic2\", \"Topic2\", \"Topic2\", \"Topic2\", \"Topic2\", \"Topic3\", \"Topic3\", \"Topic3\", \"Topic3\", \"Topic3\", \"Topic3\", \"Topic3\", \"Topic3\", \"Topic3\", \"Topic3\", \"Topic3\", \"Topic3\", \"Topic3\", \"Topic3\", \"Topic3\", \"Topic3\", \"Topic3\", \"Topic3\", \"Topic3\", \"Topic3\", \"Topic3\", \"Topic3\", \"Topic3\", \"Topic3\", \"Topic3\", \"Topic3\", \"Topic3\", \"Topic3\", \"Topic3\", \"Topic3\", \"Topic3\", \"Topic4\", \"Topic4\", \"Topic4\", \"Topic4\", \"Topic4\", \"Topic4\", \"Topic4\", \"Topic4\", \"Topic4\", \"Topic4\", \"Topic4\", \"Topic4\", \"Topic4\", \"Topic4\", \"Topic4\", \"Topic4\", \"Topic4\", \"Topic4\", \"Topic4\", \"Topic4\", \"Topic4\", \"Topic4\", \"Topic4\", \"Topic4\", \"Topic4\", \"Topic4\", \"Topic4\", \"Topic4\", \"Topic4\", \"Topic4\", \"Topic5\", \"Topic5\", \"Topic5\", \"Topic5\", \"Topic5\", \"Topic5\", \"Topic5\", \"Topic5\", \"Topic5\", \"Topic5\", \"Topic5\", \"Topic5\", \"Topic5\", \"Topic5\", \"Topic5\", \"Topic5\", \"Topic5\", \"Topic5\", \"Topic5\", \"Topic5\", \"Topic5\", \"Topic5\", \"Topic5\", \"Topic5\", \"Topic5\", \"Topic5\", \"Topic5\", \"Topic5\", \"Topic5\", \"Topic5\", \"Topic5\", \"Topic6\", \"Topic6\", \"Topic6\", \"Topic6\", \"Topic6\", \"Topic6\", \"Topic6\", \"Topic6\", \"Topic6\", \"Topic6\", \"Topic6\", \"Topic6\", \"Topic6\", \"Topic6\", \"Topic6\", \"Topic6\", \"Topic6\", \"Topic6\", \"Topic6\", \"Topic6\", \"Topic6\", \"Topic6\", \"Topic6\", \"Topic6\", \"Topic6\", \"Topic6\", \"Topic6\", \"Topic6\", \"Topic6\", \"Topic6\", \"Topic7\", \"Topic7\", \"Topic7\", \"Topic7\", \"Topic7\", \"Topic7\", \"Topic7\", \"Topic7\", \"Topic7\", \"Topic7\", \"Topic7\", \"Topic7\", \"Topic7\", \"Topic7\", \"Topic7\", \"Topic7\", \"Topic7\", \"Topic7\", \"Topic7\", \"Topic7\", \"Topic7\", \"Topic7\", \"Topic7\", \"Topic7\", \"Topic7\", \"Topic7\", \"Topic7\", \"Topic7\", \"Topic7\", \"Topic7\", \"Topic8\", \"Topic8\", \"Topic8\", \"Topic8\", \"Topic8\", \"Topic8\", \"Topic8\", \"Topic8\", \"Topic8\", \"Topic8\", \"Topic8\", \"Topic8\", \"Topic8\", \"Topic8\", \"Topic8\", \"Topic8\", \"Topic8\", \"Topic8\", \"Topic8\", \"Topic8\", \"Topic8\", \"Topic8\", \"Topic8\", \"Topic8\", \"Topic8\", \"Topic8\", \"Topic8\", \"Topic8\", \"Topic8\", \"Topic8\", \"Topic9\", \"Topic9\", \"Topic9\", \"Topic9\", \"Topic9\", \"Topic9\", \"Topic9\", \"Topic9\", \"Topic9\", \"Topic9\", \"Topic9\", \"Topic9\", \"Topic9\", \"Topic9\", \"Topic9\", \"Topic9\", \"Topic9\", \"Topic9\", \"Topic9\", \"Topic9\", \"Topic9\", \"Topic9\", \"Topic9\", \"Topic9\", \"Topic9\", \"Topic9\", \"Topic9\", \"Topic9\", \"Topic9\", \"Topic9\", \"Topic10\", \"Topic10\", \"Topic10\", \"Topic10\", \"Topic10\", \"Topic10\", \"Topic10\", \"Topic10\", \"Topic10\", \"Topic10\", \"Topic10\", \"Topic10\", \"Topic10\", \"Topic10\", \"Topic10\", \"Topic10\", \"Topic10\", \"Topic10\", \"Topic10\", \"Topic10\", \"Topic10\", \"Topic10\", \"Topic10\", \"Topic10\", \"Topic10\", \"Topic10\", \"Topic10\", \"Topic10\", \"Topic10\", \"Topic10\", \"Topic10\", \"Topic10\", \"Topic10\", \"Topic10\", \"Topic10\", \"Topic11\", \"Topic11\", \"Topic11\", \"Topic11\", \"Topic11\", \"Topic11\", \"Topic11\", \"Topic11\", \"Topic11\", \"Topic11\", \"Topic11\", \"Topic11\", \"Topic11\", \"Topic11\", \"Topic11\", \"Topic11\", \"Topic11\", \"Topic11\", \"Topic11\", \"Topic11\", \"Topic11\", \"Topic11\", \"Topic11\", \"Topic11\", \"Topic11\", \"Topic11\", \"Topic11\", \"Topic11\", \"Topic11\", \"Topic11\", \"Topic12\", \"Topic12\", \"Topic12\", \"Topic12\", \"Topic12\", \"Topic12\", \"Topic12\", \"Topic12\", \"Topic12\", \"Topic12\", \"Topic12\", \"Topic12\", \"Topic12\", \"Topic12\", \"Topic12\", \"Topic12\", \"Topic12\", \"Topic12\", \"Topic12\", \"Topic12\", \"Topic12\", \"Topic12\", \"Topic12\", \"Topic12\", \"Topic12\", \"Topic12\", \"Topic12\", \"Topic12\", \"Topic12\", \"Topic12\", \"Topic12\", \"Topic13\", \"Topic13\", \"Topic13\", \"Topic13\", \"Topic13\", \"Topic13\", \"Topic13\", \"Topic13\", \"Topic13\", \"Topic13\", \"Topic13\", \"Topic13\", \"Topic13\", \"Topic13\", \"Topic13\", \"Topic13\", \"Topic13\", \"Topic13\", \"Topic13\", \"Topic13\", \"Topic13\", \"Topic13\", \"Topic13\", \"Topic13\", \"Topic13\", \"Topic13\", \"Topic13\", \"Topic13\", \"Topic13\", \"Topic13\", \"Topic13\", \"Topic13\", \"Topic13\", \"Topic14\", \"Topic14\", \"Topic14\", \"Topic14\", \"Topic14\", \"Topic14\", \"Topic14\", \"Topic14\", \"Topic14\", \"Topic14\", \"Topic14\", \"Topic14\", \"Topic14\", \"Topic14\", \"Topic14\", \"Topic14\", \"Topic14\", \"Topic14\", \"Topic14\", \"Topic14\", \"Topic14\", \"Topic14\", \"Topic14\", \"Topic14\", \"Topic14\", \"Topic14\", \"Topic14\", \"Topic14\", \"Topic14\", \"Topic14\", \"Topic14\", \"Topic14\", \"Topic14\", \"Topic14\", \"Topic14\", \"Topic14\", \"Topic14\", \"Topic15\", \"Topic15\", \"Topic15\", \"Topic15\", \"Topic15\", \"Topic15\", \"Topic15\", \"Topic15\", \"Topic15\", \"Topic15\", \"Topic15\", \"Topic15\", \"Topic15\", \"Topic15\", \"Topic15\", \"Topic15\", \"Topic15\", \"Topic15\", \"Topic15\", \"Topic15\", \"Topic15\", \"Topic15\", \"Topic15\", \"Topic15\", \"Topic15\", \"Topic15\", \"Topic15\", \"Topic15\", \"Topic15\", \"Topic15\", \"Topic15\", \"Topic15\", \"Topic15\", \"Topic15\", \"Topic15\"], \"logprob\": [30.0, 29.0, 28.0, 27.0, 26.0, 25.0, 24.0, 23.0, 22.0, 21.0, 20.0, 19.0, 18.0, 17.0, 16.0, 15.0, 14.0, 13.0, 12.0, 11.0, 10.0, 9.0, 8.0, 7.0, 6.0, 5.0, 4.0, 3.0, 2.0, 1.0, -3.0369, -3.2719, -3.4655, -3.4658, -3.6209, -3.729, -3.7675, -3.778, -3.8834, -3.8835, -3.9194, -3.926, -4.065, -4.147, -4.1754, -4.2624, -4.3182, -4.3386, -4.3393, -4.3418, -4.3418, -4.3684, -4.4755, -4.4793, -4.5615, -4.6015, -4.6212, -4.7049, -4.7215, -4.7347, -3.6302, -3.7892, -2.8302, -2.8646, -3.2069, -3.3364, -3.3469, -3.4128, -3.4292, -3.4947, -3.5055, -3.5602, -3.6157, -3.7378, -3.7682, -3.8256, -3.9106, -3.9771, -4.1606, -4.2403, -4.2406, -4.309, -4.3932, -4.4633, -4.5174, -4.5492, -4.6529, -4.7049, -4.7449, -4.815, -4.8538, -4.8547, -2.3324, -3.0118, -3.4958, -3.588, -3.5938, -3.5978, -3.6378, -3.6698, -3.702, -3.7247, -3.7887, -3.8145, -3.8483, -3.908, -3.9557, -4.0317, -4.0632, -4.0826, -4.1051, -4.1299, -4.1747, -4.1749, -4.2146, -4.2496, -4.2826, -4.3162, -4.3601, -4.4135, -4.4701, -4.4929, -4.4934, -3.6637, -2.8712, -3.0885, -3.0935, -3.2373, -3.2402, -3.3104, -3.3722, -3.3863, -3.4822, -3.5988, -3.6325, -3.7127, -3.7771, -3.8327, -3.8779, -3.9286, -3.9877, -3.9879, -4.0937, -4.1575, -4.1745, -4.2252, -4.238, -4.2914, -4.3352, -4.3482, -4.4275, -4.4844, -4.4862, -4.5165, -2.3467, -2.4101, -3.1561, -3.2043, -3.2128, -3.3769, -3.5174, -3.5691, -3.5904, -3.6409, -3.793, -3.8131, -3.9603, -3.9684, -3.9798, -4.0012, -4.0221, -4.0328, -4.0867, -4.0975, -4.1695, -4.2369, -4.2554, -4.279, -4.3458, -4.5725, -4.574, -4.6209, -4.6681, -4.6692, -3.1907, -1.8878, -2.0173, -2.9625, -3.0075, -3.1446, -3.1715, -3.2527, -3.3188, -3.4155, -3.5207, -3.6715, -4.0581, -4.1083, -4.2626, -4.301, -4.4052, -4.4105, -4.517, -4.5331, -4.6027, -4.6544, -4.6643, -4.734, -4.7476, -4.7976, -4.8934, -4.9198, -5.1321, -5.2314, -5.2606, -2.5734, -2.6964, -2.8547, -3.0035, -3.1238, -3.1675, -3.1744, -3.179, -3.2068, -3.3742, -3.4448, -3.7612, -3.9312, -4.0208, -4.0959, -4.1071, -4.2417, -4.2566, -4.2833, -4.3091, -4.3536, -4.4021, -4.445, -4.5583, -4.5698, -4.5866, -4.6238, -4.7193, -4.8393, -4.8763, -2.0352, -3.025, -3.2133, -3.225, -3.3907, -3.4419, -3.4937, -3.5295, -3.5766, -3.6603, -3.7015, -3.7683, -3.8607, -3.8752, -3.9226, -3.945, -3.985, -4.0261, -4.1862, -4.2839, -4.3194, -4.3435, -4.6422, -4.7108, -4.712, -4.7262, -4.7633, -4.7804, -4.8577, -4.8813, -2.2137, -2.337, -2.5726, -2.8009, -2.8935, -2.8971, -2.9297, -3.3723, -3.436, -3.439, -3.4525, -3.5921, -3.6007, -3.7228, -3.8091, -4.0999, -4.1961, -4.3987, -4.4155, -4.6153, -4.6222, -4.7267, -5.1365, -5.5274, -5.943, -5.966, -6.3633, -6.6443, -11.0235, -11.0145, -2.0595, -2.2049, -2.4762, -2.8101, -2.9028, -2.9671, -3.2638, -3.3722, -3.3997, -3.5328, -3.7698, -3.8748, -3.8777, -4.2644, -4.3923, -4.4332, -4.4472, -4.5603, -4.5798, -5.0898, -5.1683, -5.2589, -5.3641, -7.705, -7.786, -7.9563, -10.7546, -10.7367, -10.7517, -10.7598, -10.7596, -10.7553, -10.7478, -10.7332, -10.7486, -1.7015, -1.9437, -3.0576, -3.2331, -3.2444, -3.421, -3.5538, -3.5727, -3.6737, -3.7793, -3.8225, -3.8614, -3.9037, -3.9482, -3.9659, -4.2263, -4.2794, -4.3994, -4.5581, -4.8205, -4.8609, -4.8682, -4.8872, -4.9746, -5.2528, -5.7414, -6.895, -7.334, -10.714, -10.7334, -2.1604, -2.3083, -2.6136, -2.6616, -2.8118, -3.0265, -3.3109, -3.408, -3.6532, -3.693, -3.748, -3.8086, -4.0103, -4.1914, -4.2156, -4.2279, -4.3409, -4.4381, -4.5134, -4.7558, -4.8696, -4.978, -5.3642, -5.7577, -6.3301, -7.1572, -8.6282, -8.8271, -10.6672, -10.6908, -10.6806, -1.9595, -2.5489, -2.6037, -2.6499, -2.7505, -2.8517, -3.4575, -3.5923, -3.6059, -3.6715, -3.7436, -3.8919, -4.132, -4.2327, -4.2488, -4.2858, -4.4115, -4.9799, -5.083, -5.2424, -5.2693, -5.2709, -5.574, -5.8812, -6.0159, -6.2099, -10.6111, -10.6273, -10.638, -10.6202, -10.6171, -10.598, -10.6069, -2.0422, -2.0545, -2.5918, -2.8066, -3.4044, -3.4309, -3.4666, -3.6481, -3.7541, -3.7722, -3.8716, -3.897, -4.175, -4.2106, -4.3932, -4.3991, -4.7493, -4.7533, -5.01, -5.1213, -5.1322, -5.1596, -5.3992, -5.5234, -5.8378, -6.3053, -10.5031, -10.5051, -10.5048, -10.5094, -10.4966, -10.4556, -10.4904, -10.4864, -10.4806, -10.4803, -10.4688, -1.3895, -2.216, -2.2428, -2.7662, -3.2994, -3.374, -3.5519, -3.565, -3.5998, -3.8144, -4.94, -5.0963, -6.7203, -10.4384, -10.4455, -10.4325, -10.4318, -10.4643, -10.4852, -10.5002, -10.4922, -10.5019, -10.4992, -10.4918, -10.496, -10.5017, -10.509, -10.5135, -10.5097, -10.5009, -10.5103, -10.4932, -10.502, -10.5001, -10.4987], \"loglift\": [30.0, 29.0, 28.0, 27.0, 26.0, 25.0, 24.0, 23.0, 22.0, 21.0, 20.0, 19.0, 18.0, 17.0, 16.0, 15.0, 14.0, 13.0, 12.0, 11.0, 10.0, 9.0, 8.0, 7.0, 6.0, 5.0, 4.0, 3.0, 2.0, 1.0, 1.6753, 1.675, 1.6747, 1.6747, 1.6744, 1.6741, 1.674, 1.674, 1.6737, 1.6737, 1.6736, 1.6736, 1.6732, 1.6729, 1.6728, 1.6725, 1.6723, 1.6722, 1.6722, 1.6722, 1.6722, 1.672, 1.6715, 1.6715, 1.6711, 1.6709, 1.6708, 1.6703, 1.6702, 1.6701, 1.6633, 1.1205, 2.0578, 2.0578, 2.0572, 2.0569, 2.0569, 2.0567, 2.0567, 2.0565, 2.0565, 2.0563, 2.0562, 2.0558, 2.0557, 2.0555, 2.0551, 2.0548, 2.0539, 2.0535, 2.0535, 2.0531, 2.0526, 2.0521, 2.0517, 2.0514, 2.0506, 2.0501, 2.0498, 2.0491, 2.0487, 2.0487, 2.0334, 2.0996, 2.0985, 2.0982, 2.0982, 2.0982, 2.0981, 2.098, 2.0979, 2.0978, 2.0975, 2.0974, 2.0973, 2.0971, 2.0969, 2.0965, 2.0963, 2.0963, 2.0961, 2.096, 2.0958, 2.0958, 2.0955, 2.0953, 2.0951, 2.0949, 2.0946, 2.0943, 2.0939, 2.0937, 2.0937, 1.2461, 2.3387, 2.3383, 2.3383, 2.3379, 2.3379, 2.3377, 2.3375, 2.3374, 2.3371, 2.3367, 2.3365, 2.3362, 2.3359, 2.3356, 2.3354, 2.3349, 2.3348, 2.3348, 2.3341, 2.3337, 2.3336, 2.3332, 2.3331, 2.3327, 2.3324, 2.3323, 2.3316, 2.331, 2.331, 2.3307, 2.528, 2.5279, 2.5263, 2.5261, 2.5261, 2.5255, 2.5249, 2.5247, 2.5246, 2.5243, 2.5235, 2.5234, 2.5224, 2.5224, 2.5223, 2.5221, 2.522, 2.5219, 2.5215, 2.5214, 2.5208, 2.5202, 2.52, 2.5198, 2.5192, 2.5166, 2.5166, 2.516, 2.5153, 2.5153, 2.4578, 2.8856, 2.8855, 2.8832, 2.883, 2.8825, 2.8823, 2.882, 2.8816, 2.8811, 2.8804, 2.8794, 2.8759, 2.8753, 2.8734, 2.8728, 2.8713, 2.8712, 2.8695, 2.8692, 2.8679, 2.8669, 2.8667, 2.8653, 2.865, 2.8639, 2.8616, 2.8609, 2.8549, 2.8516, 2.8506, 2.9316, 2.9312, 2.9307, 2.9302, 2.9297, 2.9295, 2.9294, 2.9294, 2.9293, 2.9284, 2.928, 2.9256, 2.9241, 2.9231, 2.9223, 2.9221, 2.9204, 2.9202, 2.9198, 2.9194, 2.9188, 2.918, 2.9173, 2.9153, 2.9151, 2.9148, 2.914, 2.912, 2.9093, 2.9083, 3.0841, 3.0811, 3.0802, 3.0801, 3.079, 3.0787, 3.0783, 3.078, 3.0776, 3.0769, 3.0766, 3.0759, 3.0749, 3.0748, 3.0743, 3.074, 3.0735, 3.073, 3.0708, 3.0692, 3.0686, 3.0682, 3.0621, 3.0604, 3.0604, 3.06, 3.0591, 3.0586, 3.0565, 3.0558, 3.0869, 3.0866, 3.0859, 3.0852, 3.0848, 3.0848, 3.0846, 3.0822, 3.0818, 3.0817, 3.0816, 3.0805, 3.0805, 3.0793, 3.0785, 3.0749, 3.0735, 3.0701, 3.0698, 3.0656, 3.0654, 3.0628, 3.0498, 3.0316, 3.0033, 3.0013, 2.9612, 2.923, 0.3042, 0.3022, 3.2846, 3.2843, 3.2835, 3.2822, 3.2817, 3.2814, 3.2795, 3.2786, 3.2784, 3.2772, 3.2746, 3.2733, 3.2732, 3.2669, 3.2642, 3.2632, 3.2629, 3.2601, 3.2595, 3.2418, 3.2382, 3.2337, 3.228, 2.798, 2.7658, 2.6932, 0.6114, 0.6087, 0.6062, 0.605, 0.605, 0.5996, 0.5865, 0.5304, 0.5828, 3.2866, 3.2862, 3.2821, 3.281, 3.2809, 3.2795, 3.2783, 3.2781, 3.277, 3.2758, 3.2752, 3.2747, 3.2741, 3.2735, 3.2733, 3.2688, 3.2678, 3.2652, 3.2613, 3.2534, 3.252, 3.2518, 3.2511, 3.2477, 3.2351, 3.2031, 3.0401, 2.9258, 0.6207, 0.6023, 3.3815, 3.3811, 3.3799, 3.3797, 3.379, 3.3778, 3.3756, 3.3748, 3.3722, 3.3717, 3.371, 3.3702, 3.367, 3.3637, 3.3632, 3.3629, 3.3604, 3.358, 3.356, 3.3484, 3.3442, 3.3397, 3.3193, 3.2895, 3.2221, 3.0459, 2.3718, 2.2406, 0.6969, 0.6828, 0.6752, 3.4673, 3.4653, 3.4651, 3.4649, 3.4644, 3.4638, 3.4589, 3.4573, 3.4572, 3.4563, 3.4553, 3.4531, 3.4486, 3.4464, 3.446, 3.4451, 3.4419, 3.4211, 3.416, 3.407, 3.4053, 3.4052, 3.3833, 3.354, 3.3384, 3.3124, 0.7528, 0.7389, 0.7385, 0.7383, 0.738, 0.7258, 0.6567, 3.6348, 3.6348, 3.6325, 3.6312, 3.6258, 3.6255, 3.625, 3.6225, 3.6207, 3.6204, 3.6186, 3.6181, 3.6119, 3.6109, 3.6056, 3.6054, 3.5921, 3.5919, 3.5789, 3.5721, 3.5714, 3.5697, 3.552, 3.5411, 3.5076, 3.4373, 0.8727, 0.8712, 0.8704, 0.8688, 0.8687, 0.8683, 0.8642, 0.8564, 0.8408, 0.8364, 0.7948, 3.863, 3.8603, 3.8602, 3.8568, 3.8511, 3.8501, 3.8472, 3.8469, 3.8463, 3.8419, 3.7953, 3.784, 3.5085, 0.915, 0.9107, 0.9032, 0.9029, 0.8829, 0.8787, 0.8768, 0.8767, 0.8765, 0.8679, 0.8655, 0.8646, 0.8644, 0.8638, 0.8628, 0.8627, 0.8616, 0.8615, 0.8518, 0.8565, 0.8427, 0.8327]}, \"token.table\": {\"Topic\": [4, 8, 7, 7, 1, 10, 10, 6, 2, 5, 6, 3, 5, 15, 6, 4, 5, 1, 7, 7, 7, 5, 12, 5, 12, 4, 1, 7, 11, 2, 4, 9, 6, 7, 3, 4, 8, 4, 3, 13, 1, 8, 11, 12, 3, 1, 14, 12, 7, 5, 13, 3, 12, 2, 5, 9, 10, 7, 3, 6, 4, 1, 11, 13, 4, 4, 3, 2, 8, 15, 1, 9, 9, 8, 1, 8, 8, 4, 10, 9, 3, 3, 5, 3, 10, 2, 5, 11, 2, 8, 10, 15, 9, 6, 14, 5, 6, 14, 6, 7, 3, 2, 11, 5, 1, 8, 11, 10, 14, 13, 6, 8, 8, 3, 12, 5, 5, 10, 2, 9, 9, 12, 2, 8, 11, 7, 5, 11, 6, 13, 12, 4, 5, 11, 14, 14, 7, 5, 4, 13, 3, 9, 15, 11, 7, 9, 14, 2, 8, 8, 9, 13, 1, 8, 1, 1, 9, 13, 2, 9, 14, 4, 4, 8, 6, 5, 3, 11, 1, 3, 6, 4, 14, 2, 8, 6, 1, 15, 8, 7, 6, 1, 5, 4, 6, 10, 2, 7, 1, 12, 6, 6, 9, 7, 6, 1, 12, 11, 8, 3, 1, 9, 11, 8, 4, 3, 13, 5, 3, 12, 9, 9, 9, 5, 2, 7, 1, 13, 14, 2, 15, 11, 2, 2, 1, 2, 11, 8, 10, 9, 11, 6, 3, 2, 8, 10, 1, 10, 1, 3, 14, 12, 6, 9, 1, 13, 7, 5, 10, 7, 5, 1, 4, 4, 12, 12, 15, 15, 2, 15, 10, 14, 6, 12, 13, 3, 3, 4, 11, 11, 6, 2, 13, 10, 4, 14, 5, 5, 5, 13, 10, 3, 1, 12, 8, 9, 4, 12, 7, 1, 15, 11, 11, 13, 12, 7, 2, 7, 6, 11, 8, 2, 5, 14, 1, 10, 14, 11, 10, 2, 13, 10, 12, 11, 8, 2, 14, 4, 7, 5, 10, 13, 6, 8, 7, 12, 12, 12, 2, 3, 4, 10, 12, 10, 15, 14, 9, 2, 8, 4, 3, 3, 8, 12, 4, 1, 9, 14, 5, 7, 8, 14, 1, 3, 4, 5, 9, 13, 13, 7, 13, 6, 15, 14, 1, 3, 9, 6, 11, 12, 2, 6, 14, 3, 11, 1, 2, 7, 14, 7, 13, 4, 6, 2, 15, 10, 5, 5, 9, 3, 11, 1, 14, 14, 1, 13, 14, 10, 6, 4, 13, 3, 12, 9, 12, 14, 6, 10, 12, 11, 9, 13, 13, 7, 2, 11, 10, 8, 2, 4, 13, 7, 3], \"Freq\": [0.9944941759733398, 0.9803874159498877, 0.9899803792317917, 0.9927255754197193, 0.9958307874346415, 0.9695268287310088, 0.9882575502545305, 0.9811089056127067, 0.06626755424310575, 0.9302945114897537, 0.9867319784853644, 0.995753571656725, 0.9903362753887782, 0.903690831283485, 0.9841212915897147, 0.994766861655093, 0.9823109890277857, 0.9975785193577854, 0.9754710872901716, 0.9753643322265632, 0.9882842991294097, 0.9982189451121969, 0.950598031640941, 0.9902821529335898, 0.989785453440631, 0.997749281342749, 0.9981008447973861, 0.9935515833039984, 0.9831362995924019, 0.9907059424063506, 0.9973574751370525, 0.9937184256886946, 0.9730294237267461, 0.9900335783569162, 0.9943895481179739, 0.9939960593549125, 0.9636879725419505, 0.9906894998343627, 0.9963323112293719, 0.9473192187270806, 0.9983544734981336, 0.9949149673069186, 0.769360826336977, 0.884666944064337, 0.9967109521207297, 0.9967771148362389, 0.9415076399192679, 0.9873938891077971, 0.9972304650412103, 0.9896902933142714, 0.9872047726489938, 0.9964538239652463, 0.961179995080497, 0.9948203655208036, 0.9955596445194176, 0.9929616809930808, 0.997071583612389, 0.9966991030169797, 0.99290429370673, 0.9862809668370841, 0.9888094134618919, 0.9940166753347478, 0.99233554611781, 0.9847095754221831, 0.9950250257292117, 0.9985385238203097, 0.9971340968908524, 0.9884229557525882, 0.9858505966905837, 0.9928825108550672, 0.9972040078516125, 0.9960869982503046, 0.9758749964697164, 0.980185967681511, 0.997485429606703, 0.9758117931326058, 0.9806609781642346, 0.9936690117150199, 0.9982763833592624, 0.8963508208542789, 0.9957195652280579, 0.9964396888215225, 0.9887548363085105, 0.9931685356470645, 0.654110003976013, 0.9943240970969711, 0.9920060547116716, 0.9926068478957902, 0.991922268297002, 0.980921392299145, 0.984055231742653, 0.9957922334715704, 0.9909553843477106, 0.9880146245023369, 0.9435129839030836, 0.9938345664952475, 0.9939375771539324, 0.9884110826620832, 0.997396523185446, 0.9868101345205738, 0.9951229087688543, 0.9965365788268427, 0.7414159920609569, 0.9956431438831036, 0.9914740761652913, 0.9811802460144117, 0.9922022161587388, 0.9820094489750587, 0.9844488651968214, 0.970964518560623, 0.9987402088090059, 0.9727074746927077, 0.9958607964781501, 0.9932672284663018, 0.976523463988335, 0.9966208236855567, 0.9935008204405741, 0.9938393874331516, 0.9973341301870456, 0.967424472041082, 0.979253028104803, 0.977784165202277, 0.9946722031136238, 0.9937605991920992, 0.9880123109571461, 0.9803664413574757, 0.9956476720829095, 0.9978741882740662, 0.995496515710434, 0.9871004970936891, 0.9905087186828293, 0.9924369041984633, 0.9958754158676835, 0.9884365286686059, 0.9450834467910098, 0.962855640227382, 0.9902543435834502, 0.9917901796356944, 0.9904944040898594, 0.9954650828502194, 0.9948771501331726, 0.9949678058298622, 0.74587985711924, 0.9656589490071241, 0.9826497854863324, 0.9155004089584649, 0.9103588976891807, 0.9976034482584863, 0.9834702388365512, 0.9948036429504084, 0.9758433176895399, 0.9985129467531618, 0.9983248443868706, 0.9893747371676209, 0.998282482511495, 0.9953391209888585, 0.9949871457998001, 0.8586111027431481, 0.9942285164345678, 0.9726144888038646, 0.9724595833731637, 0.9943459501443626, 0.9961855793235012, 0.9907919321294075, 0.9855061775507338, 0.991129302667408, 0.9903662385018794, 0.8947928806164084, 0.9864983207681629, 0.010722807834436554, 0.9784899395611255, 0.9978731862406119, 0.9769697216907177, 0.9978437104326416, 0.9985085593084471, 0.9967781867441555, 0.9962877965714241, 0.9679897701562139, 0.9870172997688311, 0.9966528021534252, 0.9774907739960644, 0.9965364999294586, 0.9892916968933351, 0.997220018025936, 0.9959269717847947, 0.9646034914301402, 0.9964939882489264, 0.9779232434949945, 0.9945053113062028, 0.98704757404846, 0.9673276892063729, 0.9940635593905295, 0.9799688594032735, 0.9783485665095975, 0.9773660898315313, 0.9953451559385569, 0.9969559820877844, 0.9906044434008171, 0.9895635905226725, 0.9970084877516256, 0.9959389172357739, 0.9955726759347473, 0.9842186143646257, 0.9918274941667725, 0.9966035883814245, 0.9935762315687192, 0.996888243655091, 0.9828808467481519, 0.9924364622129008, 0.9889899953787563, 0.9755840177626645, 0.9937586588478858, 0.995878503668341, 0.9904561860959806, 0.9967354331936163, 0.9938243165611577, 0.9937120032252869, 0.9972328970951586, 0.9196908184767917, 0.9967231192394513, 0.981174782392478, 0.9870911032086012, 0.9962130577552913, 0.9914011924436059, 0.9971035593864696, 0.9984570667363164, 0.9527803796679448, 0.979832028876637, 0.3786548011917539, 0.9960219822609742, 0.9799058320952596, 0.9928755076752039, 0.9956101975529806, 0.9969797655347786, 0.9918124397156621, 0.9882551608276009, 0.9979705832092212, 0.9637120390863166, 0.9966321595614109, 0.9945664402924462, 0.9808855348676352, 0.5753106705275317, 0.9987312816648876, 0.9964037254521579, 0.9983258312553945, 0.8295574275811081, 0.9834663643915234, 0.9915741220819868, 0.9919849513233562, 0.987085495161966, 0.9940316263496163, 0.9967739767897754, 0.9945903119714113, 0.9945534934539539, 0.9965753508556084, 0.9931645832528506, 0.9855569191400451, 0.9832941657177396, 0.9937912466402202, 0.9492648668091047, 0.9915440804215845, 0.9646371855180377, 0.9596870222923485, 0.9931035540238122, 0.985182788672154, 0.9978959686009473, 0.9964836974452848, 0.9952049938388002, 0.9981634642861005, 0.9592090381477063, 0.9787770847826907, 0.9956399330579204, 0.9257378571362724, 0.9801091225318302, 0.9939954292508937, 0.9679937302212411, 0.9980930484279879, 0.9903175471537802, 0.9886193961475302, 0.9593086179960577, 0.9976350091706575, 0.989903502352982, 0.994408240692526, 0.9543971554833475, 0.9794820242886414, 0.9973419121424891, 0.997330507976979, 0.9728410349107015, 0.9952252436578664, 0.9959746228721792, 0.9969463524555754, 0.9815695480882186, 0.9695107068663765, 0.970880390798219, 0.5376032015857954, 0.9842908248621081, 0.9966102957385237, 0.9966959087257657, 0.9864419794939392, 0.9855215069566083, 0.9927525123132954, 0.9972822122295754, 0.9942330773730678, 0.9820047592038943, 0.9944255629802798, 0.9847326526964496, 0.76443000750935, 0.9832685408369876, 0.9681958660254933, 0.9882515248020516, 0.9957298135178199, 0.9814477323429247, 0.9778088497667462, 0.9589072959689938, 0.9914096789164792, 0.9978254436809252, 0.9955758699372429, 0.9977268513985137, 0.9959706494088404, 0.9941669988889735, 0.9970455670828552, 0.9222868050430645, 0.9814490350684424, 0.9937125285976275, 0.9960875286621915, 0.9966785993335507, 0.7270074769269349, 0.9951395646525367, 0.9962289231385982, 0.9963924964033077, 0.9886204607391865, 0.9192856458168452, 0.915279410689089, 0.9681917204125432, 0.9982859450786844, 0.9312746514084962, 0.9855277815579206, 0.9922702271614587, 0.9908648051930942, 0.9934457889601176, 0.9931377298982367, 0.9942667703954948, 0.9825412885996135, 0.9956681957695919, 0.9974818594393736, 0.995505843642701, 0.9058843040880226, 0.9928317990269943, 0.9924343281531278, 0.9710816897794208, 0.9879767593220202, 0.9897194398454671, 0.9940963109130931, 0.9978463473828516, 0.995411865391178, 0.981822841642532, 0.9938747962567988, 0.920552939474894, 0.9858834092769366, 0.9939579861580754, 0.9862927015282795, 0.9861161251051757, 0.9843576471784546, 0.9965297785244247, 0.573482042803155, 0.42493680029363284, 0.9971112391068614, 0.9572077206297953, 0.9933646635529665, 0.9630740680702506, 0.9981232543690126, 0.9846760788113418, 0.9624234963874804, 0.9922541756785156, 0.9923277671551471, 0.02473494410993494, 0.9745567979314367, 0.9893096084450145, 0.9934228593375611, 0.9973384799756485, 0.9459226627841179, 0.9941096763819253, 0.9880060536240327, 0.9973862235525833, 0.9844394227070941, 0.9932568086701986, 0.9959655881208913, 0.9946363018977786, 0.9851899115433245, 0.9939335538116516, 0.9760950617377117, 0.9981037918746712, 0.9007768269078962, 0.9806386725731588, 0.9954847732558617, 0.9932620549510764, 0.9249570414842089, 0.6868920859592615, 0.9946799214582128, 0.997177609670068, 0.9817078322331277, 0.9980639366717924, 0.9836795596191092, 0.8981602866411651, 0.982354278795213, 0.9733005119228666, 0.9965771197936034, 0.993103938565916, 0.9561613219954139, 0.988106271292669, 0.9362448202828746, 0.9063559405453986, 0.9830750101068209, 0.9812154436816573, 0.9988439566630642, 0.988031071221262, 0.9934616922942546, 0.9928400733773856, 0.9959821157082291, 0.9953671629031052, 0.9854240681923297, 0.9980206497088004, 0.9921632634404299], \"Term\": [\"able\", \"accept\", \"access\", \"accident\", \"add\", \"admit\", \"afford\", \"age\", \"agree\", \"agree\", \"airport\", \"alight\", \"allow\", \"amazon\", \"amount\", \"app\", \"apply\", \"area\", \"argument\", \"arrest\", \"article\", \"ask\", \"aunty\", \"available\", \"avoid\", \"away\", \"bad\", \"base\", \"beat\", \"believe\", \"big\", \"bit\", \"blame\", \"block\", \"board\", \"book\", \"bother\", \"break\", \"bring\", \"buck\", \"business\", \"buy\", \"cabby\", \"cabin\", \"call\", \"card\", \"carriage\", \"carry\", \"case\", \"cash\", \"catch\", \"cause\", \"ceo\", \"chance\", \"change\", \"charge\", \"cheap\", \"check\", \"child\", \"choice\", \"choose\", \"city\", \"claim\", \"clean\", \"close\", \"com\", \"come\", \"comment\", \"common\", \"commuter\", \"company\", \"compare\", \"complain\", \"complete\", \"consider\", \"contract\", \"conversation\", \"correctly\", \"cost\", \"count\", \"country\", \"couple\", \"course\", \"crowd\", \"crown\", \"cut\", \"day\", \"deal\", \"decide\", \"decision\", \"deck\", \"demand\", \"depend\", \"design\", \"desire\", \"destination\", \"different\", \"direction\", \"do\", \"dollar\", \"door\", \"drive\", \"drunk\", \"due\", \"early\", \"earn\", \"easy\", \"efficient\", \"elderly\", \"encounter\", \"end\", \"energy\", \"enough\", \"entire\", \"entitle\", \"especially\", \"expect\", \"expensive\", \"experience\", \"expressway\", \"extra\", \"eye\", \"face\", \"fact\", \"fail\", \"fair\", \"far\", \"fare\", \"fast\", \"fee\", \"fine\", \"firm\", \"first\", \"fix\", \"flaw\", \"focus\", \"follow\", \"force\", \"form\", \"free\", \"friend\", \"front\", \"fulfil\", \"fund\", \"future\", \"gahman\", \"gear\", \"general\", \"generally\", \"get\", \"girl\", \"give\", \"go\", \"gon\", \"good\", \"government\", \"great\", \"gross\", \"group\", \"guy\", \"haha\", \"hand\", \"happen\", \"hard\", \"hate\", \"head\", \"hear\", \"heat\", \"help\", \"help\", \"hence\", \"high\", \"hit\", \"hold\", \"home\", \"hour\", \"however\", \"huge\", \"human\", \"imagine\", \"incentive\", \"include\", \"income\", \"increase\", \"information\", \"injure\", \"instead\", \"involve\", \"issue\", \"jail\", \"jam\", \"job\", \"journey\", \"judge\", \"junction\", \"keep\", \"kid\", \"kind\", \"know\", \"lady\", \"large\", \"late\", \"later\", \"learn\", \"least\", \"leave\", \"less\", \"let\", \"life\", \"likely\", \"literally\", \"little\", \"live\", \"location\", \"long\", \"look\", \"lose\", \"low\", \"mad\", \"make\", \"management\", \"map\", \"market\", \"matter\", \"maybe\", \"mean\", \"meh\", \"member\", \"memorable\", \"mention\", \"meter\", \"min\", \"mind\", \"minute\", \"miss\", \"model\", \"money\", \"monopoly\", \"month\", \"move\", \"name\", \"navy\", \"need\", \"never\", \"new\", \"newer\", \"news\", \"nice\", \"non\", \"normal\", \"note\", \"number\", \"offer\", \"often\", \"old\", \"open\", \"operate\", \"operation\", \"operator\", \"order\", \"other\", \"pain\", \"pap\", \"parent\", \"park\", \"part\", \"pass\", \"passenger\", \"pay\", \"pedestrian\", \"personal\", \"phone\", \"phv\", \"pic\", \"pick\", \"picture\", \"place\", \"plan\", \"play\", \"pocket\", \"point\", \"police\", \"power\", \"pregnant\", \"premium\", \"pretty\", \"price\", \"priority\", \"probably\", \"problem\", \"provide\", \"ptc\", \"puke\", \"pull\", \"punching\", \"push\", \"put\", \"question\", \"queue\", \"rate\", \"rather\", \"reach\", \"read\", \"real\", \"reason\", \"recently\", \"redundant\", \"refuse\", \"relatively\", \"remember\", \"rent\", \"rental\", \"reserve\", \"response\", \"result\", \"ride\", \"right\", \"road\", \"route\", \"rule\", \"run\", \"sad\", \"safe\", \"save\", \"say\", \"school\", \"seal\", \"seat\", \"second\", \"see\", \"seem\", \"self_drive\", \"sentence\", \"seriously\", \"service\", \"shake\", \"share\", \"shift\", \"shit\", \"short\", \"show\", \"side\", \"simple\", \"sit\", \"situation\", \"small\", \"smoke\", \"solution\", \"sometimes\", \"sorry\", \"sound\", \"speed\", \"spend\", \"stand\", \"start\", \"state\", \"stay\", \"stomp\", \"story\", \"student\", \"study\", \"stupid\", \"supply\", \"system\", \"take\", \"take\", \"talk\", \"tampine\", \"tap\", \"teach\", \"tell\", \"tend\", \"test\", \"thank\", \"ticket\", \"time\", \"time\", \"today\", \"top\", \"totally\", \"tough\", \"traffic\", \"transit\", \"travel\", \"trial\", \"trip\", \"try\", \"turn\", \"type\", \"understand\", \"update\", \"use\", \"useless\", \"user\", \"usually\", \"vehicle\", \"visible\", \"void\", \"wait\", \"walk\", \"wallet\", \"want\", \"wear\", \"wedding\", \"week\", \"welcome\", \"well\", \"whole\", \"wife\", \"willing\", \"wise\", \"witness\", \"woman\", \"word\", \"work\", \"worker\", \"world\", \"worth\", \"wrong\", \"www\", \"yellow\", \"yet\", \"young\"]}, \"R\": 30, \"lambda.step\": 0.01, \"plot.opts\": {\"xlab\": \"PC1\", \"ylab\": \"PC2\"}, \"topic.order\": [9, 14, 8, 4, 5, 6, 13, 15, 1, 10, 7, 3, 12, 2, 11]};\n",
       "\n",
       "function LDAvis_load_lib(url, callback){\n",
       "  var s = document.createElement('script');\n",
       "  s.src = url;\n",
       "  s.async = true;\n",
       "  s.onreadystatechange = s.onload = callback;\n",
       "  s.onerror = function(){console.warn(\"failed to load library \" + url);};\n",
       "  document.getElementsByTagName(\"head\")[0].appendChild(s);\n",
       "}\n",
       "\n",
       "if(typeof(LDAvis) !== \"undefined\"){\n",
       "   // already loaded: just create the visualization\n",
       "   !function(LDAvis){\n",
       "       new LDAvis(\"#\" + \"ldavis_el2108417264518766326450658318\", ldavis_el2108417264518766326450658318_data);\n",
       "   }(LDAvis);\n",
       "}else if(typeof define === \"function\" && define.amd){\n",
       "   // require.js is available: use it to load d3/LDAvis\n",
       "   require.config({paths: {d3: \"https://d3js.org/d3.v5\"}});\n",
       "   require([\"d3\"], function(d3){\n",
       "      window.d3 = d3;\n",
       "      LDAvis_load_lib(\"https://cdn.jsdelivr.net/gh/bmabey/pyLDAvis@3.2.2/pyLDAvis/js/ldavis.v3.0.0.js\", function(){\n",
       "        new LDAvis(\"#\" + \"ldavis_el2108417264518766326450658318\", ldavis_el2108417264518766326450658318_data);\n",
       "      });\n",
       "    });\n",
       "}else{\n",
       "    // require.js not available: dynamically load d3 & LDAvis\n",
       "    LDAvis_load_lib(\"https://d3js.org/d3.v5.js\", function(){\n",
       "         LDAvis_load_lib(\"https://cdn.jsdelivr.net/gh/bmabey/pyLDAvis@3.2.2/pyLDAvis/js/ldavis.v3.0.0.js\", function(){\n",
       "                 new LDAvis(\"#\" + \"ldavis_el2108417264518766326450658318\", ldavis_el2108417264518766326450658318_data);\n",
       "            })\n",
       "         });\n",
       "}\n",
       "</script>"
      ],
      "text/plain": [
       "PreparedData(topic_coordinates=              x         y  topics  cluster       Freq\n",
       "topic                                                \n",
       "8      0.344540  0.168206       1        1  18.703195\n",
       "13     0.169589 -0.384853       2        1  12.754989\n",
       "7      0.187874  0.147529       3        1  12.229525\n",
       "3      0.033432 -0.040157       4        1   9.626474\n",
       "4      0.029978 -0.076275       5        1   7.970942\n",
       "5     -0.016559 -0.003752       6        1   5.574802\n",
       "12    -0.047455  0.010201       7        1   5.317314\n",
       "14    -0.072032  0.018576       8        1   4.568822\n",
       "0     -0.051589  0.011755       9        1   4.554642\n",
       "9     -0.088262  0.023002      10        1   3.737098\n",
       "6     -0.085391  0.022277      11        1   3.732146\n",
       "2     -0.094488  0.024492      12        1   3.390476\n",
       "11    -0.098337  0.025347      13        1   3.112644\n",
       "1     -0.106589  0.027001      14        1   2.630693\n",
       "10    -0.104711  0.026652      15        1   2.096238, topic_info=           Term         Freq        Total Category  logprob  loglift\n",
       "65         time  1415.000000  1415.000000  Default  30.0000  30.0000\n",
       "216         end   941.000000   941.000000  Default  29.0000  29.0000\n",
       "539         pay   759.000000   759.000000  Default  28.0000  28.0000\n",
       "58         need   827.000000   827.000000  Default  27.0000  27.0000\n",
       "34      service   582.000000   582.000000  Default  26.0000  26.0000\n",
       "...         ...          ...          ...      ...      ...      ...\n",
       "3496   resource     0.063628     1.282476  Topic15 -10.5103   0.8615\n",
       "1259    benefit     0.064722     1.317223  Topic15 -10.4932   0.8518\n",
       "1932      fleet     0.064161     1.299689  Topic15 -10.5020   0.8565\n",
       "2616  peak_hour     0.064277     1.320240  Topic15 -10.5001   0.8427\n",
       "1782     factor     0.064370     1.335349  Topic15 -10.4987   0.8327\n",
       "\n",
       "[506 rows x 6 columns], token_table=      Topic      Freq      Term\n",
       "term                           \n",
       "588       4  0.994494      able\n",
       "1095      8  0.980387    accept\n",
       "518       7  0.989980    access\n",
       "21        7  0.992726  accident\n",
       "1278      1  0.995831       add\n",
       "...     ...       ...       ...\n",
       "1355      2  0.995982     wrong\n",
       "836       4  0.995367       www\n",
       "420      13  0.985424    yellow\n",
       "731       7  0.998021       yet\n",
       "512       3  0.992163     young\n",
       "\n",
       "[423 rows x 3 columns], R=30, lambda_step=0.01, plot_opts={'xlab': 'PC1', 'ylab': 'PC2'}, topic_order=[9, 14, 8, 4, 5, 6, 13, 15, 1, 10, 7, 3, 12, 2, 11])"
      ]
     },
     "execution_count": 73,
     "metadata": {},
     "output_type": "execute_result"
    }
   ],
   "source": [
    "# Visualize the topics\n",
    "pyLDAvis.enable_notebook()\n",
    "vis = pyLDAvis.gensim.prepare(df_bcovid_data_ldamodel,\n",
    "                              df_bcovid_data_corpus, \n",
    "                              df_bcovid_data_id2word)\n",
    "vis"
   ]
  },
  {
   "cell_type": "markdown",
   "metadata": {},
   "source": [
    "## After Covid"
   ]
  },
  {
   "cell_type": "code",
   "execution_count": 62,
   "metadata": {},
   "outputs": [
    {
     "data": {
      "text/html": [
       "\n",
       "<link rel=\"stylesheet\" type=\"text/css\" href=\"https://cdn.jsdelivr.net/gh/bmabey/pyLDAvis@3.2.2/pyLDAvis/js/ldavis.v1.0.0.css\">\n",
       "\n",
       "\n",
       "<div id=\"ldavis_el2108417266159198564058720361\"></div>\n",
       "<script type=\"text/javascript\">\n",
       "\n",
       "var ldavis_el2108417266159198564058720361_data = {\"mdsDat\": {\"x\": [-0.2520339869361492, -0.23555007678663276, -0.22837808733722625, -0.13720396702015103, -0.06333835621875515, -0.01306760428874884, 0.001854675890001102, -0.014053260762753306, 0.008751708963446181, 0.023679004020731993, 0.02545692634190911, 0.056099863694369805, 0.034633395339584365, 0.0765902995506066, 0.09076576563462459, 0.10115655000348404, 0.09666904067164371, 0.1132707394560301, 0.15556632796977582, 0.15913104181420837], \"y\": [-0.36640804360106694, 0.27218465896278193, 0.1059238793831841, 0.010897015491587093, 0.0026738901845827683, 8.145869749825172e-05, -0.0004949853661379464, 0.00011907501179812854, -0.0006780600752899265, -0.0011438503712015737, -0.001171587001708322, -0.0019188747766947332, -0.0014124929514098444, -0.002286711826213898, -0.002509834546696928, -0.002644228597385172, -0.002577106872315164, -0.0027716702030382667, -0.0029417579309203037, -0.0029207736113542253], \"topics\": [1, 2, 3, 4, 5, 6, 7, 8, 9, 10, 11, 12, 13, 14, 15, 16, 17, 18, 19, 20], \"cluster\": [1, 1, 1, 1, 1, 1, 1, 1, 1, 1, 1, 1, 1, 1, 1, 1, 1, 1, 1, 1], \"Freq\": [14.117701526377669, 13.456568123992001, 12.675618386337959, 8.270504791073689, 6.028817143712185, 4.906653434370035, 4.791185879671847, 4.744780178168751, 4.269300879058743, 4.099322622077833, 3.9738645242645108, 3.2817385545208744, 3.2139710061550217, 2.6493451025813606, 2.323698582243168, 2.0386162947508057, 1.8413620998097207, 1.7566607189037329, 0.8932456816815166, 0.6670444702485739]}, \"tinfo\": {\"Term\": [\"service\", \"time\", \"work\", \"new\", \"company\", \"place\", \"case\", \"use\", \"home\", \"cost\", \"road\", \"good\", \"take\", \"old\", \"government\", \"job\", \"school\", \"point\", \"drive\", \"call\", \"help\", \"happen\", \"go\", \"well\", \"first\", \"issue\", \"run\", \"add\", \"do\", \"live\", \"work\", \"take\", \"job\", \"point\", \"long\", \"high\", \"pay\", \"price\", \"try\", \"wait\", \"instead\", \"month\", \"able\", \"experience\", \"day\", \"become\", \"lose\", \"singaporean\", \"fare\", \"phone\", \"pretty\", \"force\", \"card\", \"get\", \"income\", \"reduce\", \"large\", \"today\", \"salary\", \"certain\", \"use\", \"good\", \"right\", \"mean\", \"give\", \"worker\", \"bad\", \"enough\", \"vehicle\", \"make\", \"reason\", \"need\", \"money\", \"due\", \"charge\", \"report\", \"support\", \"cause\", \"law\", \"victim\", \"fact\", \"think\", \"station\", \"care\", \"know\", \"society\", \"term\", \"operation\", \"late\", \"love\", \"time\", \"company\", \"help\", \"well\", \"first\", \"do\", \"ask\", \"see\", \"maybe\", \"problem\", \"come\", \"different\", \"part\", \"side\", \"probably\", \"friend\", \"move\", \"hit\", \"spend\", \"head\", \"rule\", \"nice\", \"build\", \"shit\", \"personal\", \"rent\", \"earn\", \"super\", \"release\", \"restaurant\", \"end\", \"change\", \"thing\", \"route\", \"away\", \"tell\", \"face\", \"rather\", \"continue\", \"usually\", \"start\", \"minute\", \"base\", \"industry\", \"exit\", \"avoid\", \"follow\", \"board\", \"top\", \"mind\", \"complain\", \"cover\", \"main\", \"suggest\", \"additional\", \"water\", \"suffer\", \"answer\", \"one\", \"form\", \"case\", \"run\", \"never\", \"life\", \"understand\", \"buy\", \"sit\", \"bring\", \"pass\", \"small\", \"hold\", \"easy\", \"seem\", \"level\", \"child\", \"prefer\", \"simple\", \"carry\", \"handle\", \"human\", \"choice\", \"position\", \"effort\", \"wife\", \"career\", \"range\", \"unfortunately\", \"size\", \"fit\", \"baby\", \"old\", \"look\", \"close\", \"situation\", \"hire\", \"risk\", \"mask\", \"sometimes\", \"whole\", \"available\", \"believe\", \"meet\", \"literally\", \"wear\", \"sorry\", \"process\", \"building\", \"easily\", \"window\", \"information\", \"house\", \"personally\", \"floor\", \"contact\", \"apparently\", \"forget\", \"luckily\", \"rarely\", \"entry\", \"rude\", \"home\", \"go\", \"show\", \"walk\", \"remember\", \"offer\", \"office\", \"distance\", \"save\", \"air\", \"reach\", \"article\", \"green\", \"send\", \"middle\", \"realise\", \"specific\", \"thought\", \"everyday\", \"stick\", \"minister\", \"fly\", \"quarter\", \"extend\", \"ticket\", \"team\", \"cook\", \"decline\", \"meal\", \"truly\", \"call\", \"ride\", \"talk\", \"local\", \"want\", \"put\", \"comment\", \"example\", \"course\", \"free\", \"choose\", \"m\", \"gon\", \"online\", \"improve\", \"worth\", \"opportunity\", \"difference\", \"bully\", \"focus\", \"launch\", \"prove\", \"significantly\", \"behaviour\", \"activity\", \"expand\", \"win\", \"jump\", \"video\", \"criminal\", \"cost\", \"hour\", \"big\", \"hard\", \"hope\", \"agree\", \"trip\", \"period\", \"short\", \"affect\", \"currently\", \"alight\", \"power\", \"interest\", \"soon\", \"true\", \"die\", \"shift\", \"fuel\", \"contract\", \"elderly\", \"mother\", \"ns\", \"perfectly\", \"allegedly\", \"norm\", \"bill\", \"finding\", \"riding\", \"praise\", \"road\", \"leave\", \"wrong\", \"turn\", \"check\", \"expect\", \"cyclist\", \"accident\", \"woman\", \"clear\", \"sound\", \"sign\", \"miss\", \"indian\", \"bicycle\", \"racist\", \"blame\", \"properly\", \"motorcycle\", \"fault\", \"map\", \"alone\", \"downvote\", \"assault\", \"debate\", \"advice\", \"safely\", \"obvious\", \"airport\", \"thread\", \"happen\", \"system\", \"low\", \"passenger\", \"include\", \"seat\", \"find\", \"hear\", \"community\", \"economy\", \"city\", \"break\", \"transportation\", \"centre\", \"expensive\", \"touch\", \"eat\", \"crime\", \"rare\", \"let\", \"relatively\", \"lot\", \"dad\", \"relative\", \"abandon\", \"screw\", \"owning\", \"patient\", \"compartment\", \"facility\", \"drug\", \"business\", \"country\", \"place\", \"stand\", \"thank\", \"kind\", \"plan\", \"similar\", \"else\", \"ago\", \"anyway\", \"couple\", \"return\", \"foreigner\", \"respect\", \"week\", \"cash\", \"beat\", \"trash\", \"anywhere\", \"ntuc\", \"dollar\", \"wallet\", \"orchard\", \"insist\", \"carpark\", \"chase\", \"exceed\", \"naturally\", \"star\", \"guard\", \"nsf\", \"drive\", \"travel\", \"least\", \"kid\", \"land\", \"supply\", \"private\", \"fine\", \"language\", \"operate\", \"serve\", \"grow\", \"private_hire\", \"limit\", \"restriction\", \"smell\", \"quick\", \"direction\", \"guide\", \"driving\", \"jerk\", \"tighten\", \"dare\", \"favourite\", \"puke\", \"market\", \"commuter\", \"rise\", \"per_cent\", \"firm\", \"business\", \"country\", \"demand\", \"government\", \"add\", \"share\", \"require\", \"non\", \"likely\", \"decide\", \"net\", \"story\", \"edit\", \"step\", \"visit\", \"health\", \"quarantine\", \"correct\", \"brand\", \"emergency\", \"hotline\", \"backwards\", \"arrange\", \"drug\", \"per_cent\", \"link\", \"measure\", \"fterh_sneakpeek\", \"transit\", \"remain\", \"accent\", \"moh\", \"technology\", \"demand\", \"number\", \"contribute\", \"commuter\", \"country\", \"business\", \"increase\", \"new\", \"especially\", \"app\", \"feel\", \"hate\", \"mall\", \"wonder\", \"code\", \"book\", \"realize\", \"street\", \"modern\", \"sad\", \"heart\", \"brother\", \"discount\", \"ish\", \"hail\", \"midnight\", \"promo\", \"pity\", \"street_hail\", \"meme\", \"immigrant\", \"total\", \"cluster\", \"link\", \"decker\", \"electric_double\", \"interchange\", \"number\", \"per_cent\", \"business\", \"market\", \"country\", \"school\", \"student\", \"cheap\", \"option\", \"www\", \"notice\", \"exactly\", \"argue\", \"necessary\", \"otherwise\", \"lifestyle\", \"license\", \"grateful\", \"accessible\", \"google\", \"molest\", \"buying\", \"warning\", \"faq\", \"com\", \"electric_double\", \"university\", \"decker\", \"safenus\", \"sexual\", \"student_union\", \"body\", \"nus\", \"administration\", \"clarification\", \"link\", \"measure\", \"safety\", \"staff\", \"business\", \"demand\", \"country\", \"drug\", \"however\", \"area\", \"service\", \"provide\", \"stay\", \"like\", \"leader\", \"tour\", \"kick\", \"reaction\", \"smile\", \"funny\", \"wedding\", \"punch\", \"decent\", \"transit\", \"service_nr\", \"rider\", \"nite_owl\", \"link\", \"package\", \"yishun_integrate\", \"hub\", \"land_trandsport\", \"guru\", \"defunct\", \"commuter\", \"double_decker\", \"interchange\", \"single_decker\", \"seletar\", \"euro\", \"resident\", \"model\", \"door\", \"measure\", \"business\", \"number\", \"increase\", \"live\", \"covid\", \"world\", \"datum\", \"second\", \"location\", \"pandemic\", \"medical\", \"ease\", \"competition\", \"deem\", \"pore\", \"temperature\", \"kiosk\", \"patient\", \"mccy\", \"per_cent\", \"vaccination\", \"deploy\", \"fterh_sneakpeek\", \"detect\", \"technology\", \"ptc\", \"vaccine\", \"dose\", \"death\", \"remain\", \"ministry\", \"facility\", \"device\", \"tender\", \"cluster\", \"tech\", \"increase\", \"commuter\", \"com\", \"demand\", \"contribute\", \"number\", \"measure\", \"market\", \"country\", \"business\", \"link\", \"drug\", \"interchange\", \"open\", \"staff\", \"issue\", \"imagine\", \"claim\", \"remove\", \"bunch\", \"discover\", \"service_nr\", \"rider\", \"nite_owl\", \"pink\", \"mp\", \"labour\", \"dot\", \"sponsor\", \"opt\", \"mha\", \"visa\", \"counselling\", \"fiancee\", \"safenus\", \"righteous\", \"student_union\", \"minor\", \"grasp\", \"income_ceile\", \"statement\", \"xenophobia\", \"adult\", \"guidance\", \"violence\", \"foreign\", \"action\", \"university\", \"basic\", \"sexual\", \"conduct\", \"transit\", \"receive\", \"staff\", \"idea\", \"drug\", \"immigrant\", \"country\", \"measure\", \"safety\", \"com\", \"rate\", \"exist\", \"test\", \"demand\", \"however\", \"lorry\", \"business\", \"link\", \"number\", \"say\", \"great\", \"play\", \"memory\", \"rear\", \"mobile\", \"crazy\", \"generation\", \"sadly\", \"hero\", \"cb\", \"specialist\", \"tall\", \"superior\", \"occupation\", \"tech\", \"closure\", \"conclusion\", \"credence\", \"player\", \"discretion\", \"amusement\", \"jumping\", \"gadget\", \"riled\", \"altercation\", \"sensitivity\", \"condone\", \"nation\", \"spitting\", \"uncalled\", \"busstop\", \"picture\", \"however\", \"professional\", \"political\", \"relevant\", \"willing\", \"door\", \"link\", \"open\", \"study\", \"other\", \"lorry\", \"abuse\", \"com\", \"transit\", \"drug\", \"business\", \"country\", \"increase\", \"allow\", \"number\"], \"Freq\": [2244.0, 4240.0, 3555.0, 1468.0, 2468.0, 1456.0, 1707.0, 2182.0, 1389.0, 1307.0, 1220.0, 1906.0, 1928.0, 1208.0, 990.0, 1841.0, 904.0, 1791.0, 986.0, 1111.0, 1633.0, 1030.0, 1094.0, 1609.0, 1571.0, 663.0, 1106.0, 852.0, 1514.0, 740.0, 3553.9385062228025, 1926.8930827744718, 1840.4923453175359, 1789.6221925764355, 1538.9807857264207, 1538.9337185223817, 1390.6183122180835, 1151.4058262473748, 1074.847763509417, 891.7530166090809, 883.1542996083771, 873.182156168202, 866.7907825246398, 811.4004826913306, 706.3706272599861, 660.0399503620332, 640.0146183681001, 630.383678247118, 554.907347359912, 529.8219518308963, 501.1951222089315, 491.7483816933816, 491.3257263395331, 484.20772730105233, 464.35296305662644, 447.81667406757316, 429.353478160429, 419.79259628407567, 368.51030031683024, 362.1757938931336, 2181.3546207362638, 1904.8488242833587, 1455.3455781986625, 1250.3728033810366, 1234.1257884469119, 1174.8234405295987, 1125.401563509478, 1074.4041791962584, 959.7916476646271, 938.7566989060051, 855.1399397121727, 844.5505810348999, 788.7077296011526, 753.6356909175092, 698.7272707131128, 678.403407635768, 657.3985830523709, 656.6362992020419, 577.7336502101596, 524.6970337734194, 511.6175500065434, 499.9315355983592, 461.0941042998951, 456.2533885246013, 450.567191874269, 428.43636311456964, 397.4589820382548, 390.80118377068663, 384.6642557646539, 383.7173805358806, 4239.275791617822, 2466.9367925373153, 1631.5623884191684, 1608.3093541807825, 1570.159081823789, 1512.9112039410497, 1293.514895288423, 1205.1332706443661, 1200.5431909814192, 1056.9503003464636, 1051.703190177239, 862.7593016562045, 835.8902248242334, 769.7256087435112, 747.316301538951, 661.7703206962223, 452.48658838778164, 413.990324618678, 400.9400181299039, 365.7149320542645, 359.84275996224693, 358.8245149088668, 356.92847344554747, 338.6556269274269, 323.54952739672194, 311.00517702255945, 267.460190979454, 260.3369816537505, 256.6002804922147, 252.31947403977603, 1177.5743296818157, 1081.2208622340497, 973.8469540344463, 857.7084385846089, 718.8237410512861, 701.2875339357864, 652.5600920473727, 622.949704771646, 618.5941796836399, 609.97880119511, 600.6369058970706, 563.4803348096547, 561.3370983023717, 547.8679311740442, 542.3417390297003, 501.18384264410525, 500.76861639581784, 456.93743533736705, 444.25275220793293, 433.3649327570984, 395.89476672396125, 376.3508844789565, 348.32352989261483, 329.47283034341626, 315.8589836262324, 302.4340368418284, 261.4324412945036, 260.4367684024162, 249.49082283912887, 241.51252720308074, 1705.918568461757, 1105.2513164222087, 878.5156121076179, 857.1790330235524, 780.5714486207911, 780.410478382015, 774.0279128402724, 678.4297211564941, 658.4352944303564, 579.784100457872, 476.42881147050974, 454.6032107092699, 448.7201220905093, 435.04112722250795, 342.8892278368451, 333.0704487380979, 312.0927944775575, 303.2690883302083, 288.34406564952883, 282.5980537022557, 214.67040857651526, 211.47033586907176, 199.22588181918107, 145.50126817540655, 137.01211541294808, 129.52788264780045, 125.29263923876366, 97.46486576749152, 93.99010392192781, 63.041280286663174, 1207.3691417206646, 866.763834163091, 672.5522336258794, 633.5390982869656, 578.7791312049476, 556.5690025955836, 541.3571882565668, 522.8023754880809, 504.31247759891716, 483.76354762249264, 453.94696970773634, 373.4905867156434, 326.59067067708173, 295.9011832757818, 289.2461353044796, 262.9832345379225, 231.93721029398333, 227.73278151603515, 224.56251229341905, 223.0672072409698, 222.56427013853735, 210.69066929053577, 209.510203759912, 173.3057565801417, 148.34009269938713, 119.13973471568447, 99.9425380669627, 93.60908863769137, 75.83301281703723, 68.11985702700734, 1387.7217617016852, 1093.049595207836, 889.2914968731668, 842.0847998515035, 595.7298270725901, 561.082459134504, 401.4964336501092, 322.48089288192193, 321.3884640858521, 308.3278371665207, 306.0739763185688, 298.1610199025474, 265.9151171751632, 239.48868849700239, 234.95716781293652, 216.7984017467019, 173.51418766659341, 157.65006756148594, 155.67844568097829, 145.39766256605293, 144.32823869132545, 143.35754379118328, 138.30253743327015, 135.32875719341573, 126.48120714701255, 116.45351269149737, 94.01583125558632, 92.94449126309821, 90.8714359775323, 84.13260517429381, 1109.7881060408, 923.8607002091458, 746.6565494460018, 715.3815415391562, 628.2057010838121, 562.0212615824164, 559.8580671913353, 558.5490820327433, 557.6652868363366, 513.0950579022029, 453.64992716779494, 336.29118380497164, 309.83549692657436, 263.2121206227721, 209.45668074130276, 207.15157401482085, 191.89886994033077, 189.9550743903032, 187.80257015105352, 177.3204204102495, 162.6359924986318, 152.38594897552545, 136.91000535511267, 135.64979828803334, 126.50601452823237, 119.79136832900956, 112.0155137206284, 91.13766998720138, 79.08825623292113, 78.26174680216586, 1306.0380069635305, 950.2101362562079, 695.4034016106071, 636.2216074427353, 522.5793103249182, 521.8289966095002, 471.5790612786046, 441.4987908193246, 418.36934097267005, 413.4085006568839, 388.0856588736154, 368.47860623251984, 350.54019354021074, 279.44981484501255, 260.58249309960075, 246.13550850858968, 231.77480671335718, 196.42222058305228, 180.65628029997563, 174.06139929294483, 120.01943045601463, 117.54765498517186, 114.40508051230157, 61.34866752712879, 55.03288275391158, 39.32238690939872, 32.253778590211304, 21.280421274717202, 14.91389639292947, 8.241119628579506, 1218.6454017748058, 720.0138096544197, 706.663601338992, 614.6912284652759, 604.0494469800741, 501.28491855164896, 407.7638660584744, 385.978294735546, 339.98710633252057, 316.66025987548386, 309.20307664542725, 272.3091058992041, 260.6794360959261, 230.59280652637187, 209.4332686855853, 208.4646989848725, 173.6837635527043, 170.40282821688473, 167.72254236954595, 149.6797414633805, 136.89463716819623, 134.82285822863284, 123.94081497876063, 122.66792289942953, 117.94801642257258, 115.52948700947816, 93.37309078924031, 87.29518003708444, 79.64448570252118, 75.14309523781318, 1028.9677233352068, 875.2778321974066, 864.2170336592744, 737.5918513172239, 727.1911881146951, 558.9312434300111, 459.90723961190946, 405.11069971161896, 392.96604218522134, 345.0299463516302, 305.14492445015924, 299.58548915317374, 235.28401219500012, 225.72751280219896, 217.20109561222677, 213.75443701080434, 170.5371252411556, 154.7550991074744, 124.24747336807492, 118.8742332705055, 108.05383624426612, 100.68061325189746, 87.59952950753123, 60.12644071950096, 17.318625712437374, 17.19967774369163, 12.421493669477767, 0.08357447814565276, 0.08355525755630923, 0.08356476531631428, 0.08362407696034573, 0.0837806567177621, 0.08361991032434352, 1455.0893444381877, 684.6109181130297, 463.6194909097907, 447.94319572962365, 418.729372648532, 376.1037962666587, 367.0924828618798, 327.70236268935014, 296.65927432826476, 252.6068231018514, 223.99231331036057, 217.44823469472377, 209.7047412409223, 195.2707579516886, 168.17375702030841, 148.0547870288989, 106.94883204115725, 106.59403668189205, 102.58627587091841, 89.00015968751195, 77.43575432733633, 72.21128427654885, 61.274636530655414, 56.745485769872474, 51.502365512019445, 43.301666094474356, 35.992042197815636, 31.25322637674797, 24.643897654797975, 5.617788610900224, 985.2762214260354, 827.3207161205169, 691.2035793191255, 513.6118599369291, 489.0284178558974, 455.78606071758577, 449.32997943147546, 372.50225701527245, 275.3204703649926, 261.8255543979066, 258.0817837938328, 245.75263709018756, 240.83245931760035, 211.1924457725273, 150.06452656537027, 108.28106646652333, 101.89083520237942, 88.0627551792553, 82.2485919501851, 81.91524261858694, 58.487410524453395, 57.867200587198695, 47.92553018993897, 36.30916944505152, 22.555722663412276, 0.07099967383331965, 0.07099835452899804, 0.07097092053799021, 0.07098044968463321, 0.07097266201969475, 0.07114019105189474, 0.07100804199215963, 0.07100011862734809, 989.0789105600318, 850.9686949713162, 436.7600767668644, 382.53617374340865, 352.77439008711593, 352.11873474874557, 336.48688617735036, 305.0995822978907, 288.0004382716844, 274.05919691391404, 249.9761195392842, 159.9125373999866, 153.13949404606575, 147.03790050747233, 114.27046988607718, 106.75033886303714, 61.75707944446599, 16.08562160347114, 9.35247489470823, 5.542690507900067, 0.07490705174091633, 0.07486121387152431, 0.07488609657611293, 0.07487244961825164, 0.0748604867795071, 0.07487531448508863, 0.07484794599582582, 0.07483944461224011, 0.07483611366077669, 0.07484321679048318, 0.07488394637236975, 0.0748780674916153, 0.07485388702119714, 0.07486941696094913, 0.07488494068623944, 0.07500333861027102, 0.07487000733480925, 1466.5641876283012, 604.8502627292727, 441.87278853570837, 415.277811737263, 266.24509209796514, 249.95431029120437, 213.5905976436851, 200.89634915579256, 170.00202658812094, 130.43513680225627, 125.76905822757243, 100.70658317721866, 96.91639689791825, 68.40804780817938, 64.25861898952984, 58.860883184123864, 42.043340878366415, 37.066218119758055, 15.95194354485284, 10.40543777075193, 9.31868360064497, 5.141908612995036, 1.8153093520506882, 0.07219476741497516, 0.07219156790936487, 0.07218151154164605, 0.0722183194826787, 0.07217340649080708, 0.0721697545849146, 0.07220686230926679, 0.07221524534100206, 0.07218805226861764, 0.07230261855213095, 0.07219488187769715, 0.07219920965871003, 902.9013058747533, 605.1636396300961, 454.40146186024015, 416.03138757213407, 349.53424039437687, 331.90295435831956, 194.37701161889646, 166.14140903709256, 160.3060430743663, 129.51055195606088, 91.34199503624822, 79.08828571371288, 73.98521606308955, 40.50987789906226, 37.46510441530878, 35.742033962424685, 31.48074761414481, 12.428700230135103, 8.514706203578184, 0.06860395606254392, 0.06855315315891257, 0.06856245395405215, 0.06855493680754346, 0.0685503318380219, 0.06854657804666736, 0.06854488525413296, 0.06855192899256, 0.06854517216812184, 0.068546071165287, 0.0685449330731311, 0.06858747285388266, 0.068576651414602, 0.06856195185457162, 0.06856428063978137, 0.06866818654085494, 0.06857609193232368, 0.068576393192012, 0.06857137697910638, 0.0685591831345789, 0.06855990520145093, 2242.643858041843, 478.4731841752471, 455.5063898125022, 147.34274473276133, 78.57396855330411, 77.22097734983862, 65.18261175561902, 45.5174851504868, 39.78381849105275, 37.789723488651866, 32.13230710167799, 30.528419772583263, 20.353095130691056, 0.060306397571407995, 0.06024768656856491, 0.06021899406566735, 0.0601956573814651, 0.060230448606941524, 0.0601955709972926, 0.060172057225536715, 0.06017693793128325, 0.06016430424605438, 0.060163228763106695, 0.06015424048995754, 0.06018996898370564, 0.060158995938653946, 0.06018595643889278, 0.06015282378952846, 0.060151450281185626, 0.06014924316557812, 0.060154370066216295, 0.060159043449948824, 0.06016937499698043, 0.060165358132958945, 0.06022177995523064, 0.06016783735870984, 0.06016342744670346, 738.9087999250718, 618.9219100426683, 426.36820788346614, 380.590295056334, 370.71067340208083, 312.8885423496592, 274.448320251982, 112.92560496372629, 78.51903090507925, 64.47959631364515, 35.76879715180115, 27.31554222408191, 0.06562821017934499, 0.06561918210245138, 0.0656201380649522, 0.06561174454937381, 0.06563331139303476, 0.06561369355912766, 0.06561604226009952, 0.06563113575423977, 0.0656095647900508, 0.06561890190654597, 0.06560813496682757, 0.06561298070778006, 0.06560933404048164, 0.06560871596127851, 0.0656203317297692, 0.06560839456009289, 0.06561402320136932, 0.06560482206229884, 0.06560695649581362, 0.06561232966435276, 0.06561873708542514, 0.06564029156750202, 0.06563856918678931, 0.0656389606369513, 0.06564466344773211, 0.06562444813726198, 0.06564216640775149, 0.06563247492584653, 0.06563333199567487, 0.06564602734250699, 0.06571578788189941, 0.06563486483209861, 0.06564002785370869, 0.06562596449157364, 0.06562485606953604, 0.06562212415945824, 661.800794155318, 216.7837161168524, 185.60680820403007, 156.11886645505527, 108.23864102121497, 2.3054294269306403, 0.058630211017840085, 0.05862278964135298, 0.05861135376533191, 0.05860395753184814, 0.058608814321994135, 0.058607787649357576, 0.058604007817854825, 0.05860332895676453, 0.05860395334134758, 0.05860230228412797, 0.058603261908755616, 0.058601443231513714, 0.05860395753184814, 0.058604917156475776, 0.058601615042036564, 0.058603530100791286, 0.058602319046130204, 0.05860107027696411, 0.05860145580301539, 0.058606438308178105, 0.058602524380657516, 0.058605185348511446, 0.058601476755518175, 0.058603094288733316, 0.058609648231605055, 0.058607712220347545, 0.05861191529240659, 0.05860537811153709, 0.058603819245329744, 0.058606744214718794, 0.058623254786914845, 0.05860888556050361, 0.0586172330376139, 0.05860960632659948, 0.058629733300776546, 0.05860937165856826, 0.0586281451010653, 0.058618083709227047, 0.0586122882469562, 0.05861874580831511, 0.058610775476254984, 0.05860946384958053, 0.058609761375120105, 0.05861948752691377, 0.058611052049291776, 0.058612154150938366, 0.058644592815752995, 0.05861473549928171, 0.05861468102277446, 0.0586102726161881, 324.4509707027214, 194.80680625167844, 85.04055028363007, 75.10525869662717, 70.41717630299841, 66.09610919358752, 46.7680859569159, 28.837197177694094, 16.98409900126499, 15.768579974656435, 5.299322309918794, 0.04765431961691421, 0.047653236872718, 0.04765200392123445, 0.047661307385093804, 0.04765223862012091, 0.04765004496786211, 0.04764909991367929, 0.04765140622140359, 0.04764748831465892, 0.04764709089121118, 0.04764708776189269, 0.0476470846325742, 0.0476470846325742, 0.04764711279644058, 0.04764708776189269, 0.04764708776189269, 0.047652232361483936, 0.04764708776189269, 0.04764709714984815, 0.047647679203086574, 0.047651209074338965, 0.04766159215307605, 0.047650220209697336, 0.047650695866107234, 0.04764992292444115, 0.047652276171942745, 0.047663372735294675, 0.047666401915589275, 0.0476617392310449, 0.047654548057163695, 0.04765519269677185, 0.04765775560861201, 0.04765536793860707, 0.04765908556896863, 0.04765649449326209, 0.04765879454234942, 0.04767080799601779, 0.047654735816272865, 0.04765335578682047, 0.04765275808698961, 0.04765229181853518], \"Total\": [2244.0, 4240.0, 3555.0, 1468.0, 2468.0, 1456.0, 1707.0, 2182.0, 1389.0, 1307.0, 1220.0, 1906.0, 1928.0, 1208.0, 990.0, 1841.0, 904.0, 1791.0, 986.0, 1111.0, 1633.0, 1030.0, 1094.0, 1609.0, 1571.0, 663.0, 1106.0, 852.0, 1514.0, 740.0, 3555.389569000163, 1928.3441455518337, 1841.9434080948977, 1791.0732553537973, 1540.4318485037825, 1540.3847812997435, 1392.0693749954453, 1152.8568890247366, 1076.2988262867789, 893.2040793864427, 884.6053624229047, 874.6332189455638, 868.2418453020016, 812.8515454686924, 707.8216900373479, 661.491013139395, 641.4656811454619, 631.8347410453093, 556.3584101372738, 531.2730146082581, 502.6461849862932, 493.1994444707433, 492.7767891168948, 485.65879007841403, 465.80402583398813, 449.26773684493486, 430.8045409377907, 421.24365906143737, 369.96136309419194, 363.63251236247186, 2182.805300476247, 1906.2995040233427, 1456.7962579386465, 1251.8234831210207, 1235.576468186896, 1176.2741202695827, 1126.852243249462, 1075.8548589362424, 961.242327404611, 940.207378645989, 856.5906194521566, 846.0012607748838, 790.1584093411365, 755.0863706574931, 700.1779504530967, 679.8540873757519, 658.8492627923548, 658.0869789420258, 579.1843299501435, 526.1477135181852, 513.0682297465274, 501.3822153383431, 462.544784039879, 457.7040682645852, 452.0178716142529, 429.88704285455356, 398.9096617782387, 392.25186351067055, 386.1149355046378, 385.1680602758645, 4240.726014679917, 2468.387015599407, 1633.012611481261, 1609.7595772428751, 1571.6093048858816, 1514.3614270031424, 1294.9651183505157, 1206.5834937064587, 1201.9934140435118, 1058.4005234085562, 1053.1534132393317, 864.2095247182968, 837.3404478863258, 771.1758318056036, 748.7665246010434, 663.2205437583146, 453.93681144987397, 415.44054768077035, 402.3902411919962, 367.16515511635686, 361.29298302433926, 360.2747379709591, 358.3786965076398, 340.10584998951924, 324.9997504588143, 312.4554000846518, 268.91041404154635, 261.78720471584285, 258.05050360036995, 253.76969713798616, 1179.0305088581636, 1082.6770414103976, 975.3031332107939, 859.1646177609565, 720.2799202276337, 702.7437131232637, 654.0162712237203, 624.4058839479936, 620.0503588599876, 611.4349803714576, 602.0930850734183, 564.9365139860023, 562.7932774787193, 549.3241103503918, 543.7979182060479, 502.64002182045283, 502.2247955721654, 458.3936145137146, 445.7089313842805, 434.821111933446, 397.35094590030883, 377.8070636553041, 349.7797090689624, 330.92900951976384, 317.31516280257995, 303.890216018176, 262.88862047913, 261.89294757876377, 250.9470020154765, 242.96870637942837, 1707.3740696278996, 1106.7068175883512, 879.9711132737602, 858.6345341896947, 782.0269497869334, 781.8659795481573, 775.4834140064147, 679.8852223226364, 659.8907955964987, 581.2396016240143, 477.884312636652, 456.05871187541214, 450.17562325665153, 436.4966283886502, 344.3447290029874, 334.5259499042402, 313.5482956548294, 304.7245894963506, 289.7995668156711, 284.05355486839795, 216.12590975378717, 212.9258370434929, 200.6813829936022, 146.95676934154883, 138.46761659874312, 130.98338381394274, 126.74814040490597, 98.92036693363383, 95.44560508807012, 64.49678145280545, 1208.823813096919, 868.2185055393451, 674.0069050021334, 634.9937696632196, 580.2338026182011, 558.0236739718376, 542.8118596328209, 524.2570468643349, 505.76714897517115, 485.2182190030659, 455.40164108399034, 374.9452580918974, 328.0453420670652, 297.3558546520358, 290.7008066807336, 264.43790593034646, 233.3918816800264, 229.18745289228914, 226.01718366967305, 224.5218786172238, 224.01894151479135, 212.14534066678976, 210.964875136166, 174.7604279563957, 149.79476407564113, 120.59440609193848, 101.39720944321671, 95.06376010397582, 77.28768419329124, 69.574528414391, 1389.173187994612, 1094.5010215007628, 890.7429231660934, 843.5362261444301, 597.1812533655167, 562.5338854274306, 402.9478599430357, 323.93231917484843, 322.8398903787786, 309.7792634594472, 307.5254026114953, 299.612446208147, 267.3665434680897, 240.94011478992894, 236.40859410586307, 218.24982803962845, 174.96561395951997, 159.1014938544125, 157.12987197390484, 146.84908885897948, 145.77966499214313, 144.80897008410983, 139.75396374197666, 136.78018353731846, 127.93263343993911, 117.90493898442392, 95.46725754851288, 94.39591755602477, 92.32286227045886, 85.58403146722037, 1111.2459959397966, 925.3185901081422, 748.1144393449982, 716.8394314381526, 629.6635909828085, 563.4791514814128, 561.3159570903317, 560.0069719317397, 559.123176735333, 514.5529478011994, 455.1078170667914, 337.7490737039681, 311.29338682557085, 264.6700105217686, 210.91457064029925, 208.60946391381734, 193.35675983932725, 191.41296428929968, 189.2604600548319, 178.778310309246, 164.09388244996939, 153.84383887452194, 138.36789527208788, 137.10768818702982, 127.9639044365502, 121.24925826176471, 113.47340364286563, 92.59555989097976, 80.54614613191761, 79.71963675405073, 1307.4952158823862, 951.6673451750636, 696.8606105294629, 637.678816361591, 524.0365192437739, 523.2862055283559, 473.03627019746034, 442.9559997381803, 419.82654989152576, 414.86570957573963, 389.54286779679035, 369.93581515137555, 351.99740245906645, 280.90702378003823, 262.03970201845647, 247.5927174274454, 233.2320156322129, 197.879429501908, 182.11348921883135, 175.51860821180054, 121.47663937487035, 119.00486392304835, 115.86228949993794, 62.80587651441818, 56.49009168065843, 40.77959582825444, 33.710987509067024, 22.737630201464057, 16.371105311785193, 9.698328547435226, 1220.1002610441815, 721.4686689237952, 708.1184606083675, 616.1460877346515, 605.5043062494497, 502.7397778210245, 409.21872532784994, 387.43315400492156, 341.44196560189613, 318.1151191448594, 310.6579359148028, 273.76396516857966, 262.13429536962093, 232.04766583634066, 210.8881279549609, 209.91955829124763, 175.13862282207992, 171.85768748626035, 169.17740163892157, 151.13460073275613, 138.34949643757184, 136.27771749800846, 125.39567424813623, 124.12278218147816, 119.40287569194818, 116.98434627885376, 94.82795005861591, 88.75003931980177, 81.09934497751603, 76.59795450718879, 1030.4238072839964, 876.733916146196, 865.6731176080638, 739.0479352660133, 728.6472720634845, 560.3873273788005, 461.3633235606989, 406.5667836604084, 394.4221261340108, 346.4860303198281, 306.6010083989487, 301.0415731019632, 236.74009614378957, 227.18359675098841, 218.65717956101622, 215.2105209595938, 171.99320918994505, 156.2111831221658, 125.70355733303433, 120.33031721929495, 109.50992019305558, 102.13669720068691, 89.05561345632069, 61.58252466829041, 18.774709677396793, 18.655761703610725, 13.877578093361626, 1.5398786310054413, 1.5397189495183423, 1.5398949806946525, 1.5410186454450534, 1.5440441831197511, 1.5409883142271572, 1456.5477808635565, 686.0693545383982, 465.0779273351593, 449.4016321549922, 420.18780907390055, 377.5622326920273, 368.55091928724835, 329.1607991147187, 298.11771075363333, 254.06525952721998, 225.45074973572915, 218.9066711283712, 211.16317771561114, 196.7291943988464, 169.632193445677, 149.51322346539712, 108.40726856497052, 108.05247310726062, 104.04471229628699, 90.45859611288053, 78.8941907527049, 73.66972070191743, 62.733072956023996, 58.203922237911954, 52.96080196923424, 44.76010258805309, 37.450478630723104, 32.71166280211655, 26.102334098846534, 7.076225036268803, 986.7449053359657, 828.7894000304472, 692.6722632290558, 515.0805438468594, 490.49710176582767, 457.254744643686, 450.79866334140576, 373.97094092520274, 276.78915431899316, 263.2942383078369, 259.5504677037631, 247.22132100011785, 242.30114322753064, 212.66112968245758, 151.53321047530056, 109.7497503764536, 103.3595191123097, 89.53143908918558, 83.7172758758085, 83.38392652851722, 59.95609446743795, 59.33588449712898, 49.394214107760384, 37.77785341490383, 24.02440714620529, 1.5405114643397195, 1.5405933463668844, 1.5400111370483185, 1.5402182531349187, 1.5400768154880187, 1.5440441831197511, 1.5409883142271572, 1.5408032604714774, 990.543712814505, 852.4334972257894, 438.2248790213377, 384.00097599788194, 354.2391923415892, 353.58353700321885, 337.95168843182364, 306.56438455668325, 289.4652405261577, 275.5239991683873, 251.44092179375755, 161.37733965445994, 154.6042963005391, 148.50270276194567, 115.73527214055048, 108.21514111751044, 63.22188169893929, 17.55042392771713, 10.817277149181535, 7.007492762373373, 1.5410186454450534, 1.5402182531349187, 1.540734762703983, 1.540476209450287, 1.5402323091948735, 1.5405815381894985, 1.5400390713025929, 1.5398725537132272, 1.5398119451664813, 1.5399610191789797, 1.5408032604714774, 1.5407621411951555, 1.5402112079537382, 1.5405933463668844, 1.5409883142271572, 1.5440441831197511, 1.5406270823292276, 1468.0316599943828, 606.3177350953544, 443.34026090179003, 416.74528410334466, 267.7125644640468, 251.4217826572861, 215.05807000976682, 202.3638215442472, 171.46949895420266, 131.902609168338, 127.23653060154525, 102.17405554330035, 98.38386926399994, 69.87552018396096, 65.72609143761463, 60.328355627517126, 43.51081324444811, 38.53369055252491, 17.419416218827546, 11.872910173965517, 10.786155966726666, 6.609390193257014, 3.2827817181323837, 1.5399987909802106, 1.540000672880596, 1.53986339277498, 1.540734762703983, 1.5398129891350498, 1.5397353875416435, 1.5405663018086475, 1.5407621411951555, 1.5402182531349187, 1.5440441831197511, 1.5405114643397195, 1.5409883142271572, 904.3723955504862, 606.634729305829, 455.87255153597306, 417.502477247867, 351.0053300701098, 333.3740440340525, 195.84810131079936, 167.6124987401251, 161.77713275009924, 130.98164163179382, 92.81308471198113, 80.55937538944579, 75.45630576606227, 41.98096757479518, 38.9361940910417, 37.213123638157604, 32.95183728987773, 13.899789905868023, 9.98579746479947, 1.5406084559647653, 1.5397353875416435, 1.539981261575845, 1.5398129891350498, 1.5397389781025648, 1.5397319104783822, 1.539703274835836, 1.5398627646334764, 1.5397134796727872, 1.5397432804989213, 1.5397218529161418, 1.540734762703983, 1.540476209450287, 1.5401680392972215, 1.5403361651770506, 1.5440441831197511, 1.5408032604714774, 1.5409883142271572, 1.5410186454450534, 1.5402506438994112, 1.5404092248442038, 2244.1233452881297, 479.95267142153415, 456.98587705878924, 148.82223197904835, 80.05345589059432, 78.7004646331251, 66.662099001906, 46.99697243330808, 41.26330573733974, 39.26921073493886, 33.61179441511841, 32.00790702594104, 21.832582376978053, 1.5405815381894985, 1.539940682628463, 1.5399338891690078, 1.5397690885565358, 1.540734762703983, 1.5399499501334046, 1.5397145241159778, 1.539890775033716, 1.539697092024343, 1.5397045638622224, 1.5396714633090762, 1.5405933463668844, 1.539818995777243, 1.5405663018086475, 1.5397199671168613, 1.539706049809806, 1.5396909591987573, 1.5398235630793964, 1.5400482116502654, 1.5405224191245355, 1.540476209450287, 1.5440441831197511, 1.5407621411951555, 1.5406270823292276, 740.3828228806843, 620.3959329982808, 427.84223083907875, 382.0643180119466, 372.18469635769344, 314.3625653052718, 275.9223432075946, 114.39962791933888, 79.99305386069184, 65.95361927679663, 37.242820112420915, 28.789565179694517, 1.5398259380114807, 1.5397241869486287, 1.5398786310054413, 1.5396843208691857, 1.5402182531349187, 1.5397817180509659, 1.5398446175375922, 1.5402323091948735, 1.5397341771963842, 1.5399610191789797, 1.5397129381297079, 1.5398375598625464, 1.5397523636980612, 1.5397547788517416, 1.5400390713025929, 1.5397603571979879, 1.5398949806946525, 1.5396805752215124, 1.539730800041005, 1.53986339277498, 1.5400277503235933, 1.5406270823292276, 1.5405933463668844, 1.5406084559647653, 1.5408032604714774, 1.5402112079537382, 1.5407621411951555, 1.540476209450287, 1.5405114643397195, 1.5409883142271572, 1.5440441831197511, 1.540734762703983, 1.5410186454450534, 1.5405663018086475, 1.540487623345572, 1.5403361651770506, 663.2818167458665, 218.26473870740085, 187.08783079457854, 157.59988904992292, 109.71966367948343, 3.7864520174790823, 1.539940682628463, 1.5399338891690078, 1.5397690885565358, 1.5396657560157585, 1.5397975236414416, 1.539774895479708, 1.5396897350593792, 1.5396746902597152, 1.5396950586337277, 1.5396519254153542, 1.5396873132371869, 1.5396418439346478, 1.5397093576634788, 1.5397389781025648, 1.539652906851536, 1.539703274835836, 1.5396724205572432, 1.5396410912881655, 1.5396562836519159, 1.5397924211005782, 1.5396897052931513, 1.5397599942851923, 1.5396627561599163, 1.5397083631858066, 1.5398826223351005, 1.5398388036094681, 1.539981261575845, 1.5397785589979094, 1.5397319104783822, 1.5398567850438025, 1.5405815381894985, 1.539962761830832, 1.5403361651770506, 1.5400085836326447, 1.5410186454450534, 1.5399987909802106, 1.5409883142271572, 1.540476209450287, 1.5401680392972215, 1.5406084559647653, 1.5401310961379435, 1.540054289056518, 1.540086069509997, 1.5408032604714774, 1.5402506438994112, 1.5403669609599808, 1.5440441831197511, 1.540734762703983, 1.5407621411951555, 1.5402463718977146, 325.94294738093265, 196.29878292988968, 86.53252696184133, 76.59723537483843, 71.90915298120967, 67.58808587179878, 48.260062635127156, 30.32917386418418, 18.476075679476246, 17.26055665286769, 6.79129898813005, 1.5397109525985804, 1.5397180292975985, 1.5396911702378318, 1.5400277503235933, 1.5397527836448415, 1.5396937497182404, 1.5396638099329618, 1.5397650647620738, 1.539645752380308, 1.5396366058657172, 1.5396365369464815, 1.5396364771451765, 1.5396364771451765, 1.5396383888591172, 1.5396377945799764, 1.539638699357012, 1.5398052435307343, 1.5396395490583321, 1.5396515628739493, 1.5396736877451704, 1.5398095158813256, 1.5402506438994112, 1.5397820646194813, 1.5398051943722568, 1.539771808520748, 1.539907662784882, 1.5405224191245355, 1.540734762703983, 1.540487623345572, 1.5400707386205372, 1.540138369582947, 1.5403669609599808, 1.5402183446276094, 1.5406084559647653, 1.5405815381894985, 1.5410186454450534, 1.5440441831197511, 1.5409883142271572, 1.5406270823292276, 1.5403071673252506, 1.5407621411951555], \"Category\": [\"Default\", \"Default\", \"Default\", \"Default\", \"Default\", \"Default\", \"Default\", \"Default\", \"Default\", \"Default\", \"Default\", \"Default\", \"Default\", \"Default\", \"Default\", \"Default\", \"Default\", \"Default\", \"Default\", \"Default\", \"Default\", \"Default\", \"Default\", \"Default\", \"Default\", \"Default\", \"Default\", \"Default\", \"Default\", \"Default\", \"Topic1\", \"Topic1\", \"Topic1\", \"Topic1\", \"Topic1\", \"Topic1\", \"Topic1\", \"Topic1\", \"Topic1\", \"Topic1\", \"Topic1\", \"Topic1\", \"Topic1\", \"Topic1\", \"Topic1\", \"Topic1\", \"Topic1\", \"Topic1\", \"Topic1\", \"Topic1\", \"Topic1\", \"Topic1\", \"Topic1\", \"Topic1\", \"Topic1\", \"Topic1\", \"Topic1\", \"Topic1\", \"Topic1\", \"Topic1\", \"Topic2\", \"Topic2\", \"Topic2\", \"Topic2\", \"Topic2\", \"Topic2\", \"Topic2\", \"Topic2\", \"Topic2\", \"Topic2\", \"Topic2\", \"Topic2\", \"Topic2\", \"Topic2\", \"Topic2\", \"Topic2\", \"Topic2\", \"Topic2\", \"Topic2\", \"Topic2\", \"Topic2\", \"Topic2\", \"Topic2\", \"Topic2\", \"Topic2\", \"Topic2\", \"Topic2\", \"Topic2\", \"Topic2\", \"Topic2\", \"Topic3\", \"Topic3\", \"Topic3\", \"Topic3\", \"Topic3\", \"Topic3\", \"Topic3\", \"Topic3\", \"Topic3\", \"Topic3\", \"Topic3\", \"Topic3\", \"Topic3\", \"Topic3\", \"Topic3\", \"Topic3\", \"Topic3\", \"Topic3\", \"Topic3\", \"Topic3\", \"Topic3\", \"Topic3\", \"Topic3\", \"Topic3\", \"Topic3\", \"Topic3\", \"Topic3\", \"Topic3\", \"Topic3\", \"Topic3\", \"Topic4\", \"Topic4\", \"Topic4\", \"Topic4\", \"Topic4\", \"Topic4\", \"Topic4\", \"Topic4\", \"Topic4\", \"Topic4\", \"Topic4\", \"Topic4\", \"Topic4\", \"Topic4\", \"Topic4\", \"Topic4\", \"Topic4\", \"Topic4\", \"Topic4\", \"Topic4\", \"Topic4\", \"Topic4\", \"Topic4\", \"Topic4\", \"Topic4\", \"Topic4\", \"Topic4\", \"Topic4\", \"Topic4\", \"Topic4\", \"Topic5\", \"Topic5\", \"Topic5\", \"Topic5\", \"Topic5\", \"Topic5\", \"Topic5\", \"Topic5\", \"Topic5\", \"Topic5\", \"Topic5\", \"Topic5\", \"Topic5\", \"Topic5\", \"Topic5\", \"Topic5\", \"Topic5\", \"Topic5\", \"Topic5\", \"Topic5\", \"Topic5\", \"Topic5\", \"Topic5\", \"Topic5\", \"Topic5\", \"Topic5\", \"Topic5\", \"Topic5\", \"Topic5\", \"Topic5\", \"Topic6\", \"Topic6\", \"Topic6\", \"Topic6\", \"Topic6\", \"Topic6\", \"Topic6\", \"Topic6\", \"Topic6\", \"Topic6\", \"Topic6\", \"Topic6\", \"Topic6\", \"Topic6\", \"Topic6\", \"Topic6\", \"Topic6\", \"Topic6\", \"Topic6\", \"Topic6\", \"Topic6\", \"Topic6\", \"Topic6\", \"Topic6\", \"Topic6\", \"Topic6\", \"Topic6\", \"Topic6\", \"Topic6\", \"Topic6\", \"Topic7\", \"Topic7\", \"Topic7\", \"Topic7\", \"Topic7\", \"Topic7\", \"Topic7\", \"Topic7\", \"Topic7\", \"Topic7\", \"Topic7\", \"Topic7\", \"Topic7\", \"Topic7\", \"Topic7\", \"Topic7\", \"Topic7\", \"Topic7\", \"Topic7\", \"Topic7\", \"Topic7\", \"Topic7\", \"Topic7\", \"Topic7\", \"Topic7\", \"Topic7\", \"Topic7\", \"Topic7\", \"Topic7\", \"Topic7\", \"Topic8\", \"Topic8\", \"Topic8\", \"Topic8\", \"Topic8\", \"Topic8\", \"Topic8\", \"Topic8\", \"Topic8\", \"Topic8\", \"Topic8\", \"Topic8\", \"Topic8\", \"Topic8\", \"Topic8\", \"Topic8\", \"Topic8\", \"Topic8\", \"Topic8\", \"Topic8\", \"Topic8\", \"Topic8\", \"Topic8\", \"Topic8\", \"Topic8\", \"Topic8\", \"Topic8\", \"Topic8\", \"Topic8\", \"Topic8\", \"Topic9\", \"Topic9\", \"Topic9\", \"Topic9\", \"Topic9\", \"Topic9\", \"Topic9\", \"Topic9\", \"Topic9\", \"Topic9\", \"Topic9\", \"Topic9\", \"Topic9\", \"Topic9\", \"Topic9\", \"Topic9\", \"Topic9\", \"Topic9\", \"Topic9\", \"Topic9\", \"Topic9\", \"Topic9\", \"Topic9\", \"Topic9\", \"Topic9\", \"Topic9\", \"Topic9\", \"Topic9\", \"Topic9\", \"Topic9\", \"Topic10\", \"Topic10\", \"Topic10\", \"Topic10\", \"Topic10\", \"Topic10\", \"Topic10\", \"Topic10\", \"Topic10\", \"Topic10\", \"Topic10\", \"Topic10\", \"Topic10\", \"Topic10\", \"Topic10\", \"Topic10\", \"Topic10\", \"Topic10\", \"Topic10\", \"Topic10\", \"Topic10\", \"Topic10\", \"Topic10\", \"Topic10\", \"Topic10\", \"Topic10\", \"Topic10\", \"Topic10\", \"Topic10\", \"Topic10\", \"Topic11\", \"Topic11\", \"Topic11\", \"Topic11\", \"Topic11\", \"Topic11\", \"Topic11\", \"Topic11\", \"Topic11\", \"Topic11\", \"Topic11\", \"Topic11\", \"Topic11\", \"Topic11\", \"Topic11\", \"Topic11\", \"Topic11\", \"Topic11\", \"Topic11\", \"Topic11\", \"Topic11\", \"Topic11\", \"Topic11\", \"Topic11\", \"Topic11\", \"Topic11\", \"Topic11\", \"Topic11\", \"Topic11\", \"Topic11\", \"Topic11\", \"Topic11\", \"Topic11\", \"Topic12\", \"Topic12\", \"Topic12\", \"Topic12\", \"Topic12\", \"Topic12\", \"Topic12\", \"Topic12\", \"Topic12\", \"Topic12\", \"Topic12\", \"Topic12\", \"Topic12\", \"Topic12\", \"Topic12\", \"Topic12\", \"Topic12\", \"Topic12\", \"Topic12\", \"Topic12\", \"Topic12\", \"Topic12\", \"Topic12\", \"Topic12\", \"Topic12\", \"Topic12\", \"Topic12\", \"Topic12\", \"Topic12\", \"Topic12\", \"Topic13\", \"Topic13\", \"Topic13\", \"Topic13\", \"Topic13\", \"Topic13\", \"Topic13\", \"Topic13\", \"Topic13\", \"Topic13\", \"Topic13\", \"Topic13\", \"Topic13\", \"Topic13\", \"Topic13\", \"Topic13\", \"Topic13\", \"Topic13\", \"Topic13\", \"Topic13\", \"Topic13\", \"Topic13\", \"Topic13\", \"Topic13\", \"Topic13\", \"Topic13\", \"Topic13\", \"Topic13\", \"Topic13\", \"Topic13\", \"Topic13\", \"Topic13\", \"Topic13\", \"Topic14\", \"Topic14\", \"Topic14\", \"Topic14\", \"Topic14\", \"Topic14\", \"Topic14\", \"Topic14\", \"Topic14\", \"Topic14\", \"Topic14\", \"Topic14\", \"Topic14\", \"Topic14\", \"Topic14\", \"Topic14\", \"Topic14\", \"Topic14\", \"Topic14\", \"Topic14\", \"Topic14\", \"Topic14\", \"Topic14\", \"Topic14\", \"Topic14\", \"Topic14\", \"Topic14\", \"Topic14\", \"Topic14\", \"Topic14\", \"Topic14\", \"Topic14\", \"Topic14\", \"Topic14\", \"Topic14\", \"Topic14\", \"Topic14\", \"Topic15\", \"Topic15\", \"Topic15\", \"Topic15\", \"Topic15\", \"Topic15\", \"Topic15\", \"Topic15\", \"Topic15\", \"Topic15\", \"Topic15\", \"Topic15\", \"Topic15\", \"Topic15\", \"Topic15\", \"Topic15\", \"Topic15\", \"Topic15\", \"Topic15\", \"Topic15\", \"Topic15\", \"Topic15\", \"Topic15\", \"Topic15\", \"Topic15\", \"Topic15\", \"Topic15\", \"Topic15\", \"Topic15\", \"Topic15\", \"Topic15\", \"Topic15\", \"Topic15\", \"Topic15\", \"Topic15\", \"Topic16\", \"Topic16\", \"Topic16\", \"Topic16\", \"Topic16\", \"Topic16\", \"Topic16\", \"Topic16\", \"Topic16\", \"Topic16\", \"Topic16\", \"Topic16\", \"Topic16\", \"Topic16\", \"Topic16\", \"Topic16\", \"Topic16\", \"Topic16\", \"Topic16\", \"Topic16\", \"Topic16\", \"Topic16\", \"Topic16\", \"Topic16\", \"Topic16\", \"Topic16\", \"Topic16\", \"Topic16\", \"Topic16\", \"Topic16\", \"Topic16\", \"Topic16\", \"Topic16\", \"Topic16\", \"Topic16\", \"Topic16\", \"Topic16\", \"Topic16\", \"Topic16\", \"Topic16\", \"Topic17\", \"Topic17\", \"Topic17\", \"Topic17\", \"Topic17\", \"Topic17\", \"Topic17\", \"Topic17\", \"Topic17\", \"Topic17\", \"Topic17\", \"Topic17\", \"Topic17\", \"Topic17\", \"Topic17\", \"Topic17\", \"Topic17\", \"Topic17\", \"Topic17\", \"Topic17\", \"Topic17\", \"Topic17\", \"Topic17\", \"Topic17\", \"Topic17\", \"Topic17\", \"Topic17\", \"Topic17\", \"Topic17\", \"Topic17\", \"Topic17\", \"Topic17\", \"Topic17\", \"Topic17\", \"Topic17\", \"Topic17\", \"Topic17\", \"Topic18\", \"Topic18\", \"Topic18\", \"Topic18\", \"Topic18\", \"Topic18\", \"Topic18\", \"Topic18\", \"Topic18\", \"Topic18\", \"Topic18\", \"Topic18\", \"Topic18\", \"Topic18\", \"Topic18\", \"Topic18\", \"Topic18\", \"Topic18\", \"Topic18\", \"Topic18\", \"Topic18\", \"Topic18\", \"Topic18\", \"Topic18\", \"Topic18\", \"Topic18\", \"Topic18\", \"Topic18\", \"Topic18\", \"Topic18\", \"Topic18\", \"Topic18\", \"Topic18\", \"Topic18\", \"Topic18\", \"Topic18\", \"Topic18\", \"Topic18\", \"Topic18\", \"Topic18\", \"Topic18\", \"Topic18\", \"Topic18\", \"Topic18\", \"Topic18\", \"Topic18\", \"Topic18\", \"Topic18\", \"Topic19\", \"Topic19\", \"Topic19\", \"Topic19\", \"Topic19\", \"Topic19\", \"Topic19\", \"Topic19\", \"Topic19\", \"Topic19\", \"Topic19\", \"Topic19\", \"Topic19\", \"Topic19\", \"Topic19\", \"Topic19\", \"Topic19\", \"Topic19\", \"Topic19\", \"Topic19\", \"Topic19\", \"Topic19\", \"Topic19\", \"Topic19\", \"Topic19\", \"Topic19\", \"Topic19\", \"Topic19\", \"Topic19\", \"Topic19\", \"Topic19\", \"Topic19\", \"Topic19\", \"Topic19\", \"Topic19\", \"Topic19\", \"Topic19\", \"Topic19\", \"Topic19\", \"Topic19\", \"Topic19\", \"Topic19\", \"Topic19\", \"Topic19\", \"Topic19\", \"Topic19\", \"Topic19\", \"Topic19\", \"Topic19\", \"Topic19\", \"Topic19\", \"Topic19\", \"Topic19\", \"Topic19\", \"Topic19\", \"Topic19\", \"Topic20\", \"Topic20\", \"Topic20\", \"Topic20\", \"Topic20\", \"Topic20\", \"Topic20\", \"Topic20\", \"Topic20\", \"Topic20\", \"Topic20\", \"Topic20\", \"Topic20\", \"Topic20\", \"Topic20\", \"Topic20\", \"Topic20\", \"Topic20\", \"Topic20\", \"Topic20\", \"Topic20\", \"Topic20\", \"Topic20\", \"Topic20\", \"Topic20\", \"Topic20\", \"Topic20\", \"Topic20\", \"Topic20\", \"Topic20\", \"Topic20\", \"Topic20\", \"Topic20\", \"Topic20\", \"Topic20\", \"Topic20\", \"Topic20\", \"Topic20\", \"Topic20\", \"Topic20\", \"Topic20\", \"Topic20\", \"Topic20\", \"Topic20\", \"Topic20\", \"Topic20\", \"Topic20\", \"Topic20\", \"Topic20\", \"Topic20\", \"Topic20\", \"Topic20\"], \"logprob\": [30.0, 29.0, 28.0, 27.0, 26.0, 25.0, 24.0, 23.0, 22.0, 21.0, 20.0, 19.0, 18.0, 17.0, 16.0, 15.0, 14.0, 13.0, 12.0, 11.0, 10.0, 9.0, 8.0, 7.0, 6.0, 5.0, 4.0, 3.0, 2.0, 1.0, -2.3268, -2.939, -2.9848, -3.0129, -3.1637, -3.1638, -3.2651, -3.4539, -3.5227, -3.7094, -3.7191, -3.7305, -3.7378, -3.8039, -3.9425, -4.0103, -4.0411, -4.0563, -4.1838, -4.2301, -4.2856, -4.3047, -4.3055, -4.3201, -4.362, -4.3982, -4.4403, -4.4629, -4.5931, -4.6105, -2.767, -2.9025, -3.1717, -3.3235, -3.3365, -3.3858, -3.4288, -3.4751, -3.5879, -3.6101, -3.7034, -3.7159, -3.7843, -3.8297, -3.9054, -3.9349, -3.9664, -3.9675, -4.0955, -4.1918, -4.2171, -4.2402, -4.3211, -4.3316, -4.3441, -4.3945, -4.4696, -4.4865, -4.5023, -4.5047, -2.0427, -2.5841, -2.9976, -3.0119, -3.0359, -3.0731, -3.2297, -3.3005, -3.3043, -3.4317, -3.4367, -3.6347, -3.6664, -3.7488, -3.7784, -3.8999, -4.2801, -4.369, -4.4011, -4.493, -4.5092, -4.512, -4.5173, -4.5699, -4.6155, -4.6551, -4.8059, -4.8329, -4.8473, -4.8642, -2.8967, -2.982, -3.0866, -3.2136, -3.3903, -3.415, -3.487, -3.5334, -3.5404, -3.5545, -3.5699, -3.6338, -3.6376, -3.6618, -3.672, -3.7509, -3.7517, -3.8433, -3.8715, -3.8963, -3.9867, -4.0374, -4.1148, -4.1704, -4.2126, -4.256, -4.4017, -4.4055, -4.4485, -4.481, -2.2099, -2.6439, -2.8735, -2.8981, -2.9917, -2.9919, -3.0001, -3.132, -3.1619, -3.2891, -3.4854, -3.5323, -3.5453, -3.5763, -3.8143, -3.8434, -3.9084, -3.9371, -3.9876, -4.0077, -4.2826, -4.2977, -4.3573, -4.6716, -4.7317, -4.7878, -4.8211, -5.0722, -5.1085, -5.5079, -2.3496, -2.681, -2.9347, -2.9945, -3.0849, -3.124, -3.1517, -3.1866, -3.2226, -3.2642, -3.3278, -3.5229, -3.6571, -3.7558, -3.7785, -3.8737, -3.9993, -4.0176, -4.0316, -4.0383, -4.0406, -4.0954, -4.101, -4.2907, -4.4463, -4.6655, -4.8412, -4.9067, -5.1172, -5.2245, -2.1865, -2.4252, -2.6315, -2.6861, -3.0322, -3.0921, -3.4268, -3.6459, -3.6493, -3.6908, -3.6981, -3.7243, -3.8388, -3.9435, -3.9626, -4.043, -4.2657, -4.3616, -4.3742, -4.4425, -4.4499, -4.4566, -4.4925, -4.5143, -4.5819, -4.6645, -4.8785, -4.89, -4.9125, -4.9896, -2.4003, -2.5837, -2.7966, -2.8394, -2.9694, -3.0807, -3.0845, -3.0869, -3.0885, -3.1718, -3.2949, -3.5943, -3.6762, -3.8393, -4.0677, -4.0788, -4.1553, -4.1654, -4.1768, -4.2343, -4.3207, -4.3858, -4.4929, -4.5022, -4.5719, -4.6265, -4.6936, -4.8999, -5.0417, -5.0522, -2.1319, -2.45, -2.7621, -2.8511, -3.0479, -3.0493, -3.1506, -3.2165, -3.2703, -3.2822, -3.3454, -3.3973, -3.4472, -3.6738, -3.7437, -3.8008, -3.8609, -4.0264, -4.11, -4.1472, -4.519, -4.5398, -4.5669, -5.1901, -5.2987, -5.6348, -5.833, -6.2489, -6.6043, -7.1975, -2.1605, -2.6867, -2.7055, -2.8449, -2.8624, -3.0488, -3.2553, -3.3102, -3.4371, -3.5082, -3.532, -3.6591, -3.7027, -3.8254, -3.9216, -3.9262, -4.1088, -4.1278, -4.1437, -4.2575, -4.3468, -4.362, -4.4462, -4.4565, -4.4958, -4.5165, -4.7294, -4.7967, -4.8884, -4.9466, -2.2986, -2.4604, -2.4731, -2.6315, -2.6457, -2.9089, -3.1039, -3.2308, -3.2612, -3.3913, -3.5141, -3.5325, -3.7741, -3.8156, -3.8541, -3.8701, -4.096, -4.1931, -4.4127, -4.4569, -4.5523, -4.623, -4.7622, -5.1385, -6.3831, -6.39, -6.7155, -11.7169, -11.7172, -11.7171, -11.7164, -11.7145, -11.7164, -1.7607, -2.5147, -2.9045, -2.9389, -3.0063, -3.1137, -3.1379, -3.2515, -3.351, -3.5117, -3.6319, -3.6616, -3.6979, -3.7692, -3.9186, -4.046, -4.3712, -4.3745, -4.4129, -4.5549, -4.6941, -4.764, -4.9282, -5.005, -5.1019, -5.2754, -5.4603, -5.6014, -5.839, -7.3176, -2.1298, -2.3045, -2.4843, -2.7812, -2.8303, -2.9007, -2.9149, -3.1025, -3.4048, -3.455, -3.4694, -3.5184, -3.5386, -3.6699, -4.0116, -4.338, -4.3988, -4.5446, -4.6129, -4.617, -4.9539, -4.9645, -5.153, -5.4306, -5.9067, -11.6678, -11.6678, -11.6682, -11.668, -11.6682, -11.6658, -11.6677, -11.6678, -1.9327, -2.0831, -2.7501, -2.8827, -2.9637, -2.9655, -3.0109, -3.1089, -3.1665, -3.2162, -3.3081, -3.7549, -3.7982, -3.8388, -4.0909, -4.159, -4.7063, -6.0516, -6.5939, -7.117, -11.421, -11.4216, -11.4213, -11.4215, -11.4216, -11.4214, -11.4218, -11.4219, -11.422, -11.4219, -11.4213, -11.4214, -11.4217, -11.4215, -11.4213, -11.4197, -11.4215, -1.4077, -2.2934, -2.6073, -2.6694, -3.1139, -3.1771, -3.3343, -3.3956, -3.5625, -3.8275, -3.8639, -4.0861, -4.1245, -4.4729, -4.5354, -4.6232, -4.9596, -5.0856, -5.9288, -6.356, -6.4663, -7.0609, -8.1021, -11.3267, -11.3268, -11.3269, -11.3264, -11.327, -11.3271, -11.3266, -11.3265, -11.3268, -11.3252, -11.3267, -11.3267, -1.7618, -2.162, -2.4485, -2.5367, -2.7109, -2.7626, -3.2977, -3.4546, -3.4904, -3.7037, -4.0528, -4.1969, -4.2636, -4.8659, -4.944, -4.9911, -5.1181, -6.0475, -6.4257, -11.2469, -11.2476, -11.2475, -11.2476, -11.2476, -11.2477, -11.2477, -11.2476, -11.2477, -11.2477, -11.2477, -11.2471, -11.2473, -11.2475, -11.2474, -11.2459, -11.2473, -11.2473, -11.2473, -11.2475, -11.2475, -0.7503, -2.2951, -2.3443, -3.4729, -4.1017, -4.119, -4.2885, -4.6476, -4.7822, -4.8337, -4.9958, -5.047, -5.4525, -11.274, -11.275, -11.2755, -11.2758, -11.2753, -11.2759, -11.2762, -11.2762, -11.2764, -11.2764, -11.2765, -11.2759, -11.2765, -11.276, -11.2766, -11.2766, -11.2766, -11.2765, -11.2765, -11.2763, -11.2764, -11.2754, -11.2763, -11.2764, -1.8134, -1.9906, -2.3633, -2.4769, -2.5032, -2.6728, -2.8038, -3.6919, -4.0553, -4.2523, -4.8415, -5.1111, -11.1424, -11.1425, -11.1425, -11.1426, -11.1423, -11.1426, -11.1425, -11.1423, -11.1426, -11.1425, -11.1427, -11.1426, -11.1426, -11.1426, -11.1425, -11.1427, -11.1426, -11.1427, -11.1427, -11.1426, -11.1425, -11.1422, -11.1422, -11.1422, -11.1421, -11.1424, -11.1421, -11.1423, -11.1423, -11.1421, -11.141, -11.1423, -11.1422, -11.1424, -11.1424, -11.1424, -1.2473, -2.3634, -2.5187, -2.6917, -3.058, -6.907, -10.5788, -10.5789, -10.5791, -10.5792, -10.5792, -10.5792, -10.5792, -10.5793, -10.5792, -10.5793, -10.5793, -10.5793, -10.5792, -10.5792, -10.5793, -10.5793, -10.5793, -10.5793, -10.5793, -10.5792, -10.5793, -10.5792, -10.5793, -10.5793, -10.5792, -10.5792, -10.5791, -10.5792, -10.5792, -10.5792, -10.5789, -10.5792, -10.579, -10.5792, -10.5788, -10.5792, -10.5788, -10.579, -10.5791, -10.579, -10.5791, -10.5792, -10.5791, -10.579, -10.5791, -10.5791, -10.5786, -10.5791, -10.5791, -10.5791, -1.6682, -2.1783, -3.0072, -3.1314, -3.1959, -3.2592, -3.6051, -4.0886, -4.618, -4.6923, -5.7827, -10.4941, -10.4941, -10.4941, -10.4939, -10.4941, -10.4942, -10.4942, -10.4941, -10.4942, -10.4942, -10.4942, -10.4942, -10.4942, -10.4942, -10.4942, -10.4942, -10.4941, -10.4942, -10.4942, -10.4942, -10.4941, -10.4939, -10.4942, -10.4941, -10.4942, -10.4941, -10.4939, -10.4938, -10.4939, -10.4941, -10.4941, -10.494, -10.494, -10.494, -10.494, -10.494, -10.4937, -10.4941, -10.4941, -10.4941, -10.4941], \"loglift\": [30.0, 29.0, 28.0, 27.0, 26.0, 25.0, 24.0, 23.0, 22.0, 21.0, 20.0, 19.0, 18.0, 17.0, 16.0, 15.0, 14.0, 13.0, 12.0, 11.0, 10.0, 9.0, 8.0, 7.0, 6.0, 5.0, 4.0, 3.0, 2.0, 1.0, 1.9573, 1.957, 1.957, 1.9569, 1.9568, 1.9568, 1.9567, 1.9565, 1.9564, 1.9561, 1.9561, 1.9561, 1.9561, 1.956, 1.9557, 1.9555, 1.9555, 1.9554, 1.9551, 1.955, 1.9548, 1.9548, 1.9548, 1.9547, 1.9546, 1.9545, 1.9544, 1.9543, 1.9538, 1.9537, 2.005, 2.0049, 2.0047, 2.0045, 2.0045, 2.0045, 2.0044, 2.0044, 2.0042, 2.0042, 2.004, 2.004, 2.0039, 2.0038, 2.0036, 2.0036, 2.0035, 2.0035, 2.0032, 2.0029, 2.0029, 2.0028, 2.0026, 2.0025, 2.0025, 2.0023, 2.0021, 2.002, 2.0019, 2.0019, 2.0651, 2.0649, 2.0646, 2.0646, 2.0646, 2.0645, 2.0644, 2.0643, 2.0643, 2.0641, 2.0641, 2.0638, 2.0638, 2.0636, 2.0636, 2.0633, 2.0623, 2.062, 2.0619, 2.0615, 2.0615, 2.0615, 2.0614, 2.0612, 2.061, 2.0608, 2.0601, 2.0599, 2.0599, 2.0598, 2.4912, 2.4911, 2.491, 2.4908, 2.4905, 2.4904, 2.4902, 2.4901, 2.4901, 2.4901, 2.4901, 2.4899, 2.4899, 2.4898, 2.4898, 2.4896, 2.4896, 2.4893, 2.4892, 2.4891, 2.4888, 2.4886, 2.4883, 2.4881, 2.4879, 2.4877, 2.4869, 2.4869, 2.4867, 2.4865, 2.8078, 2.8073, 2.807, 2.8069, 2.8068, 2.8068, 2.8067, 2.8065, 2.8064, 2.8061, 2.8056, 2.8054, 2.8054, 2.8053, 2.8044, 2.8043, 2.804, 2.8038, 2.8036, 2.8035, 2.8019, 2.8018, 2.8013, 2.7987, 2.7981, 2.7974, 2.7971, 2.7938, 2.7933, 2.7858, 3.0134, 3.0129, 3.0124, 3.0123, 3.0121, 3.012, 3.0119, 3.0118, 3.0117, 3.0116, 3.0114, 3.0107, 3.0101, 3.0097, 3.0096, 3.0091, 3.0083, 3.0082, 3.0081, 3.0081, 3.0081, 3.0077, 3.0077, 3.0062, 3.0048, 3.0024, 3.0001, 2.9992, 2.9956, 2.9934, 3.0373, 3.0371, 3.0368, 3.0367, 3.036, 3.0358, 3.0348, 3.0339, 3.0339, 3.0337, 3.0337, 3.0335, 3.0329, 3.0324, 3.0322, 3.0317, 3.0301, 3.0292, 3.0291, 3.0285, 3.0284, 3.0283, 3.028, 3.0277, 3.027, 3.026, 3.0231, 3.0229, 3.0225, 3.0213, 3.0468, 3.0465, 3.0462, 3.0461, 3.0458, 3.0455, 3.0455, 3.0455, 3.0455, 3.0453, 3.0449, 3.0438, 3.0434, 3.0426, 3.0412, 3.0411, 3.0406, 3.0405, 3.0404, 3.0399, 3.0392, 3.0386, 3.0375, 3.0374, 3.0367, 3.036, 3.0352, 3.0323, 3.0299, 3.0297, 3.1526, 3.1522, 3.1516, 3.1514, 3.1509, 3.1509, 3.1506, 3.1504, 3.1502, 3.1502, 3.15, 3.1498, 3.1496, 3.1485, 3.1481, 3.1478, 3.1475, 3.1463, 3.1457, 3.1454, 3.1417, 3.1414, 3.1411, 3.1302, 3.1276, 3.1173, 3.1095, 3.0875, 3.0605, 2.9909, 3.1932, 3.1923, 3.1923, 3.192, 3.1919, 3.1915, 3.1908, 3.1906, 3.1901, 3.1898, 3.1897, 3.189, 3.1888, 3.1881, 3.1874, 3.1874, 3.186, 3.1858, 3.1857, 3.1847, 3.1838, 3.1836, 3.1827, 3.1826, 3.1821, 3.1818, 3.1789, 3.1778, 3.1762, 3.1752, 3.224, 3.2238, 3.2237, 3.2235, 3.2234, 3.2228, 3.2223, 3.2218, 3.2217, 3.2212, 3.2207, 3.2206, 3.2193, 3.219, 3.2187, 3.2186, 3.2169, 3.2161, 3.2138, 3.2133, 3.212, 3.2111, 3.2089, 3.2015, 3.1447, 3.1442, 3.1146, 0.3117, 0.3116, 0.3116, 0.3116, 0.3115, 0.3115, 3.4158, 3.4147, 3.4137, 3.4135, 3.4133, 3.4129, 3.4128, 3.4124, 3.4119, 3.411, 3.4103, 3.4101, 3.4099, 3.4094, 3.4082, 3.407, 3.4033, 3.4032, 3.4027, 3.4005, 3.3981, 3.3968, 3.3933, 3.3914, 3.3889, 3.3837, 3.3771, 3.3712, 3.3593, 3.186, 3.4362, 3.4359, 3.4355, 3.4348, 3.4347, 3.4344, 3.4344, 3.4337, 3.4323, 3.4321, 3.432, 3.4317, 3.4316, 3.4307, 3.4279, 3.4242, 3.4234, 3.4211, 3.42, 3.4199, 3.4129, 3.4126, 3.4075, 3.398, 3.3746, 0.3605, 0.3604, 0.3604, 0.3604, 0.3604, 0.3602, 0.3603, 0.3603, 3.6294, 3.6291, 3.6275, 3.627, 3.6267, 3.6267, 3.6265, 3.6261, 3.6258, 3.6255, 3.625, 3.6217, 3.6213, 3.6209, 3.6181, 3.6172, 3.6074, 3.5437, 3.4854, 3.3964, 0.6069, 0.6068, 0.6068, 0.6068, 0.6068, 0.6068, 0.6068, 0.6067, 0.6067, 0.6067, 0.6067, 0.6067, 0.6067, 0.6067, 0.6066, 0.6062, 0.6067, 3.761, 3.7596, 3.7587, 3.7585, 3.7565, 3.7562, 3.7552, 3.7547, 3.7534, 3.7508, 3.7504, 3.7475, 3.747, 3.7408, 3.7394, 3.7374, 3.7277, 3.7232, 3.674, 3.6301, 3.6158, 3.5109, 3.1696, 0.7018, 0.7018, 0.7017, 0.7017, 0.7017, 0.7017, 0.7016, 0.7016, 0.7016, 0.7007, 0.7015, 0.7013, 3.8913, 3.8905, 3.8897, 3.8894, 3.8887, 3.8885, 3.8854, 3.8841, 3.8838, 3.8816, 3.8769, 3.8745, 3.8732, 3.8572, 3.8544, 3.8526, 3.8472, 3.781, 3.7335, 0.7813, 0.7811, 0.7811, 0.7811, 0.7811, 0.781, 0.781, 0.781, 0.781, 0.781, 0.781, 0.781, 0.781, 0.781, 0.7809, 0.78, 0.7808, 0.7807, 0.7806, 0.7809, 0.7808, 3.994, 3.9916, 3.9914, 3.9847, 3.976, 3.9757, 3.9722, 3.9627, 3.9582, 3.9563, 3.9496, 3.9473, 3.9245, 0.7542, 0.7536, 0.7532, 0.7529, 0.7528, 0.7528, 0.7525, 0.7525, 0.7524, 0.7524, 0.7523, 0.7522, 0.7522, 0.7522, 0.7522, 0.7522, 0.7522, 0.7522, 0.7521, 0.752, 0.7519, 0.7505, 0.7518, 0.7518, 4.0398, 4.0394, 4.0383, 4.0379, 4.0378, 4.0371, 4.0364, 4.0288, 4.0232, 4.0192, 4.0014, 3.9892, 0.8863, 0.8863, 0.8862, 0.8862, 0.8862, 0.8861, 0.8861, 0.8861, 0.8861, 0.8861, 0.8861, 0.8861, 0.8861, 0.8861, 0.8861, 0.8861, 0.8861, 0.8861, 0.8861, 0.8861, 0.8861, 0.886, 0.886, 0.886, 0.886, 0.886, 0.8859, 0.886, 0.886, 0.8859, 0.8849, 0.8858, 0.8857, 0.8858, 0.8859, 0.8859, 4.7158, 4.7113, 4.7101, 4.7086, 4.7045, 4.2219, 1.4498, 1.4497, 1.4496, 1.4495, 1.4495, 1.4495, 1.4495, 1.4495, 1.4495, 1.4495, 1.4495, 1.4495, 1.4495, 1.4495, 1.4495, 1.4495, 1.4495, 1.4495, 1.4495, 1.4495, 1.4495, 1.4495, 1.4495, 1.4495, 1.4495, 1.4495, 1.4495, 1.4495, 1.4495, 1.4495, 1.4493, 1.4494, 1.4493, 1.4494, 1.4491, 1.4494, 1.4491, 1.4493, 1.4494, 1.4492, 1.4494, 1.4494, 1.4494, 1.4491, 1.4493, 1.4492, 1.4474, 1.449, 1.449, 1.4493, 5.0055, 5.0024, 4.9927, 4.9904, 4.9891, 4.9877, 4.9787, 4.9596, 4.9259, 4.9197, 4.762, 1.5347, 1.5347, 1.5347, 1.5346, 1.5346, 1.5346, 1.5346, 1.5346, 1.5346, 1.5346, 1.5346, 1.5346, 1.5346, 1.5346, 1.5346, 1.5346, 1.5346, 1.5346, 1.5346, 1.5346, 1.5346, 1.5345, 1.5346, 1.5346, 1.5346, 1.5345, 1.5344, 1.5343, 1.5343, 1.5345, 1.5344, 1.5343, 1.5344, 1.5342, 1.5342, 1.5339, 1.5322, 1.5339, 1.5341, 1.5343, 1.534]}, \"token.table\": {\"Topic\": [11, 1, 16, 10, 8, 14, 4, 10, 9, 12, 9, 7, 10, 9, 9, 10, 4, 12, 12, 15, 6, 16, 14, 7, 3, 10, 6, 4, 4, 5, 14, 2, 4, 12, 1, 8, 6, 10, 9, 9, 10, 4, 15, 14, 11, 5, 15, 3, 6, 8, 19, 5, 16, 8, 1, 2, 5, 12, 5, 5, 12, 2, 20, 11, 1, 4, 2, 12, 16, 10, 5, 5, 8, 11, 19, 10, 6, 15, 3, 8, 11, 3, 18, 4, 6, 4, 9, 7, 14, 9, 12, 8, 4, 18, 20, 11, 8, 9, 10, 11, 13, 18, 1, 10, 17, 14, 7, 18, 9, 8, 3, 13, 15, 19, 7, 3, 12, 10, 13, 13, 2, 3, 18, 6, 5, 11, 11, 14, 5, 9, 12, 14, 4, 2, 6, 15, 7, 16, 8, 12, 4, 8, 10, 11, 1, 7, 4, 2, 16, 1, 10, 13, 15, 11, 9, 13, 3, 5, 6, 7, 8, 4, 1, 12, 6, 4, 8, 3, 9, 17, 20, 1, 2, 7, 8, 2, 16, 14, 16, 20, 7, 13, 12, 13, 15, 5, 11, 9, 15, 3, 14, 11, 15, 3, 20, 1, 6, 3, 5, 7, 9, 14, 9, 6, 5, 19, 8, 11, 1, 10, 4, 6, 12, 1, 9, 15, 19, 13, 1, 8, 17, 13, 12, 2, 13, 13, 1, 2, 8, 2, 17, 13, 10, 11, 5, 16, 5, 16, 17, 14, 13, 6, 18, 8, 18, 1, 6, 1, 11, 2, 11, 6, 8, 4, 2, 15, 10, 6, 3, 7, 2, 18, 6, 15, 20, 7, 15, 4, 7, 4, 10, 20, 15, 16, 2, 1, 9, 10, 3, 12, 16, 2, 14, 5, 15, 3, 14, 9, 16, 9, 12, 12, 10, 7, 7, 6, 4, 8, 13, 2, 8, 16, 12, 16, 11, 18, 3, 5, 11, 1, 9, 9, 3, 6, 1, 15, 12, 12, 20, 1, 18, 5, 9, 9, 5, 1, 1, 13, 13, 3, 3, 6, 15, 10, 8, 17, 13, 17, 8, 14, 7, 13, 10, 5, 11, 6, 4, 7, 17, 7, 15, 20, 2, 1, 11, 11, 3, 7, 19, 3, 2, 14, 12, 3, 13, 12, 8, 9, 2, 6, 10, 4, 6, 3, 5, 15, 20, 10, 1, 7, 16, 11, 11, 18, 3, 5, 7, 13, 17, 14, 9, 3, 9, 7, 3, 10, 8, 12, 5, 1, 5, 6, 5, 5, 13, 17, 2, 6, 9, 6, 10, 20, 7, 3, 12, 12, 4, 2, 17, 14, 7, 14, 15, 15, 16, 4, 4, 3, 13, 2, 11, 1, 8, 7, 4, 2, 12, 4, 2, 7, 10, 7, 13, 3, 1, 4, 11, 17, 11, 12, 13, 9, 9, 7, 1, 10, 5, 5, 2, 4, 2, 2, 8, 14, 1, 7, 12, 8, 16, 4, 6, 17, 12, 3, 6, 5, 8, 6, 10, 15, 1, 2, 18, 8, 10, 16], \"Freq\": [0.9054733890488119, 0.9985697011625031, 0.9766330403641259, 0.9963008999356225, 0.9924673724141628, 0.9983183471432614, 0.9958553420802075, 0.9915856581656883, 0.9955028590392597, 0.9964734588145348, 0.9975420610847991, 0.9942563506686105, 0.9864444653921581, 0.99476715940417, 0.9736220700599674, 0.9906241642326661, 0.9927720559248948, 0.9962507737269021, 0.9902596111223122, 0.9969769023479532, 0.9880185126181391, 0.99037960323815, 0.8562263570526836, 0.9946182268842504, 0.999254714789735, 0.990954261886939, 0.9974893378785965, 0.9967371841690739, 0.9982230238665695, 0.9767929279711315, 0.832002349193851, 0.998356267859821, 0.9968136124746316, 0.9898789991258042, 0.9977459812608508, 0.991921035197393, 0.9969221870157209, 0.9910467792887604, 0.9973300104764865, 0.9492454052671453, 0.9934987337245615, 0.9969597863722578, 0.9914299688098165, 0.9887710619330901, 0.9965401021153633, 0.9972271461994775, 0.9737381091761255, 0.9961529618778263, 0.9940362892230561, 0.9933400771906254, 0.9843267503580126, 0.9976134278802671, 0.9407669662632954, 0.9988787397710776, 0.9963943327767548, 0.9962769213062792, 0.9894010120575988, 0.9793154448768787, 0.9943404977615985, 0.9991952146560367, 0.9903780443291875, 0.9983482746554668, 0.9269689455433489, 0.9947901311189922, 0.9955105434553537, 0.9984510233927073, 0.9983176413191326, 0.9818582435781017, 0.9958923792852544, 0.9975156142839554, 0.996094817519406, 0.9947904915469422, 0.9975658140219796, 0.9947782024354419, 0.9941854540193319, 0.9964946050101076, 0.9985060909693051, 0.9932605466044285, 0.9989048003597273, 0.9976555858180958, 0.9963944057906944, 0.9994380882776318, 0.9703788920423365, 0.9966001190779906, 0.9899266213926019, 0.9983060103990283, 0.9913478791378746, 0.9846307772299077, 0.9850065402840792, 0.9988564272631949, 0.9958071421130056, 0.9979911819397451, 0.9952169669941566, 0.9977499320610719, 0.976503464311579, 0.9922465018319553, 0.9784289439331477, 0.9960392862394923, 0.9970218241433758, 0.9881465814972076, 0.9717737363991922, 0.9972142962277013, 0.9974263432966404, 0.9882509053168241, 0.9160620422570595, 0.9942249484212375, 0.9852120982329953, 0.9666292695163968, 0.9947176393049071, 0.9926182414313163, 0.998600426535809, 0.9828949572936043, 0.9779812392746333, 0.5281989553195358, 0.9940348058515105, 0.999100989381487, 0.9838755389143958, 0.9888698373647687, 0.9982316550847845, 0.9834029580264019, 0.9985612630558446, 0.9928957231040848, 0.9875857488523785, 0.9948188573270317, 0.9976785623257618, 0.9942252999718834, 0.9957111392962757, 0.9944687244196977, 0.991621629428098, 0.9878442523396328, 0.9957918452889828, 0.9806731203484601, 0.9991259693023876, 0.9982759208448653, 0.983339076507056, 0.9978266591605685, 0.9928093114332043, 0.9905635985315654, 0.998201858222825, 0.960676976005795, 0.9966937751215026, 0.9896967760489909, 0.9965394068705582, 0.9924211061153206, 0.9977221603637048, 0.9869850771414357, 0.9984461071254103, 0.9979179577206424, 0.9012800461581096, 0.9975583902165895, 0.9924927797654861, 0.9529392685344465, 0.9958121083311122, 0.9970450109684118, 0.9235790983463099, 0.9974036995420001, 0.9989760146616093, 0.984854147168576, 0.9954263706906507, 0.9875078865414268, 0.9900529862589599, 0.997561260250462, 0.9975680336136015, 0.9912900273045901, 0.9867787723858191, 0.9960130405521623, 0.9969819475180631, 0.9981596713645237, 0.9938857400206453, 0.967679240015649, 0.9738901574858299, 0.9965844537105027, 0.9987241030988481, 0.9986285791687023, 0.9958451194907794, 0.9993183106743719, 0.9502726412726823, 0.9984415500350623, 0.980700012394229, 0.994038995485115, 0.9948888763329778, 0.9950598071591192, 0.9577687537569582, 0.9794871983369835, 0.9601987110361425, 0.9937903053636525, 0.9986182313782623, 0.9973673010322504, 0.9936029731459362, 0.9968266184845683, 0.9896232100987643, 0.9961463067732629, 0.9731591238387451, 0.9993799120263116, 0.9201088096258496, 0.9991010159821399, 0.9978736112707777, 0.9965324817502472, 0.9960569690470574, 0.9991554775137105, 0.9980220476899784, 0.9116588901725292, 0.9982479747954819, 0.9954515385712415, 0.9962909991783554, 0.9942054831445022, 0.9909225302240289, 0.9977392736833839, 0.9961270711845863, 0.9954851265899846, 0.9975895644748831, 0.9932216912374122, 0.9723738552192576, 0.9981852219180453, 0.9932111922501037, 0.9652772924293507, 0.9980674628589168, 0.9673745515812359, 0.9989449143299642, 0.9827685053920692, 0.9750668066743822, 0.9979021846975826, 0.9968811146762617, 0.9977481606852892, 0.9969477867240438, 0.9935360389268316, 0.9958112304622823, 0.9971124258553205, 0.9933338011531119, 0.997955176117687, 0.9868405944643535, 0.9975857800032873, 0.9979643344374385, 0.988944455146158, 0.9965712715945251, 0.980643154419863, 0.9980963563371729, 0.9804652036121035, 0.9877556467550836, 0.9955214628581408, 0.9921888420091722, 0.9968134220090482, 0.9981322866523239, 0.997433970067101, 0.9956656248050761, 0.9990704888988284, 0.9985965450729617, 0.9977151059073891, 0.9888708247687564, 0.9969674009962615, 0.9980672639891063, 0.9862204349519189, 0.9948213811964407, 0.9949119144912677, 0.9987158379380857, 0.9943450299243796, 0.9902457437697955, 0.9966620853972379, 0.9991735278813467, 0.9856713468589877, 0.9985433384613664, 0.9877654504232677, 0.9948118877358341, 0.6092394108792056, 0.9822895850190861, 0.9940416967023106, 0.9185152819706215, 0.9958118134481825, 0.9877920902600575, 0.9965721564493346, 0.9956728463628861, 0.9734504871485755, 0.988509259644658, 0.9674006501052308, 0.9985339530308835, 0.9981326813226545, 0.9915561104821891, 0.9930404319518128, 0.9957333016379796, 0.9612694234157749, 0.9890149323338273, 0.9988164783892086, 0.9948970440289551, 0.9988964259631803, 0.9992972494922986, 0.9964617614375675, 0.9965018203282423, 0.9563606310432965, 0.9958783712810223, 0.9839266986007649, 0.8479097215319368, 0.9899590063422736, 0.9802812558370179, 0.9972732568345369, 0.9951659752124975, 0.99849124986027, 0.9922413816469645, 0.9936902162867779, 0.9950844412086082, 0.9968085211897624, 0.9929831269387496, 0.9964012734540615, 0.9773350477508466, 0.9925055021485122, 0.8647041954489328, 0.993033028114913, 0.9983991602343951, 0.9971346840884642, 0.9985820469606804, 0.999231809121978, 0.9712466951400064, 0.995584212112859, 0.9969238423801775, 0.9946011509694728, 0.9976038410134631, 0.8344029168281423, 0.9989373634810396, 0.9971731472254788, 0.9933836424734556, 0.9994007752890122, 0.9378397982559074, 0.9909553623447797, 0.9971664493769029, 0.8248844077483477, 0.995438470753384, 0.9967249627362872, 0.9983893152372907, 0.9960100517422263, 0.9946300574145092, 0.9976407537690274, 0.9986767548035164, 0.9945624061524477, 0.8422534874328986, 0.9891905476360557, 0.9880148669715282, 0.995931533382759, 0.9573597325431983, 0.9685106862774823, 0.9973749667977527, 0.989880973652348, 0.9874496315166063, 0.9868466966179239, 0.9908557434720572, 0.9924923010437752, 0.9864478192250281, 0.9888100354665927, 0.9977484453876307, 0.9950397508675979, 0.9787864540695073, 0.9942734065320706, 0.9855756517605363, 0.9791476106543251, 0.998143080935005, 0.9971782152579266, 0.9743023743048119, 0.98621202361947, 0.9959290775033836, 0.998021951695805, 0.9898484125872948, 0.9953420549484583, 0.9972728157259322, 0.9973932982975349, 0.9944915693721105, 0.9930263654094843, 0.9898820168167, 0.9935651146096001, 0.9985749879855023, 0.9162484581417869, 0.9987669806749859, 0.9981655366616412, 0.9990982207943797, 0.9986444765800626, 0.977369183086474, 0.9964212340535489, 0.9984577509045525, 0.9859339821217388, 0.9561750718916282, 0.9807235097090468, 0.997401450015884, 0.9943009199494527, 0.9984824884558193, 0.9112466309381374, 0.9975243419845169, 0.9968169127605535, 0.9986876219385411, 0.9973885230654053, 0.9919477302830187, 0.9940263343869882, 0.9994994280102792, 0.9972049076171277, 0.9905021481685146, 0.9967485122953536, 0.9956492749398587, 0.9980432927158172, 0.9984752740463215, 0.9935566203262236, 0.9901140703961852, 0.9958623173698053, 0.9950620185908016, 0.9970961694156387, 0.9980871105949889, 0.9984349930492283, 0.9805867386751385, 0.9978673138916364, 0.9840569079159472, 0.9693842818754931, 0.99561037513012, 0.9976022318214823, 0.9960322729325068, 0.9941492880595907, 0.9946631464284965, 0.7362361764279686, 0.9944811215320093, 0.9965450424744946, 0.9984413317234995, 0.9476742343404873, 0.9981845247844277, 0.9966602497894651, 0.9978426531140646, 0.9942693425418657, 0.9874082374405797, 0.9949381123498824, 0.9902816384909332, 0.7564994430350117, 0.9973052493916733, 0.9928158910960547, 0.9941709265000274, 0.9931730631457608, 0.9972559177167997, 0.9971931928943546, 0.9980223005928439, 0.9993029534925422, 0.9985103357369042, 0.9838434335250742, 0.9975187069045215, 0.9952127963766886, 0.9976822651177284, 0.9986638685282351, 0.9972431903325284, 0.9930767849645684, 0.9791384180234367, 0.984893350602007, 0.9774860607800728, 0.9995929907581999, 0.9970476491819287, 0.9961658130139486, 0.9943751775972836, 0.978393207193222, 0.9926497616072071, 0.9870186881045977, 0.9978409472534502, 0.9978093219003529, 0.9935671879044176, 0.9814915067675087, 0.9987932475116973, 0.998139909093856, 0.9986868102343363, 0.9862077628963911, 0.9991729447991293, 0.9976530940860042, 0.9987075814607901, 0.9978186477129952, 0.9808042196161024, 0.9914650987715555, 0.9986519548956049, 0.9981788261169864, 0.9759907448871328, 0.9973579685936551, 0.8633224013647864, 0.993779937890258, 0.9954402960936403, 0.9520467608717303, 0.9912102806900096, 0.9989069316513159, 0.9965060028537799, 0.9934894503612476, 0.9870154274432195, 0.9954995294908211, 0.9957768354591263, 0.9950800729788063, 0.999609165473095, 0.9989168168816885, 0.9956941351126891, 0.9922847991475485, 0.9984205176526444, 0.9971358552592093], \"Term\": [\"abandon\", \"able\", \"accessible\", \"accident\", \"activity\", \"add\", \"additional\", \"advice\", \"affect\", \"ago\", \"agree\", \"air\", \"airport\", \"alight\", \"allegedly\", \"alone\", \"answer\", \"anyway\", \"anywhere\", \"app\", \"apparently\", \"argue\", \"arrange\", \"article\", \"ask\", \"assault\", \"available\", \"avoid\", \"away\", \"baby\", \"backwards\", \"bad\", \"base\", \"beat\", \"become\", \"behaviour\", \"believe\", \"bicycle\", \"big\", \"bill\", \"blame\", \"board\", \"book\", \"brand\", \"break\", \"bring\", \"brother\", \"build\", \"building\", \"bully\", \"bunch\", \"buy\", \"buying\", \"call\", \"card\", \"care\", \"career\", \"carpark\", \"carry\", \"case\", \"cash\", \"cause\", \"cb\", \"centre\", \"certain\", \"change\", \"charge\", \"chase\", \"cheap\", \"check\", \"child\", \"choice\", \"choose\", \"city\", \"claim\", \"clear\", \"close\", \"code\", \"come\", \"comment\", \"community\", \"company\", \"competition\", \"complain\", \"contact\", \"continue\", \"contract\", \"cook\", \"correct\", \"cost\", \"couple\", \"course\", \"cover\", \"covid\", \"crazy\", \"crime\", \"criminal\", \"currently\", \"cyclist\", \"dad\", \"dare\", \"datum\", \"day\", \"debate\", \"decent\", \"decide\", \"decline\", \"deem\", \"die\", \"difference\", \"different\", \"direction\", \"discount\", \"discover\", \"distance\", \"do\", \"dollar\", \"downvote\", \"drive\", \"driving\", \"due\", \"earn\", \"ease\", \"easily\", \"easy\", \"eat\", \"economy\", \"edit\", \"effort\", \"elderly\", \"else\", \"emergency\", \"end\", \"enough\", \"entry\", \"especially\", \"everyday\", \"exactly\", \"example\", \"exceed\", \"exit\", \"expand\", \"expect\", \"expensive\", \"experience\", \"extend\", \"face\", \"fact\", \"faq\", \"fare\", \"fault\", \"favourite\", \"feel\", \"find\", \"finding\", \"fine\", \"first\", \"fit\", \"floor\", \"fly\", \"focus\", \"follow\", \"force\", \"foreigner\", \"forget\", \"form\", \"free\", \"friend\", \"fuel\", \"funny\", \"generation\", \"get\", \"give\", \"go\", \"gon\", \"good\", \"google\", \"government\", \"grateful\", \"great\", \"green\", \"grow\", \"guard\", \"guide\", \"hail\", \"handle\", \"happen\", \"hard\", \"hate\", \"head\", \"health\", \"hear\", \"heart\", \"help\", \"hero\", \"high\", \"hire\", \"hit\", \"hold\", \"home\", \"hope\", \"hotline\", \"hour\", \"house\", \"human\", \"imagine\", \"improve\", \"include\", \"income\", \"indian\", \"industry\", \"information\", \"insist\", \"instead\", \"interest\", \"ish\", \"issue\", \"jerk\", \"job\", \"jump\", \"kick\", \"kid\", \"kind\", \"know\", \"land\", \"language\", \"large\", \"late\", \"launch\", \"law\", \"leader\", \"least\", \"leave\", \"let\", \"level\", \"license\", \"life\", \"lifestyle\", \"like\", \"likely\", \"limit\", \"literally\", \"live\", \"local\", \"location\", \"long\", \"look\", \"lose\", \"lot\", \"love\", \"low\", \"luckily\", \"m\", \"main\", \"make\", \"mall\", \"map\", \"mask\", \"maybe\", \"meal\", \"mean\", \"medical\", \"meet\", \"meme\", \"memory\", \"middle\", \"midnight\", \"mind\", \"minister\", \"minute\", \"miss\", \"mobile\", \"modern\", \"molest\", \"money\", \"month\", \"mother\", \"motorcycle\", \"move\", \"naturally\", \"necessary\", \"need\", \"net\", \"never\", \"new\", \"nice\", \"non\", \"norm\", \"notice\", \"ns\", \"nsf\", \"ntuc\", \"obvious\", \"offer\", \"office\", \"old\", \"one\", \"online\", \"operate\", \"operation\", \"opportunity\", \"option\", \"orchard\", \"otherwise\", \"owning\", \"pandemic\", \"part\", \"pass\", \"passenger\", \"pay\", \"perfectly\", \"period\", \"personal\", \"personally\", \"phone\", \"pity\", \"place\", \"plan\", \"play\", \"point\", \"pore\", \"position\", \"power\", \"praise\", \"prefer\", \"pretty\", \"price\", \"private\", \"private_hire\", \"probably\", \"problem\", \"process\", \"promo\", \"properly\", \"prove\", \"provide\", \"puke\", \"punch\", \"put\", \"quarantine\", \"quarter\", \"quick\", \"racist\", \"range\", \"rare\", \"rarely\", \"rather\", \"reach\", \"reaction\", \"realise\", \"realize\", \"rear\", \"reason\", \"reduce\", \"relative\", \"relatively\", \"release\", \"remember\", \"remove\", \"rent\", \"report\", \"require\", \"respect\", \"restaurant\", \"restriction\", \"return\", \"ride\", \"riding\", \"right\", \"risk\", \"road\", \"route\", \"rude\", \"rule\", \"run\", \"sad\", \"sadly\", \"safely\", \"salary\", \"save\", \"school\", \"screw\", \"seat\", \"second\", \"see\", \"seem\", \"send\", \"serve\", \"service\", \"share\", \"shift\", \"shit\", \"short\", \"show\", \"side\", \"sign\", \"significantly\", \"similar\", \"simple\", \"singaporean\", \"sit\", \"situation\", \"size\", \"small\", \"smell\", \"smile\", \"society\", \"sometimes\", \"soon\", \"sorry\", \"sound\", \"specialist\", \"specific\", \"spend\", \"stand\", \"star\", \"start\", \"station\", \"stay\", \"step\", \"stick\", \"story\", \"street\", \"street_hail\", \"student\", \"suffer\", \"suggest\", \"super\", \"supply\", \"support\", \"system\", \"take\", \"talk\", \"team\", \"tell\", \"term\", \"thank\", \"thing\", \"think\", \"thought\", \"thread\", \"ticket\", \"tighten\", \"time\", \"today\", \"top\", \"touch\", \"tour\", \"transportation\", \"trash\", \"travel\", \"trip\", \"true\", \"truly\", \"try\", \"turn\", \"understand\", \"unfortunately\", \"use\", \"usually\", \"vehicle\", \"victim\", \"video\", \"visit\", \"wait\", \"walk\", \"wallet\", \"want\", \"warning\", \"water\", \"wear\", \"wedding\", \"week\", \"well\", \"whole\", \"wife\", \"win\", \"window\", \"woman\", \"wonder\", \"work\", \"worker\", \"world\", \"worth\", \"wrong\", \"www\"]}, \"R\": 30, \"lambda.step\": 0.01, \"plot.opts\": {\"xlab\": \"PC1\", \"ylab\": \"PC2\"}, \"topic.order\": [20, 12, 5, 9, 14, 16, 6, 2, 8, 1, 15, 4, 18, 11, 3, 13, 17, 10, 7, 19]};\n",
       "\n",
       "function LDAvis_load_lib(url, callback){\n",
       "  var s = document.createElement('script');\n",
       "  s.src = url;\n",
       "  s.async = true;\n",
       "  s.onreadystatechange = s.onload = callback;\n",
       "  s.onerror = function(){console.warn(\"failed to load library \" + url);};\n",
       "  document.getElementsByTagName(\"head\")[0].appendChild(s);\n",
       "}\n",
       "\n",
       "if(typeof(LDAvis) !== \"undefined\"){\n",
       "   // already loaded: just create the visualization\n",
       "   !function(LDAvis){\n",
       "       new LDAvis(\"#\" + \"ldavis_el2108417266159198564058720361\", ldavis_el2108417266159198564058720361_data);\n",
       "   }(LDAvis);\n",
       "}else if(typeof define === \"function\" && define.amd){\n",
       "   // require.js is available: use it to load d3/LDAvis\n",
       "   require.config({paths: {d3: \"https://d3js.org/d3.v5\"}});\n",
       "   require([\"d3\"], function(d3){\n",
       "      window.d3 = d3;\n",
       "      LDAvis_load_lib(\"https://cdn.jsdelivr.net/gh/bmabey/pyLDAvis@3.2.2/pyLDAvis/js/ldavis.v3.0.0.js\", function(){\n",
       "        new LDAvis(\"#\" + \"ldavis_el2108417266159198564058720361\", ldavis_el2108417266159198564058720361_data);\n",
       "      });\n",
       "    });\n",
       "}else{\n",
       "    // require.js not available: dynamically load d3 & LDAvis\n",
       "    LDAvis_load_lib(\"https://d3js.org/d3.v5.js\", function(){\n",
       "         LDAvis_load_lib(\"https://cdn.jsdelivr.net/gh/bmabey/pyLDAvis@3.2.2/pyLDAvis/js/ldavis.v3.0.0.js\", function(){\n",
       "                 new LDAvis(\"#\" + \"ldavis_el2108417266159198564058720361\", ldavis_el2108417266159198564058720361_data);\n",
       "            })\n",
       "         });\n",
       "}\n",
       "</script>"
      ],
      "text/plain": [
       "PreparedData(topic_coordinates=              x         y  topics  cluster       Freq\n",
       "topic                                                \n",
       "19    -0.252034 -0.366408       1        1  14.117702\n",
       "11    -0.235550  0.272185       2        1  13.456568\n",
       "4     -0.228378  0.105924       3        1  12.675618\n",
       "8     -0.137204  0.010897       4        1   8.270505\n",
       "13    -0.063338  0.002674       5        1   6.028817\n",
       "15    -0.013068  0.000081       6        1   4.906653\n",
       "5      0.001855 -0.000495       7        1   4.791186\n",
       "1     -0.014053  0.000119       8        1   4.744780\n",
       "7      0.008752 -0.000678       9        1   4.269301\n",
       "0      0.023679 -0.001144      10        1   4.099323\n",
       "14     0.025457 -0.001172      11        1   3.973865\n",
       "3      0.056100 -0.001919      12        1   3.281739\n",
       "17     0.034633 -0.001412      13        1   3.213971\n",
       "10     0.076590 -0.002287      14        1   2.649345\n",
       "2      0.090766 -0.002510      15        1   2.323699\n",
       "12     0.101157 -0.002644      16        1   2.038616\n",
       "16     0.096669 -0.002577      17        1   1.841362\n",
       "9      0.113271 -0.002772      18        1   1.756661\n",
       "6      0.155566 -0.002942      19        1   0.893246\n",
       "18     0.159131 -0.002921      20        1   0.667044, topic_info=           Term         Freq        Total Category  logprob  loglift\n",
       "79      service  2244.000000  2244.000000  Default  30.0000  30.0000\n",
       "91         time  4240.000000  4240.000000  Default  29.0000  29.0000\n",
       "354        work  3555.000000  3555.000000  Default  28.0000  28.0000\n",
       "6           new  1468.000000  1468.000000  Default  27.0000  27.0000\n",
       "389     company  2468.000000  2468.000000  Default  26.0000  26.0000\n",
       "...         ...          ...          ...      ...      ...      ...\n",
       "12187  business     0.047671     1.544044  Topic20 -10.4937   1.5322\n",
       "1221    country     0.047655     1.540988  Topic20 -10.4941   1.5339\n",
       "1005   increase     0.047653     1.540627  Topic20 -10.4941   1.5341\n",
       "1070      allow     0.047653     1.540307  Topic20 -10.4941   1.5343\n",
       "1349     number     0.047652     1.540762  Topic20 -10.4941   1.5340\n",
       "\n",
       "[731 rows x 6 columns], token_table=      Topic      Freq        Term\n",
       "term                             \n",
       "786      11  0.905473     abandon\n",
       "692       1  0.998570        able\n",
       "488      16  0.976633  accessible\n",
       "880      10  0.996301    accident\n",
       "44        8  0.992467    activity\n",
       "...     ...       ...         ...\n",
       "744       2  0.998917      worker\n",
       "298      18  0.995694       world\n",
       "441       8  0.992285       worth\n",
       "893      10  0.998421       wrong\n",
       "511      16  0.997136         www\n",
       "\n",
       "[486 rows x 3 columns], R=30, lambda_step=0.01, plot_opts={'xlab': 'PC1', 'ylab': 'PC2'}, topic_order=[20, 12, 5, 9, 14, 16, 6, 2, 8, 1, 15, 4, 18, 11, 3, 13, 17, 10, 7, 19])"
      ]
     },
     "execution_count": 62,
     "metadata": {},
     "output_type": "execute_result"
    }
   ],
   "source": [
    "# Visualize the topics\n",
    "pyLDAvis.enable_notebook()\n",
    "vis = pyLDAvis.gensim.prepare(df_acovid_data_ldamodel,\n",
    "                              df_acovid_data_corpus, \n",
    "                              df_acovid_data_id2word)\n",
    "vis"
   ]
  },
  {
   "cell_type": "markdown",
   "metadata": {},
   "source": [
    "## All"
   ]
  },
  {
   "cell_type": "code",
   "execution_count": null,
   "metadata": {},
   "outputs": [],
   "source": [
    "# Visualize the topics\n",
    "pyLDAvis.enable_notebook()\n",
    "vis = pyLDAvis.gensim.prepare(df_all_data_ldamodel,\n",
    "                              df_all_data_corpus, \n",
    "                              df_all_data_id2word)\n",
    "vis"
   ]
  }
 ],
 "metadata": {
  "interpreter": {
   "hash": "097a94cc1bfc5a0a380b63d1eb45dc603bb0f63840061a2276c4020d01d7c102"
  },
  "kernelspec": {
   "display_name": "Python 3.7.0 64-bit",
   "name": "python3"
  },
  "language_info": {
   "codemirror_mode": {
    "name": "ipython",
    "version": 3
   },
   "file_extension": ".py",
   "mimetype": "text/x-python",
   "name": "python",
   "nbconvert_exporter": "python",
   "pygments_lexer": "ipython3",
   "version": "3.7.0"
  },
  "orig_nbformat": 4
 },
 "nbformat": 4,
 "nbformat_minor": 2
}
