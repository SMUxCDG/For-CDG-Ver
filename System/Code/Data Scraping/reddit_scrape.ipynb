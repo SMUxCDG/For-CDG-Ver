{
    "cells": [
        {
            "cell_type": "code",
            "execution_count": 1,
            "source": [
                "import praw\r\n",
                "import json\r\n",
                "from datetime import datetime\r\n",
                "import pytz"
            ],
            "outputs": [],
            "metadata": {}
        },
        {
            "cell_type": "code",
            "execution_count": 2,
            "source": [
                "reddit = praw.Reddit(client_id='X7CNXZuB-dDBkiFMNRsLkg', \r\n",
                "                     client_secret='oh1QHjnzAHAT6Zfk3v8OiuDhKkju8w',\r\n",
                "                     user_agent='Scaping Example')\r\n"
            ],
            "outputs": [],
            "metadata": {}
        },
        {
            "cell_type": "markdown",
            "source": [
                "Create Function to scrape reddit"
            ],
            "metadata": {}
        },
        {
            "cell_type": "code",
            "execution_count": 4,
            "source": [
                "def scrape_comments(subreddit, keyword):\r\n",
                "    sub = reddit.subreddit(subreddit)\r\n",
                "\r\n",
                "    sub_dict = {}\r\n",
                "    sub_lst = []\r\n",
                "    sub_comments = []\r\n",
                "    comment_dict = {}    \r\n",
                "\r\n",
                "    for submission in sub.search(keyword, limit = None):\r\n",
                "        sub_dict['title'] = submission.title\r\n",
                "        sub_dict['time created'] = pytz.utc.localize(datetime.utcfromtimestamp(submission.created_utc)).astimezone(pytz.timezone(\"Asia/Singapore\")).strftime(\"%d/%m/%Y\")\r\n",
                "        sub_dict['score']= submission.score\r\n",
                "        sub_dict['id'] = submission.id\r\n",
                "        sub_dict['url']= submission.url\r\n",
                "\r\n",
                "        submission.comments.replace_more(limit = None) \r\n",
                "        for comment in submission.comments.list():\r\n",
                "            comment_dict['time created'] = pytz.utc.localize(datetime.utcfromtimestamp(comment.created_utc)).astimezone(pytz.timezone(\"Asia/Singapore\")).strftime(\"%d/%m/%Y\")\r\n",
                "            comment_dict['author'] = str(comment.author)\r\n",
                "            comment_dict['score'] = comment.score\r\n",
                "            comment_dict['comment'] = comment.body\r\n",
                "            sub_comments.append(comment_dict)\r\n",
                "            comment_dict = {}\r\n",
                "        sub_dict['comments'] = sub_comments\r\n",
                "\r\n",
                "        sub_comments = []\r\n",
                "        sub_lst.append(sub_dict)\r\n",
                "        sub_dict = {}\r\n",
                "        comment_dict = {}\r\n",
                "\r\n",
                "    with open(f\"../../Data Collection and Preprocessing/Scrapping/Reddit/{subreddit}_{keyword}.json\", 'w', encoding = 'utf-8') as file:\r\n",
                "        file.write(json.dumps(sub_lst, indent=4))\r\n"
            ],
            "outputs": [],
            "metadata": {}
        },
        {
            "cell_type": "markdown",
            "source": [
                "1. Scrap from Singapore Subreddit"
            ],
            "metadata": {}
        },
        {
            "cell_type": "code",
            "execution_count": 68,
            "source": [
                "scrape_comments('Singapore', 'taxi')"
            ],
            "outputs": [],
            "metadata": {}
        },
        {
            "cell_type": "code",
            "execution_count": 69,
            "source": [
                "scrape_comments('Singapore', 'rent-a-car')"
            ],
            "outputs": [],
            "metadata": {}
        },
        {
            "cell_type": "code",
            "execution_count": 70,
            "source": [
                "scrape_comments('Singapore', 'car rental')"
            ],
            "outputs": [],
            "metadata": {}
        },
        {
            "cell_type": "code",
            "execution_count": 73,
            "source": [
                "scrape_comments('Singapore', 'bus')"
            ],
            "outputs": [],
            "metadata": {}
        },
        {
            "cell_type": "code",
            "execution_count": null,
            "source": [
                "scrape_comments('Singapore', 'mrt')"
            ],
            "outputs": [],
            "metadata": {}
        },
        {
            "cell_type": "code",
            "execution_count": null,
            "source": [
                "scrape_comments('Singapore', 'public transport')"
            ],
            "outputs": [],
            "metadata": {}
        },
        {
            "cell_type": "code",
            "execution_count": null,
            "source": [
                "scrape_comments('Singapore', 'transport demand')"
            ],
            "outputs": [],
            "metadata": {}
        },
        {
            "cell_type": "code",
            "execution_count": null,
            "source": [
                "scrape_comments('Singapore', 'transport')"
            ],
            "outputs": [],
            "metadata": {}
        },
        {
            "cell_type": "code",
            "execution_count": null,
            "source": [
                "scrape_comments('Singapore', 'demand')"
            ],
            "outputs": [],
            "metadata": {}
        },
        {
            "cell_type": "markdown",
            "source": [
                "2. Scrape from r/askSingapore subreddit"
            ],
            "metadata": {}
        },
        {
            "cell_type": "code",
            "execution_count": null,
            "source": [
                "scrape_comments('askSingapore', 'taxi')"
            ],
            "outputs": [],
            "metadata": {}
        },
        {
            "cell_type": "code",
            "execution_count": null,
            "source": [
                "scrape_comments('askSingapore', 'comfortdelgro')"
            ],
            "outputs": [],
            "metadata": {}
        },
        {
            "cell_type": "code",
            "execution_count": null,
            "source": [
                "scrape_comments('askSingapore', 'rent-a-car')"
            ],
            "outputs": [],
            "metadata": {}
        },
        {
            "cell_type": "code",
            "execution_count": null,
            "source": [
                "scrape_comments('askSingapore', 'car rental')"
            ],
            "outputs": [],
            "metadata": {}
        },
        {
            "cell_type": "code",
            "execution_count": null,
            "source": [
                "scrape_comments('askSingapore', 'bus')"
            ],
            "outputs": [],
            "metadata": {}
        },
        {
            "cell_type": "code",
            "execution_count": null,
            "source": [
                "scrape_comments('askSingapore', 'mrt')"
            ],
            "outputs": [],
            "metadata": {}
        },
        {
            "cell_type": "code",
            "execution_count": null,
            "source": [
                "scrape_comments('askSingapore', 'public transport')"
            ],
            "outputs": [],
            "metadata": {}
        },
        {
            "cell_type": "code",
            "execution_count": 5,
            "source": [
                "scrape_comments('askSingapore', 'transport demand')"
            ],
            "outputs": [],
            "metadata": {}
        },
        {
            "cell_type": "code",
            "execution_count": null,
            "source": [
                "scrape_comments('askSingapore', 'transport')"
            ],
            "outputs": [],
            "metadata": {}
        },
        {
            "cell_type": "code",
            "execution_count": null,
            "source": [
                "scrape_comments('askSingapore', 'demand')"
            ],
            "outputs": [],
            "metadata": {}
        }
    ],
    "metadata": {
        "orig_nbformat": 4,
        "language_info": {
            "name": "python",
            "version": "3.7.0",
            "mimetype": "text/x-python",
            "codemirror_mode": {
                "name": "ipython",
                "version": 3
            },
            "pygments_lexer": "ipython3",
            "nbconvert_exporter": "python",
            "file_extension": ".py"
        },
        "kernelspec": {
            "name": "python3",
            "display_name": "Python 3.7.0 64-bit"
        },
        "interpreter": {
            "hash": "097a94cc1bfc5a0a380b63d1eb45dc603bb0f63840061a2276c4020d01d7c102"
        }
    },
    "nbformat": 4,
    "nbformat_minor": 2
}